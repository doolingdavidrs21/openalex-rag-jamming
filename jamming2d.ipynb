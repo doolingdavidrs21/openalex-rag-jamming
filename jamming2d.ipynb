{
 "cells": [
  {
   "cell_type": "code",
   "execution_count": 2,
   "id": "c7392a48-4e42-44c7-87bd-cefed1283b0e",
   "metadata": {},
   "outputs": [],
   "source": [
    "from pyalex import (\n",
    "    Works, Authors, Sources,\n",
    "    Institutions, Concepts, Publishers, Funders\n",
    ")\n",
    "import pyalex\n",
    "import pandas as pd\n",
    "import numpy as np\n",
    "pyalex.config.email = \"david@rs21.io\"\n",
    "\n",
    "from flair.embeddings import DocumentPoolEmbeddings\n",
    "from flair.data import Sentence\n",
    "from flair.embeddings import SentenceTransformerDocumentEmbeddings\n",
    "\n",
    "EMBEDDING_MODEL_1 = \"all-mpnet-base-v2\" \n",
    "\n",
    "# this one is also good: all-MiniLM-L6-v2\n",
    "EMBEDDING_MODEL_2 = \"all-MiniLM-L6-v2\"\n",
    "SENT_EMBEDDINGS_1 = SentenceTransformerDocumentEmbeddings(EMBEDDING_MODEL_1)\n",
    "SENT_EMBEDDINGS_2 = SentenceTransformerDocumentEmbeddings(EMBEDDING_MODEL_2)\n",
    "DOC_EMBEDDINGS= DocumentPoolEmbeddings([SENT_EMBEDDINGS_2])\n",
    "\n",
    "import torch\n",
    "from tqdm import tqdm\n",
    "import yake\n",
    "import umap.umap_ as umap\n",
    "from sklearn import metrics\n",
    "import matplotlib.pyplot as plt\n",
    "from sklearn.mixture import GaussianMixture as GMM\n",
    "import altair as alt\n",
    "import math\n",
    "import plotly.express as px\n",
    "import textwrap\n",
    "import streamlit as st"
   ]
  },
  {
   "cell_type": "code",
   "execution_count": 3,
   "id": "7a2b9cd6-fd50-417d-bd92-4817253abe98",
   "metadata": {},
   "outputs": [],
   "source": [
    "import os\n",
    "os.environ[\"OPENAI_API_KEY\"] = st.secrets[\"OPENAI_API_KEY\"]"
   ]
  },
  {
   "cell_type": "code",
   "execution_count": 4,
   "id": "85869991-4c06-4151-a361-2e1f871acd9c",
   "metadata": {},
   "outputs": [],
   "source": [
    "search_term = 'jamming'\n",
    "search_term = 'radar jamming and deception|electronic warfare|Network-centric warfare|Air-to-air missile'\n",
    "search_term = ('radar jamming and deception|electronic warfare|Network-centric warfare|missile guidance' +\n",
    "               '|Robot manipulator|Automatic target recognition' + \n",
    "              '|Pulsed power|High-energy X-rays' + \n",
    "              '|Ballistic missile|Air-to-air missile' + \n",
    "              '|terminal guidance')\n",
    "jamming_concepts = Concepts().\\\n",
    "search_filter(display_name=search_term).get()"
   ]
  },
  {
   "cell_type": "code",
   "execution_count": 5,
   "id": "a45b9b5a-9af7-4594-9302-e1ef9dec37e8",
   "metadata": {},
   "outputs": [
    {
     "data": {
      "text/plain": [
       "[('https://openalex.org/C2985527887', 'Robot manipulator'),\n",
       " ('https://openalex.org/C97039730', 'Pulsed power'),\n",
       " ('https://openalex.org/C522053795', 'Missile guidance'),\n",
       " ('https://openalex.org/C117623542', 'Automatic target recognition'),\n",
       " ('https://openalex.org/C122136912', 'Ballistic missile'),\n",
       " ('https://openalex.org/C183838350', 'High-energy X-rays'),\n",
       " ('https://openalex.org/C176381164', 'Radar jamming and deception'),\n",
       " ('https://openalex.org/C133082901', 'Electronic warfare'),\n",
       " ('https://openalex.org/C2777047555', 'Terminal guidance'),\n",
       " ('https://openalex.org/C2781187084', 'Network-centric warfare'),\n",
       " ('https://openalex.org/C202802212', 'Air-to-air missile')]"
      ]
     },
     "execution_count": 5,
     "metadata": {},
     "output_type": "execute_result"
    }
   ],
   "source": [
    "concepts = []\n",
    "for i in range(len(jamming_concepts)):\n",
    "    id_, display_name = jamming_concepts[i]['id'], jamming_concepts[i]['display_name']\n",
    "    concepts.append((id_, display_name))\n",
    "concepts"
   ]
  },
  {
   "cell_type": "code",
   "execution_count": 6,
   "id": "e99f0d2a-5390-4304-91dd-39dfe130ec81",
   "metadata": {},
   "outputs": [],
   "source": [
    "def process_works_list(worklist:list):\n",
    "    \"\"\"\n",
    "    transforms the \n",
    "    works list into a dataframe.\n",
    "    \"\"\"\n",
    "    abstracts_dict = {h[\"id\"]:h[\"abstract\"] for h in worklist}\n",
    "    df = pd.DataFrame.from_records(worklist)\n",
    "    del df['abstract_inverted_index']\n",
    "    df['abstract'] = df['id'].map(abstracts_dict)\n",
    "   # df['author_affils'] = df['authorships'].apply(get_authors_and_affils)\n",
    "    return df"
   ]
  },
  {
   "cell_type": "code",
   "execution_count": 7,
   "id": "4bef111c-f0a3-4635-89de-db6e2b0095d5",
   "metadata": {},
   "outputs": [
    {
     "name": "stdout",
     "output_type": "stream",
     "text": [
      "https://openalex.org/C2985527887 9898\n",
      "https://openalex.org/C97039730 13302\n",
      "https://openalex.org/C522053795 6247\n",
      "https://openalex.org/C117623542 3360\n",
      "https://openalex.org/C122136912 6049\n",
      "https://openalex.org/C183838350 1134\n",
      "https://openalex.org/C176381164 2593\n",
      "https://openalex.org/C133082901 3254\n",
      "https://openalex.org/C2777047555 1364\n",
      "https://openalex.org/C2781187084 1808\n",
      "https://openalex.org/C202802212 1322\n"
     ]
    }
   ],
   "source": [
    "for i in range(len(jamming_concepts)):\n",
    "    print(jamming_concepts[i]['id'], jamming_concepts[i]['works_count'])\n"
   ]
  },
  {
   "cell_type": "code",
   "execution_count": 8,
   "id": "b566652e-bbc2-4129-8fa7-7126f222f1d5",
   "metadata": {},
   "outputs": [],
   "source": [
    "def get_concept_frame(concepts_list:list, i:int):\n",
    "    \"\"\"\n",
    "    takes a list of Concepts() results and an index\n",
    "    and forms the pagination object to retrive the \n",
    "    records\n",
    "    \"\"\"\n",
    "    pager = Works().filter(publication_year='>2016',\n",
    "    #concepts={\"id\":f\"{concepts_list[i]['id']}\"}).filter(authorships={\"institutions\":{\"country_code\":\"CN\"}}).\\\n",
    "    #paginate(per_page=200,n_max=None)\n",
    "    concepts={\"id\":f\"{concepts_list[i]['id']}\"}).\\\n",
    "    paginate(per_page=200,n_max=None)\n",
    "    df = pd.DataFrame()\n",
    "    for page in tqdm(pager):\n",
    "        dfpage = process_works_list(page)\n",
    "        df = pd.concat([df, dfpage], ignore_index=True)\n",
    "        df.drop_duplicates(subset='id', keep='first',inplace=True)\n",
    "    return df"
   ]
  },
  {
   "cell_type": "code",
   "execution_count": 9,
   "id": "8c65c6fe-fbb1-4a6b-99a6-b4991676188d",
   "metadata": {},
   "outputs": [
    {
     "name": "stderr",
     "output_type": "stream",
     "text": [
      "12it [00:22,  1.86s/it]\n",
      "13it [00:21,  1.68s/it]\n",
      "6it [00:10,  1.72s/it]\n",
      "6it [00:10,  1.76s/it]\n",
      "5it [00:08,  1.62s/it]\n",
      "1it [00:01,  1.84s/it]\n",
      "4it [00:06,  1.64s/it]\n",
      "4it [00:06,  1.62s/it]\n",
      "2it [00:03,  1.75s/it]\n",
      "2it [00:03,  1.66s/it]\n",
      "1it [00:01,  1.54s/it]\n"
     ]
    }
   ],
   "source": [
    "frames_list = []\n",
    "for i in range(len(jamming_concepts)):\n",
    "    df = get_concept_frame(jamming_concepts, i)\n",
    "    frames_list.append(df)"
   ]
  },
  {
   "cell_type": "code",
   "execution_count": 10,
   "id": "18a03d76-ab52-4937-871b-9925ab809609",
   "metadata": {},
   "outputs": [
    {
     "name": "stdout",
     "output_type": "stream",
     "text": [
      "(9748, 42)\n"
     ]
    }
   ],
   "source": [
    "dftop = pd.concat(frames_list,\n",
    "                  ignore_index=True)\n",
    "dftop.drop_duplicates(subset='id', keep='first', \n",
    "                      inplace=True)\n",
    "\n",
    "dftop.set_index('id', inplace=True, drop=False)\n",
    "\n",
    "dfall = dftop\n",
    "print(dfall.shape)\n",
    "\n",
    "dfall['content'] = dfall['title'] + \". \" + dfall['abstract']\n",
    "\n",
    "dfrecords = dfall[~dfall['content'].isna()].copy()"
   ]
  },
  {
   "cell_type": "code",
   "execution_count": 11,
   "id": "6ebbefb5-9a6e-4e78-9f3b-6195dbcafbdc",
   "metadata": {},
   "outputs": [],
   "source": [
    "def get_keywords(text:str, top:int=7, stopwords=None):\n",
    "    \"\"\"\n",
    "    takes a blob of text and \n",
    "    returns the top **top** \n",
    "    keywords as a list\n",
    "    \"\"\"\n",
    "    kw_extractor = yake.KeywordExtractor(top=top, stopwords=stopwords)\n",
    "    keywords = kw_extractor.extract_keywords(text)\n",
    "    return [p[0] for p in keywords]"
   ]
  },
  {
   "cell_type": "code",
   "execution_count": 12,
   "id": "e7c2e6dc-cd32-42fe-bad2-edd725ccfc15",
   "metadata": {},
   "outputs": [],
   "source": [
    "def get_top_concepts(concept_list:list,score:float=.6):\n",
    "    \"\"\"\n",
    "    takes a list of concept dictionaries \n",
    "    returns the top **top** display_names;\n",
    "    concepts whose score is >= score\n",
    "    \"\"\"\n",
    "    return [c['display_name'] for c in concept_list if c['score'] >= score]"
   ]
  },
  {
   "cell_type": "code",
   "execution_count": 13,
   "id": "1ae0fcc6-d88c-4673-8941-529373a20161",
   "metadata": {},
   "outputs": [],
   "source": [
    "dfrecords['keywords'] = dfrecords['content'].apply(get_keywords)\n",
    "dfrecords['top_concepts'] = dfrecords['concepts'].apply(get_top_concepts)"
   ]
  },
  {
   "cell_type": "code",
   "execution_count": 14,
   "id": "bdd365a5-13fd-48ee-87d8-744a36734afe",
   "metadata": {},
   "outputs": [],
   "source": [
    "texts = dfrecords['content'].str.lower().values.tolist()\n",
    "#dfrecords.to_csv('jamming.csv')"
   ]
  },
  {
   "cell_type": "code",
   "execution_count": 15,
   "id": "ab671fd4-3bf3-42d0-9acb-e590c807914d",
   "metadata": {},
   "outputs": [],
   "source": [
    "def get_content_embeddings(dfrecords:pd.DataFrame) -> pd.DataFrame:\n",
    "    \"\"\"\n",
    "    passes the preprocessed mitigation strings\n",
    "    data through the embedding model to produce the vector\n",
    "    space representation of each pet mitigation.\n",
    "    \"\"\"\n",
    "    sent = Sentence(\"The grass is green.\")\n",
    "    DOC_EMBEDDINGS.embed(sent)\n",
    "    texts = dfrecords[\"content\"].str.lower().values.tolist()\n",
    "    all_descriptions = np.empty((len(texts), len(sent.embedding)))\n",
    "    for i in tqdm(range(len(texts))):\n",
    "        sent = Sentence(texts[i])\n",
    "        DOC_EMBEDDINGS.embed(sent)\n",
    "        all_descriptions[i, :] = sent.embedding.cpu().numpy()\n",
    "        # gc.collect()\n",
    "        torch.cuda.empty_cache()\n",
    "    dfcontentvectors = pd.DataFrame.from_records(all_descriptions, index=dfrecords.index)\n",
    "    return dfcontentvectors"
   ]
  },
  {
   "cell_type": "code",
   "execution_count": 16,
   "id": "7dbcd552-bb18-4eb2-8491-06ba885ae905",
   "metadata": {},
   "outputs": [
    {
     "name": "stderr",
     "output_type": "stream",
     "text": [
      "100%|█████████████████████████████████████████████████████████████████████| 8045/8045 [01:50<00:00, 72.91it/s]\n"
     ]
    }
   ],
   "source": [
    "dfcontentvectors = get_content_embeddings(dfrecords)"
   ]
  },
  {
   "cell_type": "code",
   "execution_count": 17,
   "id": "65597820-9a02-4525-a620-6f0ee8093c4b",
   "metadata": {},
   "outputs": [],
   "source": [
    "#umap.UMAP?\n",
    "N_COMPONENTS = 2 # can visualize this way\n",
    "umap_reducer = umap.UMAP(n_components=N_COMPONENTS,\n",
    "                       #  metric='euclidean')\n",
    "                         random_state=1234,\n",
    "                         metric='cosine')  # can experiment with this metric as well as the other \n",
    "# parameters\n",
    "# to see what other literature is in the same information space, we need to keep this umap_reducer \n",
    "# object as well as the gmm model below.\n",
    "\n",
    "# Apply UMAP to the vectorized strings\n",
    "reduced_vectors = umap_reducer.fit_transform(dfcontentvectors.to_numpy())\n",
    "dfreduced = pd.DataFrame.from_records(reduced_vectors, \n",
    "                index=dfcontentvectors.index)\n",
    "dfreduced.columns = ['x','y']"
   ]
  },
  {
   "cell_type": "markdown",
   "id": "02526bb5-c21b-422d-b32f-84dfcd98a7c6",
   "metadata": {},
   "source": [
    "# use hdbscan to cluster"
   ]
  },
  {
   "cell_type": "code",
   "execution_count": 18,
   "id": "ba79a32f-3e6a-4f1a-b999-316e9dbd8344",
   "metadata": {},
   "outputs": [],
   "source": [
    "import hdbscan\n",
    "\n",
    "hdbscan_args = {'min_cluster_size': 15,\n",
    "                            'metric': 'euclidean',\n",
    "                            'cluster_selection_method': 'eom',\n",
    "                            'cluster_selection_epsilon': 0.1\n",
    "               }\n",
    "\n",
    "cluster = hdbscan.HDBSCAN(**hdbscan_args).fit(dfreduced[['x','y']].to_numpy())\n",
    "\n",
    "dfreduced['cluster'] = cluster.labels_\n",
    "dfreduced['probability'] = cluster.probabilities_\n",
    "\n",
    "dfpapers = dfrecords.merge(dfreduced, left_index=True,\n",
    "                           right_index=True)"
   ]
  },
  {
   "cell_type": "code",
   "execution_count": 19,
   "id": "5c3e3136-ccce-43bc-ba2f-409731ddbddb",
   "metadata": {},
   "outputs": [
    {
     "data": {
      "text/html": [
       "<div>\n",
       "<style scoped>\n",
       "    .dataframe tbody tr th:only-of-type {\n",
       "        vertical-align: middle;\n",
       "    }\n",
       "\n",
       "    .dataframe tbody tr th {\n",
       "        vertical-align: top;\n",
       "    }\n",
       "\n",
       "    .dataframe thead th {\n",
       "        text-align: right;\n",
       "    }\n",
       "</style>\n",
       "<table border=\"1\" class=\"dataframe\">\n",
       "  <thead>\n",
       "    <tr style=\"text-align: right;\">\n",
       "      <th></th>\n",
       "      <th>id</th>\n",
       "      <th>doi</th>\n",
       "      <th>title</th>\n",
       "      <th>display_name</th>\n",
       "      <th>publication_year</th>\n",
       "      <th>publication_date</th>\n",
       "      <th>ids</th>\n",
       "      <th>language</th>\n",
       "      <th>primary_location</th>\n",
       "      <th>type</th>\n",
       "      <th>...</th>\n",
       "      <th>fulltext_origin</th>\n",
       "      <th>abstract</th>\n",
       "      <th>is_authors_truncated</th>\n",
       "      <th>content</th>\n",
       "      <th>keywords</th>\n",
       "      <th>top_concepts</th>\n",
       "      <th>x</th>\n",
       "      <th>y</th>\n",
       "      <th>cluster</th>\n",
       "      <th>probability</th>\n",
       "    </tr>\n",
       "  </thead>\n",
       "  <tbody>\n",
       "    <tr>\n",
       "      <th>0</th>\n",
       "      <td>https://openalex.org/W1517236425</td>\n",
       "      <td>https://doi.org/10.1201/9781003062714</td>\n",
       "      <td>Neural Network Control Of Robot Manipulators A...</td>\n",
       "      <td>Neural Network Control Of Robot Manipulators A...</td>\n",
       "      <td>2020</td>\n",
       "      <td>2020-08-13</td>\n",
       "      <td>{'openalex': 'https://openalex.org/W1517236425...</td>\n",
       "      <td>en</td>\n",
       "      <td>{'is_oa': False, 'landing_page_url': 'https://...</td>\n",
       "      <td>book</td>\n",
       "      <td>...</td>\n",
       "      <td>NaN</td>\n",
       "      <td>There has been great interest in \"universal co...</td>\n",
       "      <td>NaN</td>\n",
       "      <td>Neural Network Control Of Robot Manipulators A...</td>\n",
       "      <td>[Robot Manipulators, Neural network controller...</td>\n",
       "      <td>[Robot manipulator, Artificial neural network]</td>\n",
       "      <td>12.853262</td>\n",
       "      <td>-5.100251</td>\n",
       "      <td>3</td>\n",
       "      <td>1.0</td>\n",
       "    </tr>\n",
       "    <tr>\n",
       "      <th>1</th>\n",
       "      <td>https://openalex.org/W2787504052</td>\n",
       "      <td>https://doi.org/10.1109/tie.2018.2803773</td>\n",
       "      <td>Adaptive Parameter Estimation and Control Desi...</td>\n",
       "      <td>Adaptive Parameter Estimation and Control Desi...</td>\n",
       "      <td>2018</td>\n",
       "      <td>2018-10-01</td>\n",
       "      <td>{'openalex': 'https://openalex.org/W2787504052...</td>\n",
       "      <td>en</td>\n",
       "      <td>{'is_oa': False, 'landing_page_url': 'https://...</td>\n",
       "      <td>article</td>\n",
       "      <td>...</td>\n",
       "      <td>ngrams</td>\n",
       "      <td>For parameter identifications of robot systems...</td>\n",
       "      <td>NaN</td>\n",
       "      <td>Adaptive Parameter Estimation and Control Desi...</td>\n",
       "      <td>[Adaptive Parameter Estimation, Control Design...</td>\n",
       "      <td>[Convergence (economics), Control theory (soci...</td>\n",
       "      <td>12.647867</td>\n",
       "      <td>-5.867312</td>\n",
       "      <td>3</td>\n",
       "      <td>1.0</td>\n",
       "    </tr>\n",
       "    <tr>\n",
       "      <th>2</th>\n",
       "      <td>https://openalex.org/W2591194352</td>\n",
       "      <td>https://doi.org/10.1109/tie.2017.2674624</td>\n",
       "      <td>Manipulability Optimization of Redundant Manip...</td>\n",
       "      <td>Manipulability Optimization of Redundant Manip...</td>\n",
       "      <td>2017</td>\n",
       "      <td>2017-06-01</td>\n",
       "      <td>{'openalex': 'https://openalex.org/W2591194352...</td>\n",
       "      <td>en</td>\n",
       "      <td>{'is_oa': False, 'landing_page_url': 'https://...</td>\n",
       "      <td>article</td>\n",
       "      <td>...</td>\n",
       "      <td>ngrams</td>\n",
       "      <td>For solving the singularity problem arising in...</td>\n",
       "      <td>NaN</td>\n",
       "      <td>Manipulability Optimization of Redundant Manip...</td>\n",
       "      <td>[dynamic neural network, Manipulability Optimi...</td>\n",
       "      <td>[]</td>\n",
       "      <td>12.589683</td>\n",
       "      <td>-4.873707</td>\n",
       "      <td>3</td>\n",
       "      <td>1.0</td>\n",
       "    </tr>\n",
       "    <tr>\n",
       "      <th>3</th>\n",
       "      <td>https://openalex.org/W2418767125</td>\n",
       "      <td>https://doi.org/10.1109/tsmc.2016.2562506</td>\n",
       "      <td>Neural Network Control of a Flexible Robotic M...</td>\n",
       "      <td>Neural Network Control of a Flexible Robotic M...</td>\n",
       "      <td>2017</td>\n",
       "      <td>2017-08-01</td>\n",
       "      <td>{'openalex': 'https://openalex.org/W2418767125...</td>\n",
       "      <td>en</td>\n",
       "      <td>{'is_oa': False, 'landing_page_url': 'https://...</td>\n",
       "      <td>article</td>\n",
       "      <td>...</td>\n",
       "      <td>ngrams</td>\n",
       "      <td>Adaptive neural networks (NNs) are employed fo...</td>\n",
       "      <td>NaN</td>\n",
       "      <td>Neural Network Control of a Flexible Robotic M...</td>\n",
       "      <td>[Flexible Robotic Manipulator, Flexible Roboti...</td>\n",
       "      <td>[Spring (device)]</td>\n",
       "      <td>12.971470</td>\n",
       "      <td>-5.318573</td>\n",
       "      <td>3</td>\n",
       "      <td>1.0</td>\n",
       "    </tr>\n",
       "    <tr>\n",
       "      <th>4</th>\n",
       "      <td>https://openalex.org/W2740675802</td>\n",
       "      <td>https://doi.org/10.1109/tcyb.2017.2711961</td>\n",
       "      <td>Adaptive Neural Network Control of a Robotic M...</td>\n",
       "      <td>Adaptive Neural Network Control of a Robotic M...</td>\n",
       "      <td>2017</td>\n",
       "      <td>2017-10-01</td>\n",
       "      <td>{'openalex': 'https://openalex.org/W2740675802...</td>\n",
       "      <td>en</td>\n",
       "      <td>{'is_oa': False, 'landing_page_url': 'https://...</td>\n",
       "      <td>article</td>\n",
       "      <td>...</td>\n",
       "      <td>ngrams</td>\n",
       "      <td>The control problem of an uncertain n -degrees...</td>\n",
       "      <td>NaN</td>\n",
       "      <td>Adaptive Neural Network Control of a Robotic M...</td>\n",
       "      <td>[Time-Varying Output Constraints, Output Const...</td>\n",
       "      <td>[Control theory (sociology), Lyapunov function...</td>\n",
       "      <td>13.228225</td>\n",
       "      <td>-5.346364</td>\n",
       "      <td>3</td>\n",
       "      <td>1.0</td>\n",
       "    </tr>\n",
       "  </tbody>\n",
       "</table>\n",
       "<p>5 rows × 49 columns</p>\n",
       "</div>"
      ],
      "text/plain": [
       "                                 id   \n",
       "0  https://openalex.org/W1517236425  \\\n",
       "1  https://openalex.org/W2787504052   \n",
       "2  https://openalex.org/W2591194352   \n",
       "3  https://openalex.org/W2418767125   \n",
       "4  https://openalex.org/W2740675802   \n",
       "\n",
       "                                         doi   \n",
       "0      https://doi.org/10.1201/9781003062714  \\\n",
       "1   https://doi.org/10.1109/tie.2018.2803773   \n",
       "2   https://doi.org/10.1109/tie.2017.2674624   \n",
       "3  https://doi.org/10.1109/tsmc.2016.2562506   \n",
       "4  https://doi.org/10.1109/tcyb.2017.2711961   \n",
       "\n",
       "                                               title   \n",
       "0  Neural Network Control Of Robot Manipulators A...  \\\n",
       "1  Adaptive Parameter Estimation and Control Desi...   \n",
       "2  Manipulability Optimization of Redundant Manip...   \n",
       "3  Neural Network Control of a Flexible Robotic M...   \n",
       "4  Adaptive Neural Network Control of a Robotic M...   \n",
       "\n",
       "                                        display_name  publication_year   \n",
       "0  Neural Network Control Of Robot Manipulators A...              2020  \\\n",
       "1  Adaptive Parameter Estimation and Control Desi...              2018   \n",
       "2  Manipulability Optimization of Redundant Manip...              2017   \n",
       "3  Neural Network Control of a Flexible Robotic M...              2017   \n",
       "4  Adaptive Neural Network Control of a Robotic M...              2017   \n",
       "\n",
       "  publication_date                                                ids   \n",
       "0       2020-08-13  {'openalex': 'https://openalex.org/W1517236425...  \\\n",
       "1       2018-10-01  {'openalex': 'https://openalex.org/W2787504052...   \n",
       "2       2017-06-01  {'openalex': 'https://openalex.org/W2591194352...   \n",
       "3       2017-08-01  {'openalex': 'https://openalex.org/W2418767125...   \n",
       "4       2017-10-01  {'openalex': 'https://openalex.org/W2740675802...   \n",
       "\n",
       "  language                                   primary_location     type  ...   \n",
       "0       en  {'is_oa': False, 'landing_page_url': 'https://...     book  ...  \\\n",
       "1       en  {'is_oa': False, 'landing_page_url': 'https://...  article  ...   \n",
       "2       en  {'is_oa': False, 'landing_page_url': 'https://...  article  ...   \n",
       "3       en  {'is_oa': False, 'landing_page_url': 'https://...  article  ...   \n",
       "4       en  {'is_oa': False, 'landing_page_url': 'https://...  article  ...   \n",
       "\n",
       "  fulltext_origin                                           abstract   \n",
       "0             NaN  There has been great interest in \"universal co...  \\\n",
       "1          ngrams  For parameter identifications of robot systems...   \n",
       "2          ngrams  For solving the singularity problem arising in...   \n",
       "3          ngrams  Adaptive neural networks (NNs) are employed fo...   \n",
       "4          ngrams  The control problem of an uncertain n -degrees...   \n",
       "\n",
       "  is_authors_truncated                                            content   \n",
       "0                  NaN  Neural Network Control Of Robot Manipulators A...  \\\n",
       "1                  NaN  Adaptive Parameter Estimation and Control Desi...   \n",
       "2                  NaN  Manipulability Optimization of Redundant Manip...   \n",
       "3                  NaN  Neural Network Control of a Flexible Robotic M...   \n",
       "4                  NaN  Adaptive Neural Network Control of a Robotic M...   \n",
       "\n",
       "                                            keywords   \n",
       "0  [Robot Manipulators, Neural network controller...  \\\n",
       "1  [Adaptive Parameter Estimation, Control Design...   \n",
       "2  [dynamic neural network, Manipulability Optimi...   \n",
       "3  [Flexible Robotic Manipulator, Flexible Roboti...   \n",
       "4  [Time-Varying Output Constraints, Output Const...   \n",
       "\n",
       "                                        top_concepts          x         y   \n",
       "0     [Robot manipulator, Artificial neural network]  12.853262 -5.100251  \\\n",
       "1  [Convergence (economics), Control theory (soci...  12.647867 -5.867312   \n",
       "2                                                 []  12.589683 -4.873707   \n",
       "3                                  [Spring (device)]  12.971470 -5.318573   \n",
       "4  [Control theory (sociology), Lyapunov function...  13.228225 -5.346364   \n",
       "\n",
       "  cluster  probability  \n",
       "0       3          1.0  \n",
       "1       3          1.0  \n",
       "2       3          1.0  \n",
       "3       3          1.0  \n",
       "4       3          1.0  \n",
       "\n",
       "[5 rows x 49 columns]"
      ]
     },
     "execution_count": 19,
     "metadata": {},
     "output_type": "execute_result"
    }
   ],
   "source": [
    "#help(dfpapers.explode)\n",
    "del dfpapers['id']\n",
    "dfstart = dfpapers.reset_index()\n",
    "dfstart.head()"
   ]
  },
  {
   "cell_type": "code",
   "execution_count": 20,
   "id": "6372e11d-1dc8-453e-b5a9-35b46c38c177",
   "metadata": {},
   "outputs": [
    {
     "data": {
      "text/plain": [
       "((32209, 49), (8045, 49))"
      ]
     },
     "execution_count": 20,
     "metadata": {},
     "output_type": "execute_result"
    }
   ],
   "source": [
    "dfbig = dfstart.explode(column='authorships')\n",
    "dfbig.shape, dfstart.shape"
   ]
  },
  {
   "cell_type": "code",
   "execution_count": 21,
   "id": "1d0fc5a7-1774-465f-b153-cd369b630393",
   "metadata": {},
   "outputs": [],
   "source": [
    "def add_extra_to_authorships(row: pd.DataFrame):\n",
    "    \"\"\"\n",
    "    row[authorships] is a dictionary;\n",
    "    add in the id key to that dictionary\n",
    "    whose value is row[id]\n",
    "    \"\"\"\n",
    "    complete_dict = row[\"authorships\"]\n",
    "   # assert type(complete_dict) == dict\n",
    "    #print(type(complete_dict))\n",
    "    if type(complete_dict) == dict:\n",
    "        complete_dict[\"id\"] = row[\"id\"]\n",
    "        complete_dict[\"x\"] = row[\"x\"]\n",
    "        complete_dict[\"y\"] = row[\"y\"]\n",
    "        complete_dict[\"cluster\"] = row[\"cluster\"]\n",
    "        complete_dict[\"cluster_score\"] = row[\"probability\"]\n",
    "        complete_dict[\"title\"] = row[\"title\"]\n",
    "        complete_dict[\"abstract\"] = row[\"abstract\"]\n",
    "        complete_dict[\"doi\"] = row[\"doi\"]\n",
    "        complete_dict[\"publication_date\"] = row[\"publication_date\"]\n",
    "        complete_dict[\"publication_year\"] = row[\"publication_year\"]\n",
    "        complete_dict[\"grants\"] = row[\"grants\"]\n",
    "        complete_dict[\"locations\"] = row[\"locations\"]\n",
    "        return complete_dict\n",
    "    else:\n",
    "        return row[\"authorships\"]"
   ]
  },
  {
   "cell_type": "code",
   "execution_count": 22,
   "id": "a584619c-a03a-4b6b-845c-26eb946b5394",
   "metadata": {},
   "outputs": [],
   "source": [
    "dfbig['big_authorships'] = dfbig.apply(add_extra_to_authorships, axis=1)"
   ]
  },
  {
   "cell_type": "code",
   "execution_count": 23,
   "id": "0284e99d-804b-4aed-b389-a37f9837de3d",
   "metadata": {},
   "outputs": [],
   "source": [
    "#dfbig['authorships'].tolist()\n",
    "bigvals = dfbig['authorships'].tolist()"
   ]
  },
  {
   "cell_type": "code",
   "execution_count": 24,
   "id": "4143a5cd-bd6a-4e1c-9854-e199c0cbc6cc",
   "metadata": {},
   "outputs": [],
   "source": [
    "dictvals = [c for c in bigvals if type(c) != float]\n"
   ]
  },
  {
   "cell_type": "code",
   "execution_count": 25,
   "id": "b7343049-98c1-4460-abee-3e76388e9794",
   "metadata": {},
   "outputs": [],
   "source": [
    "dftriple = pd.json_normalize(dictvals,\n",
    "                  record_path=['institutions'],\n",
    "                  meta=['id','raw_affiliation_string','author_position', 'doi',\n",
    "                        'title','abstract','publication_date', 'publication_year',\n",
    "                        'grants','locations',\n",
    "                        'is_corrresponding','x','y','cluster','cluster_score',\n",
    "                       ['author','id'], ['author', 'display_name'],\n",
    "                       ['author','orcid']],\n",
    "                  errors='ignore',\n",
    "                  sep='_',\n",
    "                  meta_prefix='paper_',\n",
    "                #  record_prefix='author_'\n",
    "                 )"
   ]
  },
  {
   "cell_type": "code",
   "execution_count": 26,
   "id": "571544bd-f5de-493d-a49e-072672223501",
   "metadata": {},
   "outputs": [
    {
     "data": {
      "text/plain": [
       "Index(['doi', 'title', 'display_name', 'publication_year', 'publication_date',\n",
       "       'ids', 'language', 'primary_location', 'type', 'type_crossref',\n",
       "       'open_access', 'authorships', 'countries_distinct_count',\n",
       "       'institutions_distinct_count', 'corresponding_author_ids',\n",
       "       'corresponding_institution_ids', 'apc_list', 'apc_paid', 'has_fulltext',\n",
       "       'cited_by_count', 'biblio', 'is_retracted', 'is_paratext', 'concepts',\n",
       "       'mesh', 'locations_count', 'locations', 'best_oa_location',\n",
       "       'sustainable_development_goals', 'grants', 'referenced_works_count',\n",
       "       'referenced_works', 'related_works', 'ngrams_url', 'cited_by_api_url',\n",
       "       'counts_by_year', 'updated_date', 'created_date', 'fulltext_origin',\n",
       "       'abstract', 'is_authors_truncated', 'content', 'keywords',\n",
       "       'top_concepts', 'x', 'y', 'cluster', 'probability'],\n",
       "      dtype='object')"
      ]
     },
     "execution_count": 26,
     "metadata": {},
     "output_type": "execute_result"
    }
   ],
   "source": [
    "dfpapers.columns"
   ]
  },
  {
   "cell_type": "code",
   "execution_count": 27,
   "id": "c4b82c55-94c1-4fd8-a057-4546e74a5059",
   "metadata": {},
   "outputs": [],
   "source": [
    "dftopics = dfcontentvectors.copy()\n",
    "dftopics['cluster'] = dfpapers['cluster']\n",
    "dfmeantopics = dftopics.groupby('cluster').mean().copy()\n",
    "reduced_topics = umap_reducer.transform(dfmeantopics.to_numpy())\n",
    "df_reduced_topics = pd.DataFrame.from_records(reduced_topics, \n",
    "                index=dfmeantopics.index)\n",
    "df_reduced_topics.columns = ['x','y']\n",
    "df_reduced_topics['topic'] = df_reduced_topics.index\n",
    "df_reduced_topics.head()\n",
    "\n",
    "def get_cluster_concepts(topic_num:int, n:int=20):\n",
    "    \"\"\"\n",
    "    takes an integer topic_num corresponding to a \n",
    "    given topic number and\n",
    "    returns the list of top n occuring concepts\n",
    "    from the top_concept field\n",
    "    \"\"\"\n",
    "    top_concepts = dfpapers[dfpapers['cluster'] == topic_num]['top_concepts'].tolist()\n",
    "    flat_concepts = [item for sublist in top_concepts for item in sublist]\n",
    "    concepts_dict = {c:flat_concepts.count(c) for c in flat_concepts}\n",
    "    sorted_concepts = sorted(concepts_dict.items(), key=lambda x:x[1], reverse=True)\n",
    "    return [c[0] for c in sorted_concepts][:n]\n",
    "\n",
    "def get_yake_cluster_phrases(topic_num:int, n:int=20):\n",
    "    \"\"\"\n",
    "    takes in an integer n corresponding\n",
    "    to a given topic number and\n",
    "    returns the list of keyphrases (TopicRank method)\n",
    "    \"\"\"\n",
    "    documents = dfpapers[dfpapers['cluster'] == topic_num]['content'].tolist()\n",
    "    topic_input = \". \".join(documents)\n",
    "    #extractor = pke.unsupervised.TextRank()\n",
    "    kw_extractor = yake.KeywordExtractor(top=n, stopwords=None)\n",
    "    keywords = kw_extractor.extract_keywords(topic_input)\n",
    "    #extractor.load_document(input=topic_input,\n",
    "    #                    language='en',\n",
    "    #                    normalization=None)\n",
    "\n",
    "    #extractor.candidate_selection()\n",
    "\n",
    "    #window = 2\n",
    "    #use_stems = False\n",
    "    #extractor.candidate_weighting(window=window,\n",
    "    #                          use_stems=use_stems)\n",
    "    #extractor.candidate_weighting()\n",
    "    #threshold = 0.8\n",
    "   # keyphrases = extractor.get_n_best(n=20, threshold=threshold)\n",
    "    #keyphrases = extractor.get_n_best(n=n)\n",
    "    return [p[0] for p in keywords]\n",
    "\n",
    "wikiconcepts = df_reduced_topics['topic'].apply(get_cluster_concepts)\n",
    "\n",
    "wikikeywords = df_reduced_topics['topic'].apply(get_yake_cluster_phrases)\n",
    "\n",
    "dfpapers['id'] = dfpapers.index\n",
    "dfinfo = dfpapers[['x','y','id','title','abstract','doi','cluster','grants',\n",
    "                   'locations',\n",
    "                 'publication_date','keywords','top_concepts']].copy()\n",
    "\n",
    "centroids = dfinfo.groupby('cluster')[['x','y']].mean().copy()\n",
    "centroids['concepts'] = wikiconcepts\n",
    "centroids['cluster'] = centroids.index\n",
    "centroids['keywords'] = wikikeywords"
   ]
  },
  {
   "cell_type": "code",
   "execution_count": 28,
   "id": "4ef7944e-3480-47f2-b698-9d97fdd56e98",
   "metadata": {},
   "outputs": [],
   "source": [
    "def wrap_it(x):\n",
    "    return \"<br>\".join(textwrap.wrap(x, width=40))\n",
    "   # return \"<br>\".join(textwrap.wrap(x.replace(r'\\s+', ' '), width=40))"
   ]
  },
  {
   "cell_type": "code",
   "execution_count": 29,
   "id": "b7c99bcc-ea82-459b-bdd3-a948ae8cedbf",
   "metadata": {},
   "outputs": [],
   "source": [
    "centroids['wrapped_keywords'] = centroids['keywords'].apply(str).apply(wrap_it)\n",
    "centroids['wrapped_concepts'] = centroids['concepts'].apply(str).apply(wrap_it)"
   ]
  },
  {
   "cell_type": "code",
   "execution_count": 30,
   "id": "574948df-ceb0-4f58-ad98-f56d82e24f54",
   "metadata": {},
   "outputs": [],
   "source": [
    "centroids.to_pickle('jammingcentroids2d.pkl')"
   ]
  },
  {
   "cell_type": "code",
   "execution_count": 31,
   "id": "aaaf1fd8-e2f8-415a-8d66-7e5a5de7dd7d",
   "metadata": {},
   "outputs": [
    {
     "data": {
      "text/plain": [
       "Index(['id', 'display_name', 'ror', 'country_code', 'type', 'lineage',\n",
       "       'paper_id', 'paper_raw_affiliation_string', 'paper_author_position',\n",
       "       'paper_doi', 'paper_title', 'paper_abstract', 'paper_publication_date',\n",
       "       'paper_publication_year', 'paper_grants', 'paper_locations',\n",
       "       'paper_is_corrresponding', 'paper_x', 'paper_y', 'paper_cluster',\n",
       "       'paper_cluster_score', 'paper_author_id', 'paper_author_display_name',\n",
       "       'paper_author_orcid'],\n",
       "      dtype='object')"
      ]
     },
     "execution_count": 31,
     "metadata": {},
     "output_type": "execute_result"
    }
   ],
   "source": [
    "dftriple.columns"
   ]
  },
  {
   "cell_type": "code",
   "execution_count": 32,
   "id": "304bf7d8-16cf-42ca-83c8-624115ab8019",
   "metadata": {},
   "outputs": [],
   "source": [
    "dftriple.to_pickle('jammingdftriple2d.pkl')\n"
   ]
  },
  {
   "cell_type": "code",
   "execution_count": 33,
   "id": "91bc8313-bd0f-4bf1-91f5-1c84c42b9e1e",
   "metadata": {},
   "outputs": [],
   "source": [
    "def get_affils_cluster_sort(dc:pd.DataFrame, cl:int):\n",
    "    \"\"\"\n",
    "    restricts the dataframe dc to cluster value cl\n",
    "    and returns the results grouped by id, ror sorted\n",
    "    by the some of probablity descending\n",
    "    \"\"\"\n",
    "    dg = dc[dc['paper_cluster'] == cl].copy()\n",
    "    print(cl)\n",
    "    dv = dg.groupby(['id','display_name','country_code',\n",
    "                     'type'])['paper_cluster_score'].sum().to_frame()\n",
    "    dv.sort_values('paper_cluster_score', ascending=False, inplace=True)\n",
    "    kw = centroids[centroids.cluster == cl]['keywords'].iloc[0]\n",
    "    return dv, kw"
   ]
  },
  {
   "cell_type": "code",
   "execution_count": 34,
   "id": "ec33bd80-9220-4580-8078-34d49e88fd8a",
   "metadata": {},
   "outputs": [
    {
     "name": "stdout",
     "output_type": "stream",
     "text": [
      "1\n",
      "['Aerial Manipulator', 'Aerial Robotic Manipulators', 'Aerial', 'Aerial Manipulator System', 'Aerial Manipulator Robot', 'Manipulator', 'unmanned aerial vehicle', 'Aerial Robotic', 'aerial manipulator control', 'Control Aerial Manipulator', 'aerial manipulator vehicle', 'Protocentric Aerial Manipulators', 'robotic manipulator', 'proposed aerial manipulator', 'control', 'unmanned aerial', 'Aerial Continuum Manipulator', 'cable-Suspended Aerial Manipulator', 'aerial vehicle', 'Overactuated Aerial Manipulators']\n"
     ]
    },
    {
     "data": {
      "text/html": [
       "<div>\n",
       "<style scoped>\n",
       "    .dataframe tbody tr th:only-of-type {\n",
       "        vertical-align: middle;\n",
       "    }\n",
       "\n",
       "    .dataframe tbody tr th {\n",
       "        vertical-align: top;\n",
       "    }\n",
       "\n",
       "    .dataframe thead th {\n",
       "        text-align: right;\n",
       "    }\n",
       "</style>\n",
       "<table border=\"1\" class=\"dataframe\">\n",
       "  <thead>\n",
       "    <tr style=\"text-align: right;\">\n",
       "      <th></th>\n",
       "      <th></th>\n",
       "      <th></th>\n",
       "      <th></th>\n",
       "      <th>paper_cluster_score</th>\n",
       "    </tr>\n",
       "    <tr>\n",
       "      <th>id</th>\n",
       "      <th>display_name</th>\n",
       "      <th>country_code</th>\n",
       "      <th>type</th>\n",
       "      <th></th>\n",
       "    </tr>\n",
       "  </thead>\n",
       "  <tbody>\n",
       "    <tr>\n",
       "      <th>https://openalex.org/I2898391981</th>\n",
       "      <th>German Aerospace Center</th>\n",
       "      <th>DE</th>\n",
       "      <th>facility</th>\n",
       "      <td>6.573864</td>\n",
       "    </tr>\n",
       "    <tr>\n",
       "      <th>https://openalex.org/I157773358</th>\n",
       "      <th>Sun Yat-sen University</th>\n",
       "      <th>CN</th>\n",
       "      <th>education</th>\n",
       "      <td>6.0</td>\n",
       "    </tr>\n",
       "    <tr>\n",
       "      <th>https://openalex.org/I118946981</th>\n",
       "      <th>Escuela Politécnica del Ejército</th>\n",
       "      <th>EC</th>\n",
       "      <th>education</th>\n",
       "      <td>5.851659</td>\n",
       "    </tr>\n",
       "    <tr>\n",
       "      <th>https://openalex.org/I17866349</th>\n",
       "      <th>Université de Toulouse</th>\n",
       "      <th>FR</th>\n",
       "      <th>education</th>\n",
       "      <td>5.802707</td>\n",
       "    </tr>\n",
       "    <tr>\n",
       "      <th>https://openalex.org/I1294671590</th>\n",
       "      <th>French National Centre for Scientific Research</th>\n",
       "      <th>FR</th>\n",
       "      <th>government</th>\n",
       "      <td>5.802707</td>\n",
       "    </tr>\n",
       "    <tr>\n",
       "      <th>https://openalex.org/I201537933</th>\n",
       "      <th>Tohoku University</th>\n",
       "      <th>JP</th>\n",
       "      <th>education</th>\n",
       "      <td>5.525794</td>\n",
       "    </tr>\n",
       "    <tr>\n",
       "      <th>https://openalex.org/I79238269</th>\n",
       "      <th>Universidad de Sevilla</th>\n",
       "      <th>ES</th>\n",
       "      <th>education</th>\n",
       "      <td>4.39277</td>\n",
       "    </tr>\n",
       "    <tr>\n",
       "      <th>https://openalex.org/I4210098188</th>\n",
       "      <th>Laboratori Guglielmo Marconi (Italy)</th>\n",
       "      <th>IT</th>\n",
       "      <th>company</th>\n",
       "      <td>4.303968</td>\n",
       "    </tr>\n",
       "    <tr>\n",
       "      <th>https://openalex.org/I2801039369</th>\n",
       "      <th>Marconi University</th>\n",
       "      <th>IT</th>\n",
       "      <th>education</th>\n",
       "      <td>4.303968</td>\n",
       "    </tr>\n",
       "    <tr>\n",
       "      <th>https://openalex.org/I9360294</th>\n",
       "      <th>University of Bologna</th>\n",
       "      <th>IT</th>\n",
       "      <th>education</th>\n",
       "      <td>4.303968</td>\n",
       "    </tr>\n",
       "  </tbody>\n",
       "</table>\n",
       "</div>"
      ],
      "text/plain": [
       "                                                                                                        paper_cluster_score\n",
       "id                               display_name                                   country_code type                          \n",
       "https://openalex.org/I2898391981 German Aerospace Center                        DE           facility              6.573864\n",
       "https://openalex.org/I157773358  Sun Yat-sen University                         CN           education                  6.0\n",
       "https://openalex.org/I118946981  Escuela Politécnica del Ejército               EC           education             5.851659\n",
       "https://openalex.org/I17866349   Université de Toulouse                         FR           education             5.802707\n",
       "https://openalex.org/I1294671590 French National Centre for Scientific Research FR           government            5.802707\n",
       "https://openalex.org/I201537933  Tohoku University                              JP           education             5.525794\n",
       "https://openalex.org/I79238269   Universidad de Sevilla                         ES           education              4.39277\n",
       "https://openalex.org/I4210098188 Laboratori Guglielmo Marconi (Italy)           IT           company               4.303968\n",
       "https://openalex.org/I2801039369 Marconi University                             IT           education             4.303968\n",
       "https://openalex.org/I9360294    University of Bologna                          IT           education             4.303968"
      ]
     },
     "execution_count": 34,
     "metadata": {},
     "output_type": "execute_result"
    }
   ],
   "source": [
    "dv84, kw84 = get_affils_cluster_sort(dftriple, 1)\n",
    "print(kw84)\n",
    "dv84.head(10)"
   ]
  },
  {
   "cell_type": "code",
   "execution_count": 35,
   "id": "c10a234a-6d5e-40d8-a1aa-2d2cfba452fd",
   "metadata": {},
   "outputs": [
    {
     "name": "stdout",
     "output_type": "stream",
     "text": [
      "0\n",
      "['energy storage density', 'energy storage', 'energy storage performance', 'high energy storage', 'high power density', 'energy storage properties', 'recoverable energy storage', 'energy density', 'excellent energy storage', 'discharge energy density', 'energy storage ceramics', 'energy', 'recoverable energy density', 'power density', 'storage density', 'High energy density', 'energy storage efficiency', 'dielectric energy storage', 'high energy', 'storage']\n"
     ]
    },
    {
     "data": {
      "text/html": [
       "<div>\n",
       "<style scoped>\n",
       "    .dataframe tbody tr th:only-of-type {\n",
       "        vertical-align: middle;\n",
       "    }\n",
       "\n",
       "    .dataframe tbody tr th {\n",
       "        vertical-align: top;\n",
       "    }\n",
       "\n",
       "    .dataframe thead th {\n",
       "        text-align: right;\n",
       "    }\n",
       "</style>\n",
       "<table border=\"1\" class=\"dataframe\">\n",
       "  <thead>\n",
       "    <tr style=\"text-align: right;\">\n",
       "      <th></th>\n",
       "      <th></th>\n",
       "      <th></th>\n",
       "      <th></th>\n",
       "      <th>paper_cluster_score</th>\n",
       "    </tr>\n",
       "    <tr>\n",
       "      <th>id</th>\n",
       "      <th>display_name</th>\n",
       "      <th>country_code</th>\n",
       "      <th>type</th>\n",
       "      <th></th>\n",
       "    </tr>\n",
       "  </thead>\n",
       "  <tbody>\n",
       "    <tr>\n",
       "      <th>https://openalex.org/I87445476</th>\n",
       "      <th>Xi'an Jiaotong University</th>\n",
       "      <th>CN</th>\n",
       "      <th>education</th>\n",
       "      <td>45.412704</td>\n",
       "    </tr>\n",
       "    <tr>\n",
       "      <th>https://openalex.org/I109935558</th>\n",
       "      <th>Ningbo University</th>\n",
       "      <th>CN</th>\n",
       "      <th>education</th>\n",
       "      <td>28.963583</td>\n",
       "    </tr>\n",
       "    <tr>\n",
       "      <th>https://openalex.org/I139024713</th>\n",
       "      <th>Guangdong University of Technology</th>\n",
       "      <th>CN</th>\n",
       "      <th>education</th>\n",
       "      <td>26.716671</td>\n",
       "    </tr>\n",
       "    <tr>\n",
       "      <th>https://openalex.org/I150229711</th>\n",
       "      <th>University of Electronic Science and Technology of China</th>\n",
       "      <th>CN</th>\n",
       "      <th>education</th>\n",
       "      <td>26.260822</td>\n",
       "    </tr>\n",
       "    <tr>\n",
       "      <th>https://openalex.org/I4210124847</th>\n",
       "      <th>National Engineering Research Center of Electromagnetic Radiation Control Materials</th>\n",
       "      <th>CN</th>\n",
       "      <th>facility</th>\n",
       "      <td>25.260822</td>\n",
       "    </tr>\n",
       "    <tr>\n",
       "      <th>https://openalex.org/I143868143</th>\n",
       "      <th>Anhui University</th>\n",
       "      <th>CN</th>\n",
       "      <th>education</th>\n",
       "      <td>22.024599</td>\n",
       "    </tr>\n",
       "    <tr>\n",
       "      <th>https://openalex.org/I116953780</th>\n",
       "      <th>Tongji University</th>\n",
       "      <th>CN</th>\n",
       "      <th>education</th>\n",
       "      <td>20.58211</td>\n",
       "    </tr>\n",
       "    <tr>\n",
       "      <th>https://openalex.org/I1297991670</th>\n",
       "      <th>Southwest University of Science and Technology</th>\n",
       "      <th>CN</th>\n",
       "      <th>education</th>\n",
       "      <td>19.497119</td>\n",
       "    </tr>\n",
       "    <tr>\n",
       "      <th>https://openalex.org/I142108993</th>\n",
       "      <th>Southwest University</th>\n",
       "      <th>CN</th>\n",
       "      <th>education</th>\n",
       "      <td>17.336764</td>\n",
       "    </tr>\n",
       "    <tr>\n",
       "      <th>https://openalex.org/I51622183</th>\n",
       "      <th>Shaanxi University of Science and Technology</th>\n",
       "      <th>CN</th>\n",
       "      <th>education</th>\n",
       "      <td>17.260976</td>\n",
       "    </tr>\n",
       "  </tbody>\n",
       "</table>\n",
       "</div>"
      ],
      "text/plain": [
       "                                                                                                           paper_cluster_score\n",
       "id                               display_name                                       country_code type                         \n",
       "https://openalex.org/I87445476   Xi'an Jiaotong University                          CN           education           45.412704\n",
       "https://openalex.org/I109935558  Ningbo University                                  CN           education           28.963583\n",
       "https://openalex.org/I139024713  Guangdong University of Technology                 CN           education           26.716671\n",
       "https://openalex.org/I150229711  University of Electronic Science and Technology... CN           education           26.260822\n",
       "https://openalex.org/I4210124847 National Engineering Research Center of Electro... CN           facility            25.260822\n",
       "https://openalex.org/I143868143  Anhui University                                   CN           education           22.024599\n",
       "https://openalex.org/I116953780  Tongji University                                  CN           education            20.58211\n",
       "https://openalex.org/I1297991670 Southwest University of Science and Technology     CN           education           19.497119\n",
       "https://openalex.org/I142108993  Southwest University                               CN           education           17.336764\n",
       "https://openalex.org/I51622183   Shaanxi University of Science and Technology       CN           education           17.260976"
      ]
     },
     "execution_count": 35,
     "metadata": {},
     "output_type": "execute_result"
    }
   ],
   "source": [
    "dv84, kw84 = get_affils_cluster_sort(dftriple, 0)\n",
    "print(kw84)\n",
    "dv84.head(10)"
   ]
  },
  {
   "cell_type": "code",
   "execution_count": 36,
   "id": "dd8b19b5-c246-4651-8b2e-96e6a7de9b6f",
   "metadata": {},
   "outputs": [
    {
     "name": "stdout",
     "output_type": "stream",
     "text": [
      "2\n",
      "['robotic apple harvesting', 'apple harvesting robot', 'robotic harvesting system', 'apple harvesting', 'robotic', 'robotic manipulator', 'robotic system', 'Harvesting Manipulators', 'harvesting', 'manipulator', 'harvesting robot', 'robotic apple', 'Picking', 'robot', 'robotic harvesting', 'apple harvesting prototype', 'system', 'Based Robotic Manipulator', 'control', 'Harvesting Robotic System']\n"
     ]
    },
    {
     "data": {
      "text/html": [
       "<div>\n",
       "<style scoped>\n",
       "    .dataframe tbody tr th:only-of-type {\n",
       "        vertical-align: middle;\n",
       "    }\n",
       "\n",
       "    .dataframe tbody tr th {\n",
       "        vertical-align: top;\n",
       "    }\n",
       "\n",
       "    .dataframe thead th {\n",
       "        text-align: right;\n",
       "    }\n",
       "</style>\n",
       "<table border=\"1\" class=\"dataframe\">\n",
       "  <thead>\n",
       "    <tr style=\"text-align: right;\">\n",
       "      <th></th>\n",
       "      <th></th>\n",
       "      <th></th>\n",
       "      <th></th>\n",
       "      <th>paper_cluster_score</th>\n",
       "    </tr>\n",
       "    <tr>\n",
       "      <th>id</th>\n",
       "      <th>display_name</th>\n",
       "      <th>country_code</th>\n",
       "      <th>type</th>\n",
       "      <th></th>\n",
       "    </tr>\n",
       "  </thead>\n",
       "  <tbody>\n",
       "    <tr>\n",
       "      <th>https://openalex.org/I4210166615</th>\n",
       "      <th>Institute for Systems and Computer Engineering of Porto</th>\n",
       "      <th>PT</th>\n",
       "      <th>nonprofit</th>\n",
       "      <td>15.808033</td>\n",
       "    </tr>\n",
       "    <tr>\n",
       "      <th>https://openalex.org/I87216513</th>\n",
       "      <th>Michigan State University</th>\n",
       "      <th>US</th>\n",
       "      <th>education</th>\n",
       "      <td>8.0</td>\n",
       "    </tr>\n",
       "    <tr>\n",
       "      <th>https://openalex.org/I183898223</th>\n",
       "      <th>International Hellenic University</th>\n",
       "      <th>GR</th>\n",
       "      <th>education</th>\n",
       "      <td>8.0</td>\n",
       "    </tr>\n",
       "    <tr>\n",
       "      <th>https://openalex.org/I155381812</th>\n",
       "      <th>University of Trás-os-Montes and Alto Douro</th>\n",
       "      <th>PT</th>\n",
       "      <th>education</th>\n",
       "      <td>5.0</td>\n",
       "    </tr>\n",
       "    <tr>\n",
       "      <th>https://openalex.org/I115592961</th>\n",
       "      <th>Jiangsu University</th>\n",
       "      <th>CN</th>\n",
       "      <th>education</th>\n",
       "      <td>4.139129</td>\n",
       "    </tr>\n",
       "    <tr>\n",
       "      <th>https://openalex.org/I3130994585</th>\n",
       "      <th>Antenor Orrego Private University</th>\n",
       "      <th>PE</th>\n",
       "      <th>education</th>\n",
       "      <td>4.0</td>\n",
       "    </tr>\n",
       "    <tr>\n",
       "      <th>https://openalex.org/I182534213</th>\n",
       "      <th>University of Porto</th>\n",
       "      <th>PT</th>\n",
       "      <th>education</th>\n",
       "      <td>3.523213</td>\n",
       "    </tr>\n",
       "    <tr>\n",
       "      <th>https://openalex.org/I4210159532</th>\n",
       "      <th>Federal Scientific Agroengineering Center VIM</th>\n",
       "      <th>RU</th>\n",
       "      <th>facility</th>\n",
       "      <td>3.0</td>\n",
       "    </tr>\n",
       "    <tr>\n",
       "      <th>https://openalex.org/I4210123755</th>\n",
       "      <th>Vietnam National University of Forestry</th>\n",
       "      <th>VN</th>\n",
       "      <th>education</th>\n",
       "      <td>3.0</td>\n",
       "    </tr>\n",
       "    <tr>\n",
       "      <th>https://openalex.org/I83863532</th>\n",
       "      <th>Polytechnic Institute of Porto</th>\n",
       "      <th>PT</th>\n",
       "      <th>education</th>\n",
       "      <td>2.761607</td>\n",
       "    </tr>\n",
       "    <tr>\n",
       "      <th>https://openalex.org/I79052877</th>\n",
       "      <th>Volga State University of Technology</th>\n",
       "      <th>RU</th>\n",
       "      <th>education</th>\n",
       "      <td>2.0</td>\n",
       "    </tr>\n",
       "    <tr>\n",
       "      <th>https://openalex.org/I33585257</th>\n",
       "      <th>Anna University, Chennai</th>\n",
       "      <th>IN</th>\n",
       "      <th>education</th>\n",
       "      <td>2.0</td>\n",
       "    </tr>\n",
       "    <tr>\n",
       "      <th>https://openalex.org/I135768898</th>\n",
       "      <th>Ritsumeikan University</th>\n",
       "      <th>JP</th>\n",
       "      <th>education</th>\n",
       "      <td>1.825191</td>\n",
       "    </tr>\n",
       "    <tr>\n",
       "      <th>https://openalex.org/I4210126868</th>\n",
       "      <th>University of Georgia</th>\n",
       "      <th>GE</th>\n",
       "      <th>education</th>\n",
       "      <td>1.324025</td>\n",
       "    </tr>\n",
       "    <tr>\n",
       "      <th>https://openalex.org/I54108979</th>\n",
       "      <th>Norwegian University of Life Sciences</th>\n",
       "      <th>NO</th>\n",
       "      <th>education</th>\n",
       "      <td>1.050871</td>\n",
       "    </tr>\n",
       "    <tr>\n",
       "      <th>https://openalex.org/I1341202592</th>\n",
       "      <th>Michigan Department of Agriculture and Rural Development</th>\n",
       "      <th>US</th>\n",
       "      <th>government</th>\n",
       "      <td>1.0</td>\n",
       "    </tr>\n",
       "    <tr>\n",
       "      <th>https://openalex.org/I1312222531</th>\n",
       "      <th>Agricultural Research Service</th>\n",
       "      <th>US</th>\n",
       "      <th>government</th>\n",
       "      <td>1.0</td>\n",
       "    </tr>\n",
       "    <tr>\n",
       "      <th>https://openalex.org/I4210088176</th>\n",
       "      <th>North West Agriculture and Forestry University</th>\n",
       "      <th>CN</th>\n",
       "      <th>education</th>\n",
       "      <td>1.0</td>\n",
       "    </tr>\n",
       "    <tr>\n",
       "      <th>https://openalex.org/I3132405765</th>\n",
       "      <th>Mari State University</th>\n",
       "      <th>RU</th>\n",
       "      <th>education</th>\n",
       "      <td>1.0</td>\n",
       "    </tr>\n",
       "    <tr>\n",
       "      <th>https://openalex.org/I119241673</th>\n",
       "      <th>Indian Institute of Technology Ropar</th>\n",
       "      <th>IN</th>\n",
       "      <th>education</th>\n",
       "      <td>1.0</td>\n",
       "    </tr>\n",
       "  </tbody>\n",
       "</table>\n",
       "</div>"
      ],
      "text/plain": [
       "                                                                                                            paper_cluster_score\n",
       "id                               display_name                                       country_code type                          \n",
       "https://openalex.org/I4210166615 Institute for Systems and Computer Engineering ... PT           nonprofit            15.808033\n",
       "https://openalex.org/I87216513   Michigan State University                          US           education                  8.0\n",
       "https://openalex.org/I183898223  International Hellenic University                  GR           education                  8.0\n",
       "https://openalex.org/I155381812  University of Trás-os-Montes and Alto Douro        PT           education                  5.0\n",
       "https://openalex.org/I115592961  Jiangsu University                                 CN           education             4.139129\n",
       "https://openalex.org/I3130994585 Antenor Orrego Private University                  PE           education                  4.0\n",
       "https://openalex.org/I182534213  University of Porto                                PT           education             3.523213\n",
       "https://openalex.org/I4210159532 Federal Scientific Agroengineering Center VIM      RU           facility                   3.0\n",
       "https://openalex.org/I4210123755 Vietnam National University of Forestry            VN           education                  3.0\n",
       "https://openalex.org/I83863532   Polytechnic Institute of Porto                     PT           education             2.761607\n",
       "https://openalex.org/I79052877   Volga State University of Technology               RU           education                  2.0\n",
       "https://openalex.org/I33585257   Anna University, Chennai                           IN           education                  2.0\n",
       "https://openalex.org/I135768898  Ritsumeikan University                             JP           education             1.825191\n",
       "https://openalex.org/I4210126868 University of Georgia                              GE           education             1.324025\n",
       "https://openalex.org/I54108979   Norwegian University of Life Sciences              NO           education             1.050871\n",
       "https://openalex.org/I1341202592 Michigan Department of Agriculture and Rural De... US           government                 1.0\n",
       "https://openalex.org/I1312222531 Agricultural Research Service                      US           government                 1.0\n",
       "https://openalex.org/I4210088176 North West Agriculture and Forestry University     CN           education                  1.0\n",
       "https://openalex.org/I3132405765 Mari State University                              RU           education                  1.0\n",
       "https://openalex.org/I119241673  Indian Institute of Technology Ropar               IN           education                  1.0"
      ]
     },
     "execution_count": 36,
     "metadata": {},
     "output_type": "execute_result"
    }
   ],
   "source": [
    "dv84, kw84 = get_affils_cluster_sort(dftriple, 2)\n",
    "print(kw84)\n",
    "dv84.head(20)"
   ]
  },
  {
   "cell_type": "code",
   "execution_count": 37,
   "id": "949be9fc-8403-4e03-8490-5ea40bdd2996",
   "metadata": {},
   "outputs": [],
   "source": [
    "dfinfo = dfpapers[['x','y','id','title','abstract', 'doi','cluster','probability',\n",
    "                 'publication_date','grants','locations',\n",
    "                   'keywords','top_concepts']].copy()"
   ]
  },
  {
   "cell_type": "code",
   "execution_count": 38,
   "id": "1bac48e8-52e8-4c9c-9b9b-6116ddcedcc8",
   "metadata": {},
   "outputs": [],
   "source": [
    "pap_affils_dict = dftriple.groupby('paper_id')['paper_raw_affiliation_string'].\\\n",
    "apply(lambda x: ' | '.join(x.tolist()))\n",
    "\n",
    "#pap_authors_dict = dftriple.groupby('paper_id')['paper_author_display_name'].\\\n",
    "#apply(lambda x: ' | '.join(x.tolist()))"
   ]
  },
  {
   "cell_type": "code",
   "execution_count": 39,
   "id": "e506c5f4-d312-4afa-a3e4-9f04913f9ca0",
   "metadata": {},
   "outputs": [],
   "source": [
    "pap_authors_dict = dftriple.groupby('paper_id')['paper_author_display_name'].apply(lambda x: x.values)"
   ]
  },
  {
   "cell_type": "code",
   "execution_count": 40,
   "id": "d914403a-df18-48b6-a9a1-1ffe51085c76",
   "metadata": {},
   "outputs": [],
   "source": [
    "dfinfo['affil_list'] = pap_affils_dict\n",
    "dfinfo['author_list'] = pap_authors_dict"
   ]
  },
  {
   "cell_type": "code",
   "execution_count": 41,
   "id": "cf268da6-6b78-476e-b4d8-eafdf4a511a8",
   "metadata": {},
   "outputs": [],
   "source": [
    "dfinfo['affil_list'] = dftriple.groupby('paper_id')['paper_raw_affiliation_string'].\\\n",
    "apply(lambda x: x.tolist())"
   ]
  },
  {
   "cell_type": "code",
   "execution_count": 42,
   "id": "c9e38c7c-c030-44b3-a443-4c716e771b9d",
   "metadata": {},
   "outputs": [],
   "source": [
    "dfinfo['author_list'] =  dftriple.groupby('paper_id')['paper_author_display_name'].\\\n",
    "apply(lambda x: x.tolist())"
   ]
  },
  {
   "cell_type": "code",
   "execution_count": 43,
   "id": "3b2871ff-ef59-4c62-8fdd-76fa99ae4801",
   "metadata": {},
   "outputs": [],
   "source": [
    "dfinfo['wrapped_affil_list'] = dfinfo['affil_list'].apply(str).apply(wrap_it)\n",
    "dfinfo['wrapped_author_list'] = dfinfo['author_list'].apply(str).apply(wrap_it)"
   ]
  },
  {
   "cell_type": "code",
   "execution_count": 44,
   "id": "c15c7187-05ff-4cb5-b450-f8a361a3b6ff",
   "metadata": {},
   "outputs": [],
   "source": [
    "dfinfo['wrapped_keywords'] = dfinfo['keywords'].apply(str).apply(wrap_it)"
   ]
  },
  {
   "cell_type": "code",
   "execution_count": 45,
   "id": "d6a40fdf-a3d0-4595-958c-d5af58a81904",
   "metadata": {},
   "outputs": [],
   "source": [
    "def get_source_name(loc_list):\n",
    "    \"\"\"\n",
    "    grab the first item in the list;\n",
    "    retturn the display name\n",
    "    \"\"\"\n",
    "    try:\n",
    "        primary = loc_list[0]\n",
    "        return primary[\"source\"][\"display_name\"]\n",
    "    except:\n",
    "        return None\n",
    "\n",
    "def get_source_type(loc_list):\n",
    "    \"\"\"\n",
    "    grab the first item in the list;\n",
    "    return the source type\n",
    "    \"\"\"\n",
    "    try:\n",
    "        primary = loc_list[0]\n",
    "        return primary[\"source\"][\"type\"]\n",
    "    except:\n",
    "        return None\n",
    "    "
   ]
  },
  {
   "cell_type": "code",
   "execution_count": 46,
   "id": "5062f94a-e4fd-4bd8-b27a-5ed4d3aae097",
   "metadata": {},
   "outputs": [],
   "source": [
    "dfinfo[\"source\"] = dfinfo[\"locations\"].apply(get_source_name)\n",
    "dfinfo[\"source_type\"] = dfinfo[\"locations\"].apply(get_source_type)"
   ]
  },
  {
   "cell_type": "code",
   "execution_count": 47,
   "id": "b4c36a09-49fe-4056-a533-b81d2641334d",
   "metadata": {},
   "outputs": [
    {
     "data": {
      "text/plain": [
       "Index(['x', 'y', 'id', 'title', 'abstract', 'doi', 'cluster', 'probability',\n",
       "       'publication_date', 'grants', 'locations', 'keywords', 'top_concepts',\n",
       "       'affil_list', 'author_list', 'wrapped_affil_list',\n",
       "       'wrapped_author_list', 'wrapped_keywords', 'source', 'source_type'],\n",
       "      dtype='object')"
      ]
     },
     "execution_count": 47,
     "metadata": {},
     "output_type": "execute_result"
    }
   ],
   "source": [
    "dfinfo.columns"
   ]
  },
  {
   "cell_type": "code",
   "execution_count": 48,
   "id": "76ee608a-70cf-412a-85ea-6c65689339a6",
   "metadata": {},
   "outputs": [
    {
     "data": {
      "text/plain": [
       "Index(['id', 'display_name', 'ror', 'country_code', 'type', 'lineage',\n",
       "       'paper_id', 'paper_raw_affiliation_string', 'paper_author_position',\n",
       "       'paper_doi', 'paper_title', 'paper_abstract', 'paper_publication_date',\n",
       "       'paper_publication_year', 'paper_grants', 'paper_locations',\n",
       "       'paper_is_corrresponding', 'paper_x', 'paper_y', 'paper_cluster',\n",
       "       'paper_cluster_score', 'paper_author_id', 'paper_author_display_name',\n",
       "       'paper_author_orcid'],\n",
       "      dtype='object')"
      ]
     },
     "execution_count": 48,
     "metadata": {},
     "output_type": "execute_result"
    }
   ],
   "source": [
    "dftriple.columns"
   ]
  },
  {
   "cell_type": "code",
   "execution_count": 49,
   "id": "d3f47019-2c49-40e8-9a39-f6eb29b92458",
   "metadata": {},
   "outputs": [],
   "source": [
    "dfinfo.to_pickle('jammingdfinfo2d.pkl')"
   ]
  },
  {
   "cell_type": "code",
   "execution_count": 50,
   "id": "ed151f40-eb29-44dd-8388-f360e448876c",
   "metadata": {},
   "outputs": [],
   "source": [
    "def get_funder_names(funder_list):\n",
    "    \"\"\"\n",
    "    funder_list is a list of dictionaries\n",
    "    with three keys; return the list of \n",
    "    unique **funder_display_name**\n",
    "    values\n",
    "    \"\"\"\n",
    "    try:\n",
    "        funder_names = list(set([f['funder_display_name'] for f in funder_list]))\n",
    "        return funder_names    \n",
    "    except:\n",
    "        return []"
   ]
  },
  {
   "cell_type": "code",
   "execution_count": 51,
   "id": "87610b1e-d00a-475e-84af-3a437e27144c",
   "metadata": {},
   "outputs": [],
   "source": [
    "dftriple[\"source\"] = dftriple[\"paper_locations\"].apply(get_source_name)\n",
    "dftriple[\"source_type\"] = dftriple[\"paper_locations\"].apply(get_source_type)\n",
    "dftriple[\"funder_list\"] = dftriple[\"paper_grants\"].apply(get_funder_names)"
   ]
  },
  {
   "cell_type": "code",
   "execution_count": 52,
   "id": "c2d476d9-a002-4c23-8ff2-b3b54c7caa8c",
   "metadata": {},
   "outputs": [],
   "source": [
    "dftriple.to_pickle('jammingdftriple2d.pkl')"
   ]
  },
  {
   "cell_type": "code",
   "execution_count": 53,
   "id": "3eba5885-5b88-4487-89af-10b5c366df07",
   "metadata": {},
   "outputs": [],
   "source": [
    "dfinfo[\"funder_list\"] = dfinfo[\"grants\"].apply(get_funder_names)\n",
    "dfinfo[\"wrapped_funder_list\"] = dfinfo[\"funder_list\"].apply(str).apply(wrap_it)"
   ]
  },
  {
   "cell_type": "code",
   "execution_count": 54,
   "id": "b8131331-2cc9-4790-b56c-48d0cf88bff5",
   "metadata": {},
   "outputs": [],
   "source": [
    "dfinfo.to_pickle('jammingdfinfo2d.pkl')"
   ]
  },
  {
   "cell_type": "code",
   "execution_count": 55,
   "id": "ef1af57c-8343-4b9b-bc0e-8eefa0878c54",
   "metadata": {},
   "outputs": [],
   "source": [
    "kw_dict = dfinfo['keywords'].to_dict()"
   ]
  },
  {
   "cell_type": "code",
   "execution_count": 56,
   "id": "8a44a7e8-10eb-44a1-b889-9f4c2aaf3d05",
   "metadata": {},
   "outputs": [
    {
     "data": {
      "text/plain": [
       "(list, 1083)"
      ]
     },
     "execution_count": 56,
     "metadata": {},
     "output_type": "execute_result"
    }
   ],
   "source": [
    "sources_list = dftriple['source'].unique().tolist()\n",
    "type(sources_list), len(sources_list)"
   ]
  },
  {
   "cell_type": "code",
   "execution_count": 57,
   "id": "2935258a-93f0-4597-9c80-5521cf4209fc",
   "metadata": {},
   "outputs": [],
   "source": [
    "def get_source_json(s:str):\n",
    "    \"\"\"\n",
    "    s is an openalex Sources display_name\n",
    "    return that Sources object\n",
    "    \"\"\"\n",
    "    source_json = Sources().search_filter(display_name = s).get()\n",
    "    a = source_json[0]['type']\n",
    "    if \"homepage_url\" in source_json[0] and source_json[0]['homepage_url']:\n",
    "        print(f\"{s} has homepage_url and type {source_json[0]['type']}\")\n",
    "        return source_json[0][\"homepage_url\"]\n",
    "    else:\n",
    "        return None"
   ]
  },
  {
   "cell_type": "code",
   "execution_count": 58,
   "id": "4e01b146-5251-4e4f-ac22-bf7d3045b789",
   "metadata": {},
   "outputs": [
    {
     "data": {
      "text/plain": [
       "\u001b[0;31mSignature:\u001b[0m \u001b[0mSources\u001b[0m\u001b[0;34m.\u001b[0m\u001b[0mfilter\u001b[0m\u001b[0;34m(\u001b[0m\u001b[0mself\u001b[0m\u001b[0;34m,\u001b[0m \u001b[0;34m**\u001b[0m\u001b[0mkwargs\u001b[0m\u001b[0;34m)\u001b[0m\u001b[0;34m\u001b[0m\u001b[0;34m\u001b[0m\u001b[0m\n",
       "\u001b[0;31mDocstring:\u001b[0m <no docstring>\n",
       "\u001b[0;31mFile:\u001b[0m      ~/.local/lib/python3.10/site-packages/pyalex/api.py\n",
       "\u001b[0;31mType:\u001b[0m      function\n"
      ]
     },
     "metadata": {},
     "output_type": "display_data"
    }
   ],
   "source": [
    "Sources.filter?"
   ]
  },
  {
   "cell_type": "code",
   "execution_count": 59,
   "id": "c3bd23af-d9b3-4013-968b-e0a2f3944ee9",
   "metadata": {},
   "outputs": [
    {
     "data": {
      "text/plain": [
       "'Indian journal of information sources and services'"
      ]
     },
     "execution_count": 59,
     "metadata": {},
     "output_type": "execute_result"
    }
   ],
   "source": [
    "sources_list[-56]"
   ]
  },
  {
   "cell_type": "code",
   "execution_count": 60,
   "id": "aa70d2b2-0118-4e5d-8df1-8ac39fb4f2e8",
   "metadata": {},
   "outputs": [
    {
     "name": "stdout",
     "output_type": "stream",
     "text": [
      "IEEE Transactions on Industrial Electronics has homepage_url and type journal\n"
     ]
    },
    {
     "data": {
      "text/plain": [
       "'http://ieeexplore.ieee.org/servlet/opac?punumber=41'"
      ]
     },
     "execution_count": 60,
     "metadata": {},
     "output_type": "execute_result"
    }
   ],
   "source": [
    "sj0 = get_source_json(sources_list[0])\n",
    "sj0"
   ]
  },
  {
   "cell_type": "code",
   "execution_count": 61,
   "id": "b129b31a-dfe9-4d2b-8cac-3a5067d65c62",
   "metadata": {},
   "outputs": [],
   "source": [
    "#source_json"
   ]
  },
  {
   "cell_type": "code",
   "execution_count": 62,
   "id": "183611b9-fe1f-430f-9e88-30dd0853d886",
   "metadata": {},
   "outputs": [],
   "source": [
    "def get_display_page_dict(sl:list):\n",
    "    \"\"\"\n",
    "    sl is a list of Sources display_name values\n",
    "    returns the dictionary mapping\n",
    "    display_names with homepage_url values.\"\"\"\n",
    "    mapping_dict = dict()\n",
    "    for s in tqdm(sl):\n",
    "        try:\n",
    "            mapping_dict[s] = get_source_json(s)\n",
    "        except:\n",
    "            pass\n",
    "    return mapping_dict"
   ]
  },
  {
   "cell_type": "code",
   "execution_count": 63,
   "id": "ee8d4d8c-c580-41a8-a2bd-9ff4b49572ad",
   "metadata": {},
   "outputs": [
    {
     "name": "stderr",
     "output_type": "stream",
     "text": [
      "  0%|                                                                        | 1/1083 [00:00<09:33,  1.89it/s]"
     ]
    },
    {
     "name": "stdout",
     "output_type": "stream",
     "text": [
      "IEEE Transactions on Industrial Electronics has homepage_url and type journal\n"
     ]
    },
    {
     "name": "stderr",
     "output_type": "stream",
     "text": [
      "  0%|▏                                                                       | 3/1083 [00:01<10:35,  1.70it/s]"
     ]
    },
    {
     "name": "stdout",
     "output_type": "stream",
     "text": [
      "IEEE transactions on cybernetics has homepage_url and type journal\n"
     ]
    },
    {
     "name": "stderr",
     "output_type": "stream",
     "text": [
      "  0%|▎                                                                       | 4/1083 [00:02<09:55,  1.81it/s]"
     ]
    },
    {
     "name": "stdout",
     "output_type": "stream",
     "text": [
      "Neurocomputing has homepage_url and type journal\n"
     ]
    },
    {
     "name": "stderr",
     "output_type": "stream",
     "text": [
      "  0%|▎                                                                       | 5/1083 [00:02<09:20,  1.92it/s]"
     ]
    },
    {
     "name": "stdout",
     "output_type": "stream",
     "text": [
      "IEEE Transactions on Robotics has homepage_url and type journal\n"
     ]
    },
    {
     "name": "stderr",
     "output_type": "stream",
     "text": [
      "  1%|▍                                                                       | 6/1083 [00:03<08:45,  2.05it/s]"
     ]
    },
    {
     "name": "stdout",
     "output_type": "stream",
     "text": [
      "IEEE Transactions on Control Systems and Technology has homepage_url and type journal\n"
     ]
    },
    {
     "name": "stderr",
     "output_type": "stream",
     "text": [
      "  1%|▌                                                                       | 8/1083 [00:04<08:50,  2.03it/s]"
     ]
    },
    {
     "name": "stdout",
     "output_type": "stream",
     "text": [
      "IEEE Transactions on Industrial Informatics has homepage_url and type journal\n"
     ]
    },
    {
     "name": "stderr",
     "output_type": "stream",
     "text": [
      "  1%|▌                                                                       | 9/1083 [00:04<08:33,  2.09it/s]"
     ]
    },
    {
     "name": "stdout",
     "output_type": "stream",
     "text": [
      "IEEE transactions on neural networks and learning systems has homepage_url and type journal\n"
     ]
    },
    {
     "name": "stderr",
     "output_type": "stream",
     "text": [
      "  1%|▋                                                                      | 10/1083 [00:05<08:36,  2.08it/s]"
     ]
    },
    {
     "name": "stdout",
     "output_type": "stream",
     "text": [
      "International Journal of Systems Science has homepage_url and type journal\n"
     ]
    },
    {
     "name": "stderr",
     "output_type": "stream",
     "text": [
      "  1%|▋                                                                      | 11/1083 [00:05<08:47,  2.03it/s]"
     ]
    },
    {
     "name": "stdout",
     "output_type": "stream",
     "text": [
      "Annual Reviews in Control has homepage_url and type journal\n"
     ]
    },
    {
     "name": "stderr",
     "output_type": "stream",
     "text": [
      "  1%|▊                                                                      | 12/1083 [00:06<08:33,  2.09it/s]"
     ]
    },
    {
     "name": "stdout",
     "output_type": "stream",
     "text": [
      "IEEE robotics and automation letters has homepage_url and type journal\n"
     ]
    },
    {
     "name": "stderr",
     "output_type": "stream",
     "text": [
      "  1%|▊                                                                      | 13/1083 [00:06<08:27,  2.11it/s]"
     ]
    },
    {
     "name": "stdout",
     "output_type": "stream",
     "text": [
      "Iet Control Theory and Applications has homepage_url and type journal\n"
     ]
    },
    {
     "name": "stderr",
     "output_type": "stream",
     "text": [
      "  1%|▉                                                                      | 14/1083 [00:06<08:04,  2.21it/s]"
     ]
    },
    {
     "name": "stdout",
     "output_type": "stream",
     "text": [
      "Engineering Applications of Artificial Intelligence has homepage_url and type journal\n"
     ]
    },
    {
     "name": "stderr",
     "output_type": "stream",
     "text": [
      "  1%|█                                                                      | 16/1083 [00:07<08:17,  2.14it/s]"
     ]
    },
    {
     "name": "stdout",
     "output_type": "stream",
     "text": [
      "IEEE Transactions on Automation Science and Engineering has homepage_url and type journal\n"
     ]
    },
    {
     "name": "stderr",
     "output_type": "stream",
     "text": [
      "  2%|█                                                                      | 17/1083 [00:08<08:06,  2.19it/s]"
     ]
    },
    {
     "name": "stdout",
     "output_type": "stream",
     "text": [
      "International Journal of Control Automation and Systems has homepage_url and type journal\n"
     ]
    },
    {
     "name": "stderr",
     "output_type": "stream",
     "text": [
      "  2%|█▏                                                                     | 18/1083 [00:08<07:58,  2.22it/s]"
     ]
    },
    {
     "name": "stdout",
     "output_type": "stream",
     "text": [
      "Journal of the Franklin Institute has homepage_url and type journal\n"
     ]
    },
    {
     "name": "stderr",
     "output_type": "stream",
     "text": [
      "  2%|█▏                                                                     | 19/1083 [00:09<08:09,  2.18it/s]"
     ]
    },
    {
     "name": "stdout",
     "output_type": "stream",
     "text": [
      "Mechanism and Machine Theory has homepage_url and type journal\n"
     ]
    },
    {
     "name": "stderr",
     "output_type": "stream",
     "text": [
      "  2%|█▎                                                                     | 20/1083 [00:09<08:58,  1.97it/s]"
     ]
    },
    {
     "name": "stdout",
     "output_type": "stream",
     "text": [
      "Robotica has homepage_url and type journal\n"
     ]
    },
    {
     "name": "stderr",
     "output_type": "stream",
     "text": [
      "  2%|█▍                                                                     | 22/1083 [00:10<08:57,  1.97it/s]"
     ]
    },
    {
     "name": "stdout",
     "output_type": "stream",
     "text": [
      "Robotics and Autonomous Systems has homepage_url and type journal\n"
     ]
    },
    {
     "name": "stderr",
     "output_type": "stream",
     "text": [
      "  2%|█▌                                                                     | 23/1083 [00:11<08:46,  2.01it/s]"
     ]
    },
    {
     "name": "stdout",
     "output_type": "stream",
     "text": [
      "IEEE Access has homepage_url and type journal\n"
     ]
    },
    {
     "name": "stderr",
     "output_type": "stream",
     "text": [
      "  2%|█▌                                                                     | 24/1083 [00:11<09:13,  1.91it/s]"
     ]
    },
    {
     "name": "stdout",
     "output_type": "stream",
     "text": [
      "Robotics and Computer-integrated Manufacturing has homepage_url and type journal\n"
     ]
    },
    {
     "name": "stderr",
     "output_type": "stream",
     "text": [
      "  2%|█▋                                                                     | 25/1083 [00:12<10:07,  1.74it/s]"
     ]
    },
    {
     "name": "stdout",
     "output_type": "stream",
     "text": [
      "Cybernetics and Systems has homepage_url and type journal\n"
     ]
    },
    {
     "name": "stderr",
     "output_type": "stream",
     "text": [
      "  2%|█▋                                                                     | 26/1083 [00:13<09:23,  1.88it/s]"
     ]
    },
    {
     "name": "stdout",
     "output_type": "stream",
     "text": [
      "Robotics and Computer-Integrated Manufacturing has homepage_url and type journal\n"
     ]
    },
    {
     "name": "stderr",
     "output_type": "stream",
     "text": [
      "  2%|█▊                                                                     | 27/1083 [00:13<08:51,  1.99it/s]"
     ]
    },
    {
     "name": "stdout",
     "output_type": "stream",
     "text": [
      "Mechanical Systems and Signal Processing has homepage_url and type journal\n"
     ]
    },
    {
     "name": "stderr",
     "output_type": "stream",
     "text": [
      "  3%|█▊                                                                     | 28/1083 [00:13<08:59,  1.95it/s]"
     ]
    },
    {
     "name": "stdout",
     "output_type": "stream",
     "text": [
      "Applied sciences has homepage_url and type journal\n"
     ]
    },
    {
     "name": "stderr",
     "output_type": "stream",
     "text": [
      "  3%|█▉                                                                     | 29/1083 [00:14<08:36,  2.04it/s]"
     ]
    },
    {
     "name": "stdout",
     "output_type": "stream",
     "text": [
      "Procedia Engineering has homepage_url and type journal\n"
     ]
    },
    {
     "name": "stderr",
     "output_type": "stream",
     "text": [
      "  3%|█▉                                                                     | 30/1083 [00:14<08:08,  2.16it/s]"
     ]
    },
    {
     "name": "stdout",
     "output_type": "stream",
     "text": [
      "Surgical Innovation has homepage_url and type journal\n"
     ]
    },
    {
     "name": "stderr",
     "output_type": "stream",
     "text": [
      "  3%|██                                                                     | 31/1083 [00:15<08:18,  2.11it/s]"
     ]
    },
    {
     "name": "stdout",
     "output_type": "stream",
     "text": [
      "Procedia Computer Science has homepage_url and type journal\n"
     ]
    },
    {
     "name": "stderr",
     "output_type": "stream",
     "text": [
      "  3%|██                                                                     | 32/1083 [00:15<08:51,  1.98it/s]"
     ]
    },
    {
     "name": "stdout",
     "output_type": "stream",
     "text": [
      "Acta Astronautica has homepage_url and type journal\n"
     ]
    },
    {
     "name": "stderr",
     "output_type": "stream",
     "text": [
      "  3%|██▏                                                                    | 33/1083 [00:16<08:44,  2.00it/s]"
     ]
    },
    {
     "name": "stdout",
     "output_type": "stream",
     "text": [
      "Journal of Computational Science has homepage_url and type journal\n"
     ]
    },
    {
     "name": "stderr",
     "output_type": "stream",
     "text": [
      "  3%|██▏                                                                    | 34/1083 [00:16<08:40,  2.02it/s]"
     ]
    },
    {
     "name": "stdout",
     "output_type": "stream",
     "text": [
      "Automatica has homepage_url and type journal\n"
     ]
    },
    {
     "name": "stderr",
     "output_type": "stream",
     "text": [
      "  3%|██▎                                                                    | 35/1083 [00:17<08:30,  2.05it/s]"
     ]
    },
    {
     "name": "stdout",
     "output_type": "stream",
     "text": [
      "Asian Journal of Control has homepage_url and type journal\n"
     ]
    },
    {
     "name": "stderr",
     "output_type": "stream",
     "text": [
      "  4%|██▍                                                                    | 38/1083 [00:18<08:00,  2.18it/s]"
     ]
    },
    {
     "name": "stdout",
     "output_type": "stream",
     "text": [
      "International Journal of Robust and Nonlinear Control has homepage_url and type journal\n"
     ]
    },
    {
     "name": "stderr",
     "output_type": "stream",
     "text": [
      "  4%|██▌                                                                    | 40/1083 [00:19<07:58,  2.18it/s]"
     ]
    },
    {
     "name": "stdout",
     "output_type": "stream",
     "text": [
      "The International Journal of Robotics Research has homepage_url and type journal\n"
     ]
    },
    {
     "name": "stderr",
     "output_type": "stream",
     "text": [
      "  4%|██▋                                                                    | 41/1083 [00:20<08:15,  2.10it/s]"
     ]
    },
    {
     "name": "stdout",
     "output_type": "stream",
     "text": [
      "Ocean Engineering has homepage_url and type journal\n"
     ]
    },
    {
     "name": "stderr",
     "output_type": "stream",
     "text": [
      "  4%|██▊                                                                    | 43/1083 [00:21<08:21,  2.07it/s]"
     ]
    },
    {
     "name": "stdout",
     "output_type": "stream",
     "text": [
      "Soft robotics has homepage_url and type journal\n"
     ]
    },
    {
     "name": "stderr",
     "output_type": "stream",
     "text": [
      "  4%|██▉                                                                    | 44/1083 [00:21<08:23,  2.06it/s]"
     ]
    },
    {
     "name": "stdout",
     "output_type": "stream",
     "text": [
      "Applied Mathematical Modelling has homepage_url and type journal\n"
     ]
    },
    {
     "name": "stderr",
     "output_type": "stream",
     "text": [
      "  4%|██▉                                                                    | 45/1083 [00:21<07:56,  2.18it/s]"
     ]
    },
    {
     "name": "stdout",
     "output_type": "stream",
     "text": [
      "Procedia CIRP has homepage_url and type journal\n"
     ]
    },
    {
     "name": "stderr",
     "output_type": "stream",
     "text": [
      "  4%|███                                                                    | 46/1083 [00:22<07:48,  2.21it/s]"
     ]
    },
    {
     "name": "stdout",
     "output_type": "stream",
     "text": [
      "ISA Transactions has homepage_url and type journal\n"
     ]
    },
    {
     "name": "stderr",
     "output_type": "stream",
     "text": [
      "  4%|███                                                                    | 47/1083 [00:22<08:26,  2.04it/s]"
     ]
    },
    {
     "name": "stdout",
     "output_type": "stream",
     "text": [
      "International Journal of Control has homepage_url and type journal\n"
     ]
    },
    {
     "name": "stderr",
     "output_type": "stream",
     "text": [
      "  4%|███▏                                                                   | 48/1083 [00:23<08:03,  2.14it/s]"
     ]
    },
    {
     "name": "stdout",
     "output_type": "stream",
     "text": [
      "IEEE Transactions on Automatic Control has homepage_url and type journal\n"
     ]
    },
    {
     "name": "stderr",
     "output_type": "stream",
     "text": [
      "  5%|███▏                                                                   | 49/1083 [00:23<07:49,  2.20it/s]"
     ]
    },
    {
     "name": "stdout",
     "output_type": "stream",
     "text": [
      "International Journal of Advanced Robotic Systems has homepage_url and type journal\n"
     ]
    },
    {
     "name": "stderr",
     "output_type": "stream",
     "text": [
      "  5%|███▎                                                                   | 50/1083 [00:24<07:40,  2.24it/s]"
     ]
    },
    {
     "name": "stdout",
     "output_type": "stream",
     "text": [
      "IEEE Transactions on Biomedical Engineering has homepage_url and type journal\n"
     ]
    },
    {
     "name": "stderr",
     "output_type": "stream",
     "text": [
      "  5%|███▎                                                                   | 51/1083 [00:24<07:40,  2.24it/s]"
     ]
    },
    {
     "name": "stdout",
     "output_type": "stream",
     "text": [
      "Neural Computation has homepage_url and type journal\n"
     ]
    },
    {
     "name": "stderr",
     "output_type": "stream",
     "text": [
      "  5%|███▍                                                                   | 52/1083 [00:25<07:59,  2.15it/s]"
     ]
    },
    {
     "name": "stdout",
     "output_type": "stream",
     "text": [
      "Control Engineering Practice has homepage_url and type journal\n"
     ]
    },
    {
     "name": "stderr",
     "output_type": "stream",
     "text": [
      "  5%|███▍                                                                   | 53/1083 [00:25<08:35,  2.00it/s]"
     ]
    },
    {
     "name": "stdout",
     "output_type": "stream",
     "text": [
      "IFAC-PapersOnLine has homepage_url and type journal\n"
     ]
    },
    {
     "name": "stderr",
     "output_type": "stream",
     "text": [
      "  5%|███▌                                                                   | 54/1083 [00:26<08:05,  2.12it/s]"
     ]
    },
    {
     "name": "stdout",
     "output_type": "stream",
     "text": [
      "Computers and Electronics in Agriculture has homepage_url and type journal\n"
     ]
    },
    {
     "name": "stderr",
     "output_type": "stream",
     "text": [
      "  5%|███▌                                                                   | 55/1083 [00:26<08:01,  2.13it/s]"
     ]
    },
    {
     "name": "stdout",
     "output_type": "stream",
     "text": [
      "Automation in Construction has homepage_url and type journal\n"
     ]
    },
    {
     "name": "stderr",
     "output_type": "stream",
     "text": [
      "  5%|███▋                                                                   | 56/1083 [00:27<08:05,  2.11it/s]"
     ]
    },
    {
     "name": "stdout",
     "output_type": "stream",
     "text": [
      "Advances in intelligent systems and computing has homepage_url and type book series\n"
     ]
    },
    {
     "name": "stderr",
     "output_type": "stream",
     "text": [
      "  5%|███▋                                                                   | 57/1083 [00:27<08:10,  2.09it/s]"
     ]
    },
    {
     "name": "stdout",
     "output_type": "stream",
     "text": [
      "Mechanics Based Design of Structures and Machines has homepage_url and type journal\n"
     ]
    },
    {
     "name": "stderr",
     "output_type": "stream",
     "text": [
      "  5%|███▊                                                                   | 58/1083 [00:28<08:03,  2.12it/s]"
     ]
    },
    {
     "name": "stdout",
     "output_type": "stream",
     "text": [
      "Sensors has homepage_url and type journal\n"
     ]
    },
    {
     "name": "stderr",
     "output_type": "stream",
     "text": [
      "  5%|███▊                                                                   | 59/1083 [00:28<08:20,  2.04it/s]"
     ]
    },
    {
     "name": "stdout",
     "output_type": "stream",
     "text": [
      "IEEE Sensors Journal has homepage_url and type journal\n"
     ]
    },
    {
     "name": "stderr",
     "output_type": "stream",
     "text": [
      "  6%|███▉                                                                   | 61/1083 [00:29<07:44,  2.20it/s]"
     ]
    },
    {
     "name": "stdout",
     "output_type": "stream",
     "text": [
      "Journal of Field Robotics has homepage_url and type journal\n"
     ]
    },
    {
     "name": "stderr",
     "output_type": "stream",
     "text": [
      "  6%|████                                                                   | 62/1083 [00:29<07:54,  2.15it/s]"
     ]
    },
    {
     "name": "stdout",
     "output_type": "stream",
     "text": [
      "Advanced Robotics has homepage_url and type journal\n"
     ]
    },
    {
     "name": "stderr",
     "output_type": "stream",
     "text": [
      "  6%|████▏                                                                  | 63/1083 [00:30<07:48,  2.18it/s]"
     ]
    },
    {
     "name": "stdout",
     "output_type": "stream",
     "text": [
      "SN applied sciences has homepage_url and type journal\n"
     ]
    },
    {
     "name": "stderr",
     "output_type": "stream",
     "text": [
      "  6%|████▏                                                                  | 64/1083 [00:30<08:04,  2.10it/s]"
     ]
    },
    {
     "name": "stdout",
     "output_type": "stream",
     "text": [
      "Journal of Intelligent and Robotic Systems has homepage_url and type journal\n"
     ]
    },
    {
     "name": "stderr",
     "output_type": "stream",
     "text": [
      "  6%|████▎                                                                  | 66/1083 [00:31<07:45,  2.19it/s]"
     ]
    },
    {
     "name": "stdout",
     "output_type": "stream",
     "text": [
      "Proceedings of the IEEE has homepage_url and type journal\n"
     ]
    },
    {
     "name": "stderr",
     "output_type": "stream",
     "text": [
      "  6%|████▍                                                                  | 67/1083 [00:32<07:32,  2.24it/s]"
     ]
    },
    {
     "name": "stdout",
     "output_type": "stream",
     "text": [
      "IEEE/CAA Journal of Automatica Sinica has homepage_url and type journal\n"
     ]
    },
    {
     "name": "stderr",
     "output_type": "stream",
     "text": [
      "  6%|████▍                                                                  | 68/1083 [00:32<07:43,  2.19it/s]"
     ]
    },
    {
     "name": "stdout",
     "output_type": "stream",
     "text": [
      "International Journal of Electrical Engineering Education has homepage_url and type journal\n"
     ]
    },
    {
     "name": "stderr",
     "output_type": "stream",
     "text": [
      "  7%|████▋                                                                  | 71/1083 [00:33<07:17,  2.31it/s]"
     ]
    },
    {
     "name": "stdout",
     "output_type": "stream",
     "text": [
      "IEEE Latin America Transactions has homepage_url and type journal\n"
     ]
    },
    {
     "name": "stderr",
     "output_type": "stream",
     "text": [
      "  7%|████▋                                                                  | 72/1083 [00:34<07:48,  2.16it/s]"
     ]
    },
    {
     "name": "stdout",
     "output_type": "stream",
     "text": [
      "Robotics has homepage_url and type journal\n"
     ]
    },
    {
     "name": "stderr",
     "output_type": "stream",
     "text": [
      "  7%|████▊                                                                  | 73/1083 [00:34<07:38,  2.20it/s]"
     ]
    },
    {
     "name": "stdout",
     "output_type": "stream",
     "text": [
      "Actuators has homepage_url and type journal\n"
     ]
    },
    {
     "name": "stderr",
     "output_type": "stream",
     "text": [
      "  7%|████▊                                                                  | 74/1083 [00:35<07:35,  2.22it/s]"
     ]
    },
    {
     "name": "stdout",
     "output_type": "stream",
     "text": [
      "Applied Soft Computing has homepage_url and type journal\n"
     ]
    },
    {
     "name": "stderr",
     "output_type": "stream",
     "text": [
      "  7%|████▉                                                                  | 75/1083 [00:35<08:13,  2.04it/s]"
     ]
    },
    {
     "name": "stdout",
     "output_type": "stream",
     "text": [
      "Simulation has homepage_url and type journal\n"
     ]
    },
    {
     "name": "stderr",
     "output_type": "stream",
     "text": [
      "  7%|████▉                                                                  | 76/1083 [00:36<08:05,  2.07it/s]"
     ]
    },
    {
     "name": "stdout",
     "output_type": "stream",
     "text": [
      "International Journal of Humanoid Robotics has homepage_url and type journal\n"
     ]
    },
    {
     "name": "stderr",
     "output_type": "stream",
     "text": [
      "  7%|█████▏                                                                 | 79/1083 [00:37<07:35,  2.20it/s]"
     ]
    },
    {
     "name": "stdout",
     "output_type": "stream",
     "text": [
      "Journal of Mechanisms and Robotics has homepage_url and type journal\n"
     ]
    },
    {
     "name": "stderr",
     "output_type": "stream",
     "text": [
      "  7%|█████▏                                                                 | 80/1083 [00:38<08:16,  2.02it/s]"
     ]
    },
    {
     "name": "stdout",
     "output_type": "stream",
     "text": [
      "Electronics has homepage_url and type journal\n"
     ]
    },
    {
     "name": "stderr",
     "output_type": "stream",
     "text": [
      "  7%|█████▎                                                                 | 81/1083 [00:38<08:02,  2.08it/s]"
     ]
    },
    {
     "name": "stdout",
     "output_type": "stream",
     "text": [
      "Journal of King Saud University: Engineering Sciences has homepage_url and type journal\n"
     ]
    },
    {
     "name": "stderr",
     "output_type": "stream",
     "text": [
      "  8%|█████▍                                                                 | 82/1083 [00:39<07:42,  2.17it/s]"
     ]
    },
    {
     "name": "stdout",
     "output_type": "stream",
     "text": [
      "International Journal of Applied Mathematics and Computer Science has homepage_url and type journal\n"
     ]
    },
    {
     "name": "stderr",
     "output_type": "stream",
     "text": [
      "  8%|█████▍                                                                 | 83/1083 [00:39<07:32,  2.21it/s]"
     ]
    },
    {
     "name": "stdout",
     "output_type": "stream",
     "text": [
      "International Journal of Dynamics and Control has homepage_url and type journal\n"
     ]
    },
    {
     "name": "stderr",
     "output_type": "stream",
     "text": [
      "  8%|█████▌                                                                 | 84/1083 [00:40<07:30,  2.22it/s]"
     ]
    },
    {
     "name": "stdout",
     "output_type": "stream",
     "text": [
      "Communications in computer and information science has homepage_url and type book series\n"
     ]
    },
    {
     "name": "stderr",
     "output_type": "stream",
     "text": [
      "  8%|█████▌                                                                 | 85/1083 [00:40<07:16,  2.28it/s]"
     ]
    },
    {
     "name": "stdout",
     "output_type": "stream",
     "text": [
      "IEEE Transactions on Control of Network Systems has homepage_url and type journal\n"
     ]
    },
    {
     "name": "stderr",
     "output_type": "stream",
     "text": [
      "  8%|█████▋                                                                 | 87/1083 [00:41<07:23,  2.25it/s]"
     ]
    },
    {
     "name": "stdout",
     "output_type": "stream",
     "text": [
      "Pattern Recognition Letters has homepage_url and type journal\n"
     ]
    },
    {
     "name": "stderr",
     "output_type": "stream",
     "text": [
      "  8%|█████▉                                                                 | 91/1083 [00:43<07:16,  2.27it/s]"
     ]
    },
    {
     "name": "stdout",
     "output_type": "stream",
     "text": [
      "Neural Networks has homepage_url and type journal\n"
     ]
    },
    {
     "name": "stderr",
     "output_type": "stream",
     "text": [
      "  8%|██████                                                                 | 92/1083 [00:43<07:26,  2.22it/s]"
     ]
    },
    {
     "name": "stdout",
     "output_type": "stream",
     "text": [
      "Assembly Automation has homepage_url and type journal\n"
     ]
    },
    {
     "name": "stderr",
     "output_type": "stream",
     "text": [
      "  9%|██████                                                                 | 93/1083 [00:43<07:29,  2.20it/s]"
     ]
    },
    {
     "name": "stdout",
     "output_type": "stream",
     "text": [
      "IEEE Transactions on Industry Applications has homepage_url and type journal\n"
     ]
    },
    {
     "name": "stderr",
     "output_type": "stream",
     "text": [
      "  9%|██████▏                                                                | 95/1083 [00:44<07:00,  2.35it/s]"
     ]
    },
    {
     "name": "stdout",
     "output_type": "stream",
     "text": [
      "Lecture Notes in Computer Science has homepage_url and type book series\n"
     ]
    },
    {
     "name": "stderr",
     "output_type": "stream",
     "text": [
      "  9%|██████▍                                                               | 100/1083 [00:48<12:57,  1.26it/s]"
     ]
    },
    {
     "name": "stdout",
     "output_type": "stream",
     "text": [
      "Mathematical Problems in Engineering has homepage_url and type journal\n"
     ]
    },
    {
     "name": "stderr",
     "output_type": "stream",
     "text": [
      "  9%|██████▌                                                               | 101/1083 [00:48<11:16,  1.45it/s]"
     ]
    },
    {
     "name": "stdout",
     "output_type": "stream",
     "text": [
      "Mobile Information Systems has homepage_url and type journal\n"
     ]
    },
    {
     "name": "stderr",
     "output_type": "stream",
     "text": [
      " 10%|██████▊                                                               | 105/1083 [00:50<08:37,  1.89it/s]"
     ]
    },
    {
     "name": "stdout",
     "output_type": "stream",
     "text": [
      "Inventions has homepage_url and type journal\n"
     ]
    },
    {
     "name": "stderr",
     "output_type": "stream",
     "text": [
      " 10%|██████▊                                                               | 106/1083 [00:51<08:48,  1.85it/s]"
     ]
    },
    {
     "name": "stdout",
     "output_type": "stream",
     "text": [
      "Mathematics has homepage_url and type journal\n"
     ]
    },
    {
     "name": "stderr",
     "output_type": "stream",
     "text": [
      " 10%|██████▉                                                               | 107/1083 [00:51<08:35,  1.89it/s]"
     ]
    },
    {
     "name": "stdout",
     "output_type": "stream",
     "text": [
      "International Journal of Computer Assisted Radiology and Surgery has homepage_url and type journal\n"
     ]
    },
    {
     "name": "stderr",
     "output_type": "stream",
     "text": [
      " 10%|██████▉                                                               | 108/1083 [00:52<08:08,  2.00it/s]"
     ]
    },
    {
     "name": "stdout",
     "output_type": "stream",
     "text": [
      "IEEE transactions on medical robotics and bionics has homepage_url and type journal\n"
     ]
    },
    {
     "name": "stderr",
     "output_type": "stream",
     "text": [
      " 10%|███████                                                               | 110/1083 [00:53<07:33,  2.15it/s]"
     ]
    },
    {
     "name": "stdout",
     "output_type": "stream",
     "text": [
      "Materials Today: Proceedings has homepage_url and type journal\n"
     ]
    },
    {
     "name": "stderr",
     "output_type": "stream",
     "text": [
      " 10%|███████▏                                                              | 111/1083 [00:53<07:31,  2.15it/s]"
     ]
    },
    {
     "name": "stdout",
     "output_type": "stream",
     "text": [
      "Lecture notes in electrical engineering has homepage_url and type book series\n"
     ]
    },
    {
     "name": "stderr",
     "output_type": "stream",
     "text": [
      " 10%|███████▎                                                              | 113/1083 [00:54<07:13,  2.24it/s]"
     ]
    },
    {
     "name": "stdout",
     "output_type": "stream",
     "text": [
      "Scientia Iranica has homepage_url and type journal\n"
     ]
    },
    {
     "name": "stderr",
     "output_type": "stream",
     "text": [
      " 11%|███████▎                                                              | 114/1083 [00:54<07:31,  2.15it/s]"
     ]
    },
    {
     "name": "stdout",
     "output_type": "stream",
     "text": [
      "Frontiers in Neurorobotics has homepage_url and type journal\n"
     ]
    },
    {
     "name": "stderr",
     "output_type": "stream",
     "text": [
      " 11%|███████▍                                                              | 116/1083 [00:55<08:25,  1.91it/s]"
     ]
    },
    {
     "name": "stdout",
     "output_type": "stream",
     "text": [
      "Journal of Information Technology Research has homepage_url and type journal\n"
     ]
    },
    {
     "name": "stderr",
     "output_type": "stream",
     "text": [
      " 11%|███████▌                                                              | 117/1083 [00:56<08:01,  2.01it/s]"
     ]
    },
    {
     "name": "stdout",
     "output_type": "stream",
     "text": [
      "International Journal of Online Engineering has homepage_url and type journal\n"
     ]
    },
    {
     "name": "stderr",
     "output_type": "stream",
     "text": [
      " 11%|███████▊                                                              | 120/1083 [00:57<07:06,  2.26it/s]"
     ]
    },
    {
     "name": "stdout",
     "output_type": "stream",
     "text": [
      "MATEC web of conferences has homepage_url and type journal\n"
     ]
    },
    {
     "name": "stderr",
     "output_type": "stream",
     "text": [
      " 11%|███████▉                                                              | 123/1083 [00:58<06:53,  2.32it/s]"
     ]
    },
    {
     "name": "stdout",
     "output_type": "stream",
     "text": [
      "Swarm and evolutionary computation has homepage_url and type journal\n"
     ]
    },
    {
     "name": "stderr",
     "output_type": "stream",
     "text": [
      " 11%|████████                                                              | 124/1083 [00:59<06:57,  2.29it/s]"
     ]
    },
    {
     "name": "stdout",
     "output_type": "stream",
     "text": [
      "arXiv (Cornell University) has homepage_url and type repository\n"
     ]
    },
    {
     "name": "stderr",
     "output_type": "stream",
     "text": [
      " 12%|████████                                                              | 125/1083 [01:00<07:59,  2.00it/s]"
     ]
    },
    {
     "name": "stdout",
     "output_type": "stream",
     "text": [
      "Measurement has homepage_url and type journal\n"
     ]
    },
    {
     "name": "stderr",
     "output_type": "stream",
     "text": [
      " 12%|████████▏                                                             | 127/1083 [01:00<07:55,  2.01it/s]"
     ]
    },
    {
     "name": "stdout",
     "output_type": "stream",
     "text": [
      "Journal of Vibration and Control has homepage_url and type journal\n"
     ]
    },
    {
     "name": "stderr",
     "output_type": "stream",
     "text": [
      " 12%|████████▎                                                             | 128/1083 [01:01<07:37,  2.09it/s]"
     ]
    },
    {
     "name": "stdout",
     "output_type": "stream",
     "text": [
      "Cogent engineering has homepage_url and type journal\n"
     ]
    },
    {
     "name": "stderr",
     "output_type": "stream",
     "text": [
      " 12%|████████▍                                                             | 130/1083 [01:02<07:02,  2.25it/s]"
     ]
    },
    {
     "name": "stdout",
     "output_type": "stream",
     "text": [
      "Iete Journal of Research has homepage_url and type journal\n"
     ]
    },
    {
     "name": "stderr",
     "output_type": "stream",
     "text": [
      " 12%|████████▌                                                             | 132/1083 [01:03<07:28,  2.12it/s]"
     ]
    },
    {
     "name": "stdout",
     "output_type": "stream",
     "text": [
      "Journal Of The Chinese Institute Of Engineers has homepage_url and type journal\n"
     ]
    },
    {
     "name": "stderr",
     "output_type": "stream",
     "text": [
      " 12%|████████▌                                                             | 133/1083 [01:03<07:14,  2.19it/s]"
     ]
    },
    {
     "name": "stdout",
     "output_type": "stream",
     "text": [
      "Applied Mechanics and Materials has homepage_url and type journal\n"
     ]
    },
    {
     "name": "stderr",
     "output_type": "stream",
     "text": [
      " 12%|████████▋                                                             | 134/1083 [01:04<07:20,  2.16it/s]"
     ]
    },
    {
     "name": "stdout",
     "output_type": "stream",
     "text": [
      "Complexity has homepage_url and type journal\n"
     ]
    },
    {
     "name": "stderr",
     "output_type": "stream",
     "text": [
      " 12%|████████▋                                                             | 135/1083 [01:04<07:09,  2.21it/s]"
     ]
    },
    {
     "name": "stdout",
     "output_type": "stream",
     "text": [
      "IEEE Transactions on Human-Machine Systems has homepage_url and type journal\n"
     ]
    },
    {
     "name": "stderr",
     "output_type": "stream",
     "text": [
      " 13%|████████▊                                                             | 137/1083 [01:05<07:49,  2.02it/s]"
     ]
    },
    {
     "name": "stdout",
     "output_type": "stream",
     "text": [
      "Structures has homepage_url and type journal\n"
     ]
    },
    {
     "name": "stderr",
     "output_type": "stream",
     "text": [
      " 13%|████████▉                                                             | 139/1083 [01:06<07:43,  2.04it/s]"
     ]
    },
    {
     "name": "stdout",
     "output_type": "stream",
     "text": [
      "Automatisierungstechnik has homepage_url and type journal\n"
     ]
    },
    {
     "name": "stderr",
     "output_type": "stream",
     "text": [
      " 13%|█████████                                                             | 140/1083 [01:06<07:20,  2.14it/s]"
     ]
    },
    {
     "name": "stdout",
     "output_type": "stream",
     "text": [
      "Lecture notes in networks and systems has homepage_url and type book series\n"
     ]
    },
    {
     "name": "stderr",
     "output_type": "stream",
     "text": [
      " 13%|█████████▏                                                            | 142/1083 [01:07<07:13,  2.17it/s]"
     ]
    },
    {
     "name": "stdout",
     "output_type": "stream",
     "text": [
      "Advances in industrial control has homepage_url and type book series\n"
     ]
    },
    {
     "name": "stderr",
     "output_type": "stream",
     "text": [
      " 13%|█████████▎                                                            | 144/1083 [01:08<07:30,  2.09it/s]"
     ]
    },
    {
     "name": "stdout",
     "output_type": "stream",
     "text": [
      "Journal of Intelligent and Fuzzy Systems has homepage_url and type journal\n"
     ]
    },
    {
     "name": "stderr",
     "output_type": "stream",
     "text": [
      " 13%|█████████▎                                                            | 145/1083 [01:09<07:19,  2.13it/s]"
     ]
    },
    {
     "name": "stdout",
     "output_type": "stream",
     "text": [
      "Ain Shams Engineering Journal has homepage_url and type journal\n"
     ]
    },
    {
     "name": "stderr",
     "output_type": "stream",
     "text": [
      " 13%|█████████▍                                                            | 146/1083 [01:09<07:23,  2.11it/s]"
     ]
    },
    {
     "name": "stdout",
     "output_type": "stream",
     "text": [
      "Algorithms has homepage_url and type journal\n"
     ]
    },
    {
     "name": "stderr",
     "output_type": "stream",
     "text": [
      " 14%|█████████▌                                                            | 148/1083 [01:10<07:55,  1.97it/s]"
     ]
    },
    {
     "name": "stdout",
     "output_type": "stream",
     "text": [
      "IFAC Journal of Systems and Control has homepage_url and type journal\n"
     ]
    },
    {
     "name": "stderr",
     "output_type": "stream",
     "text": [
      " 14%|█████████▋                                                            | 149/1083 [01:11<07:40,  2.03it/s]"
     ]
    },
    {
     "name": "stdout",
     "output_type": "stream",
     "text": [
      "Advances in Mechanical Engineering has homepage_url and type journal\n"
     ]
    },
    {
     "name": "stderr",
     "output_type": "stream",
     "text": [
      " 14%|█████████▊                                                            | 152/1083 [01:12<06:50,  2.27it/s]"
     ]
    },
    {
     "name": "stdout",
     "output_type": "stream",
     "text": [
      "International Journal of Mechatronics and Automation has homepage_url and type journal\n"
     ]
    },
    {
     "name": "stderr",
     "output_type": "stream",
     "text": [
      " 14%|█████████▉                                                            | 153/1083 [01:13<06:55,  2.24it/s]"
     ]
    },
    {
     "name": "stdout",
     "output_type": "stream",
     "text": [
      "Expert Systems with Applications has homepage_url and type journal\n"
     ]
    },
    {
     "name": "stderr",
     "output_type": "stream",
     "text": [
      " 14%|█████████▉                                                            | 154/1083 [01:13<07:08,  2.17it/s]"
     ]
    },
    {
     "name": "stdout",
     "output_type": "stream",
     "text": [
      "Studies in computational intelligence has homepage_url and type book series\n"
     ]
    },
    {
     "name": "stderr",
     "output_type": "stream",
     "text": [
      " 14%|██████████                                                            | 155/1083 [01:13<07:01,  2.20it/s]"
     ]
    },
    {
     "name": "stdout",
     "output_type": "stream",
     "text": [
      "International review of automatic control has homepage_url and type journal\n"
     ]
    },
    {
     "name": "stderr",
     "output_type": "stream",
     "text": [
      " 14%|██████████                                                            | 156/1083 [01:14<06:57,  2.22it/s]"
     ]
    },
    {
     "name": "stdout",
     "output_type": "stream",
     "text": [
      "Transactions of the Institute of Measurement and Control has homepage_url and type journal\n"
     ]
    },
    {
     "name": "stderr",
     "output_type": "stream",
     "text": [
      " 14%|██████████▏                                                           | 157/1083 [01:14<06:41,  2.30it/s]"
     ]
    },
    {
     "name": "stdout",
     "output_type": "stream",
     "text": [
      "Lecture notes in mechanical engineering has homepage_url and type book series\n"
     ]
    },
    {
     "name": "stderr",
     "output_type": "stream",
     "text": [
      " 15%|██████████▎                                                           | 160/1083 [01:16<07:18,  2.10it/s]"
     ]
    },
    {
     "name": "stdout",
     "output_type": "stream",
     "text": [
      "ITM web of conferences has homepage_url and type journal\n"
     ]
    },
    {
     "name": "stderr",
     "output_type": "stream",
     "text": [
      " 15%|██████████▍                                                           | 161/1083 [01:16<07:08,  2.15it/s]"
     ]
    },
    {
     "name": "stdout",
     "output_type": "stream",
     "text": [
      "Journal of rehabilitation robotics has homepage_url and type journal\n"
     ]
    },
    {
     "name": "stderr",
     "output_type": "stream",
     "text": [
      " 15%|██████████▍                                                           | 162/1083 [01:17<06:58,  2.20it/s]"
     ]
    },
    {
     "name": "stdout",
     "output_type": "stream",
     "text": [
      "Australian journal of mechanical engineering has homepage_url and type journal\n"
     ]
    },
    {
     "name": "stderr",
     "output_type": "stream",
     "text": [
      " 15%|██████████▋                                                           | 166/1083 [01:19<07:01,  2.17it/s]"
     ]
    },
    {
     "name": "stdout",
     "output_type": "stream",
     "text": [
      "Mechanika has homepage_url and type journal\n"
     ]
    },
    {
     "name": "stderr",
     "output_type": "stream",
     "text": [
      " 15%|██████████▊                                                           | 167/1083 [01:19<06:46,  2.25it/s]"
     ]
    },
    {
     "name": "stdout",
     "output_type": "stream",
     "text": [
      "Intelligent systems reference library has homepage_url and type book series\n"
     ]
    },
    {
     "name": "stderr",
     "output_type": "stream",
     "text": [
      " 16%|██████████▉                                                           | 170/1083 [01:20<07:13,  2.11it/s]"
     ]
    },
    {
     "name": "stdout",
     "output_type": "stream",
     "text": [
      "Courses and lectures has homepage_url and type book series\n"
     ]
    },
    {
     "name": "stderr",
     "output_type": "stream",
     "text": [
      " 16%|███████████                                                           | 172/1083 [01:21<06:52,  2.21it/s]"
     ]
    },
    {
     "name": "stdout",
     "output_type": "stream",
     "text": [
      "Mathematical Biosciences and Engineering has homepage_url and type journal\n"
     ]
    },
    {
     "name": "stderr",
     "output_type": "stream",
     "text": [
      " 16%|███████████▎                                                          | 175/1083 [01:23<06:54,  2.19it/s]"
     ]
    },
    {
     "name": "stdout",
     "output_type": "stream",
     "text": [
      "Machines has homepage_url and type journal\n"
     ]
    },
    {
     "name": "stderr",
     "output_type": "stream",
     "text": [
      " 16%|███████████▍                                                          | 176/1083 [01:23<06:47,  2.23it/s]"
     ]
    },
    {
     "name": "stdout",
     "output_type": "stream",
     "text": [
      "Journal of Theoretical and Applied Mechanics has homepage_url and type journal\n"
     ]
    },
    {
     "name": "stderr",
     "output_type": "stream",
     "text": [
      " 16%|███████████▍                                                          | 177/1083 [01:24<07:06,  2.12it/s]"
     ]
    },
    {
     "name": "stdout",
     "output_type": "stream",
     "text": [
      "Journal of Healthcare Engineering has homepage_url and type journal\n"
     ]
    },
    {
     "name": "stderr",
     "output_type": "stream",
     "text": [
      " 16%|███████████▌                                                          | 178/1083 [01:24<06:56,  2.17it/s]"
     ]
    },
    {
     "name": "stdout",
     "output_type": "stream",
     "text": [
      "Al-Nahrain Journal for Engineering Sciences has homepage_url and type journal\n"
     ]
    },
    {
     "name": "stderr",
     "output_type": "stream",
     "text": [
      " 17%|███████████▌                                                          | 179/1083 [01:24<06:48,  2.22it/s]"
     ]
    },
    {
     "name": "stdout",
     "output_type": "stream",
     "text": [
      "Fusion Engineering and Design has homepage_url and type journal\n"
     ]
    },
    {
     "name": "stderr",
     "output_type": "stream",
     "text": [
      " 17%|███████████▊                                                          | 182/1083 [01:26<07:21,  2.04it/s]"
     ]
    },
    {
     "name": "stdout",
     "output_type": "stream",
     "text": [
      "Engineering materials has homepage_url and type journal\n"
     ]
    },
    {
     "name": "stderr",
     "output_type": "stream",
     "text": [
      " 17%|███████████▊                                                          | 183/1083 [01:26<06:56,  2.16it/s]"
     ]
    },
    {
     "name": "stdout",
     "output_type": "stream",
     "text": [
      "Tehnički glasnik has homepage_url and type journal\n"
     ]
    },
    {
     "name": "stderr",
     "output_type": "stream",
     "text": [
      " 17%|███████████▉                                                          | 185/1083 [01:27<06:45,  2.21it/s]"
     ]
    },
    {
     "name": "stdout",
     "output_type": "stream",
     "text": [
      "International Journal of Medical Robotics and Computer Assisted Surgery has homepage_url and type journal\n"
     ]
    },
    {
     "name": "stderr",
     "output_type": "stream",
     "text": [
      " 17%|████████████                                                          | 186/1083 [01:28<06:39,  2.24it/s]"
     ]
    },
    {
     "name": "stdout",
     "output_type": "stream",
     "text": [
      "Springer tracts in advanced robotics has homepage_url and type book series\n"
     ]
    },
    {
     "name": "stderr",
     "output_type": "stream",
     "text": [
      " 17%|████████████                                                          | 187/1083 [01:28<06:53,  2.17it/s]"
     ]
    },
    {
     "name": "stdout",
     "output_type": "stream",
     "text": [
      "Journal of physics has homepage_url and type journal\n"
     ]
    },
    {
     "name": "stderr",
     "output_type": "stream",
     "text": [
      " 17%|████████████▏                                                         | 188/1083 [01:28<06:44,  2.21it/s]"
     ]
    },
    {
     "name": "stdout",
     "output_type": "stream",
     "text": [
      "HAL (Le Centre pour la Communication Scientifique Directe) has homepage_url and type repository\n"
     ]
    },
    {
     "name": "stderr",
     "output_type": "stream",
     "text": [
      " 18%|████████████▎                                                         | 191/1083 [01:30<06:38,  2.24it/s]"
     ]
    },
    {
     "name": "stdout",
     "output_type": "stream",
     "text": [
      "Automatika has homepage_url and type journal\n"
     ]
    },
    {
     "name": "stderr",
     "output_type": "stream",
     "text": [
      " 18%|████████████▌                                                         | 194/1083 [01:31<06:50,  2.17it/s]"
     ]
    },
    {
     "name": "stdout",
     "output_type": "stream",
     "text": [
      "Lecture Notes in Electrical Engineering has homepage_url and type book series\n"
     ]
    },
    {
     "name": "stderr",
     "output_type": "stream",
     "text": [
      " 18%|████████████▉                                                         | 200/1083 [01:35<11:01,  1.34it/s]"
     ]
    },
    {
     "name": "stdout",
     "output_type": "stream",
     "text": [
      "Journal of Sensors has homepage_url and type journal\n"
     ]
    },
    {
     "name": "stderr",
     "output_type": "stream",
     "text": [
      " 19%|████████████▉                                                         | 201/1083 [01:35<10:00,  1.47it/s]"
     ]
    },
    {
     "name": "stdout",
     "output_type": "stream",
     "text": [
      "Journal of Intelligent Manufacturing has homepage_url and type journal\n"
     ]
    },
    {
     "name": "stderr",
     "output_type": "stream",
     "text": [
      " 19%|█████████████▏                                                        | 204/1083 [01:37<07:39,  1.91it/s]"
     ]
    },
    {
     "name": "stdout",
     "output_type": "stream",
     "text": [
      "Journal of composites science has homepage_url and type journal\n"
     ]
    },
    {
     "name": "stderr",
     "output_type": "stream",
     "text": [
      " 19%|█████████████▎                                                        | 205/1083 [01:37<07:13,  2.02it/s]"
     ]
    },
    {
     "name": "stdout",
     "output_type": "stream",
     "text": [
      "IEEE Control Systems Letters has homepage_url and type journal\n"
     ]
    },
    {
     "name": "stderr",
     "output_type": "stream",
     "text": [
      " 19%|█████████████▎                                                        | 206/1083 [01:38<06:53,  2.12it/s]"
     ]
    },
    {
     "name": "stdout",
     "output_type": "stream",
     "text": [
      "Drones has homepage_url and type journal\n"
     ]
    },
    {
     "name": "stderr",
     "output_type": "stream",
     "text": [
      " 19%|█████████████▌                                                        | 209/1083 [01:39<06:44,  2.16it/s]"
     ]
    },
    {
     "name": "stdout",
     "output_type": "stream",
     "text": [
      "Micromachines has homepage_url and type journal\n"
     ]
    },
    {
     "name": "stderr",
     "output_type": "stream",
     "text": [
      " 19%|█████████████▌                                                        | 210/1083 [01:39<06:39,  2.18it/s]"
     ]
    },
    {
     "name": "stdout",
     "output_type": "stream",
     "text": [
      "Frontiers in Robotics and AI has homepage_url and type journal\n"
     ]
    },
    {
     "name": "stderr",
     "output_type": "stream",
     "text": [
      " 20%|█████████████▋                                                        | 212/1083 [01:40<07:08,  2.03it/s]"
     ]
    },
    {
     "name": "stdout",
     "output_type": "stream",
     "text": [
      "Computer-aided Civil and Infrastructure Engineering has homepage_url and type journal\n"
     ]
    },
    {
     "name": "stderr",
     "output_type": "stream",
     "text": [
      " 20%|█████████████▊                                                        | 213/1083 [01:41<06:53,  2.11it/s]"
     ]
    },
    {
     "name": "stdout",
     "output_type": "stream",
     "text": [
      "IEEE Transactions on Fuzzy Systems has homepage_url and type journal\n"
     ]
    },
    {
     "name": "stderr",
     "output_type": "stream",
     "text": [
      " 20%|█████████████▉                                                        | 215/1083 [01:42<06:47,  2.13it/s]"
     ]
    },
    {
     "name": "stdout",
     "output_type": "stream",
     "text": [
      "Journal of Asian Scientific Research has homepage_url and type journal\n"
     ]
    },
    {
     "name": "stderr",
     "output_type": "stream",
     "text": [
      " 20%|██████████████▏                                                       | 220/1083 [01:44<06:04,  2.37it/s]"
     ]
    },
    {
     "name": "stdout",
     "output_type": "stream",
     "text": [
      "DergiPark (Istanbul University) has homepage_url and type repository\n"
     ]
    },
    {
     "name": "stderr",
     "output_type": "stream",
     "text": [
      " 20%|██████████████▎                                                       | 222/1083 [01:45<06:06,  2.35it/s]"
     ]
    },
    {
     "name": "stdout",
     "output_type": "stream",
     "text": [
      "International Journal of Computer Aided Engineering and Technology has homepage_url and type journal\n"
     ]
    },
    {
     "name": "stderr",
     "output_type": "stream",
     "text": [
      " 21%|██████████████▍                                                       | 223/1083 [01:45<06:29,  2.21it/s]"
     ]
    },
    {
     "name": "stdout",
     "output_type": "stream",
     "text": [
      "KnE engineering has homepage_url and type journal\n"
     ]
    },
    {
     "name": "stderr",
     "output_type": "stream",
     "text": [
      " 21%|██████████████▍                                                       | 224/1083 [01:46<06:32,  2.19it/s]"
     ]
    },
    {
     "name": "stdout",
     "output_type": "stream",
     "text": [
      "International journal of digital signals and smart systems has homepage_url and type journal\n"
     ]
    },
    {
     "name": "stderr",
     "output_type": "stream",
     "text": [
      " 21%|██████████████▌                                                       | 226/1083 [01:47<06:42,  2.13it/s]"
     ]
    },
    {
     "name": "stdout",
     "output_type": "stream",
     "text": [
      "Gastrointestinal Endoscopy has homepage_url and type journal\n"
     ]
    },
    {
     "name": "stderr",
     "output_type": "stream",
     "text": [
      " 21%|██████████████▊                                                       | 229/1083 [01:48<06:17,  2.26it/s]"
     ]
    },
    {
     "name": "stdout",
     "output_type": "stream",
     "text": [
      "GeoPlanet: earth and planetary sciences has homepage_url and type book series\n"
     ]
    },
    {
     "name": "stderr",
     "output_type": "stream",
     "text": [
      " 22%|███████████████                                                       | 234/1083 [01:50<06:29,  2.18it/s]"
     ]
    },
    {
     "name": "stdout",
     "output_type": "stream",
     "text": [
      "International journal of ambient energy has homepage_url and type journal\n"
     ]
    },
    {
     "name": "stderr",
     "output_type": "stream",
     "text": [
      " 22%|███████████████▏                                                      | 235/1083 [01:51<06:31,  2.17it/s]"
     ]
    },
    {
     "name": "stdout",
     "output_type": "stream",
     "text": [
      "Journal of Mechatronics Engineering has homepage_url and type journal\n"
     ]
    },
    {
     "name": "stderr",
     "output_type": "stream",
     "text": [
      " 22%|███████████████▎                                                      | 236/1083 [01:51<06:11,  2.28it/s]"
     ]
    },
    {
     "name": "stdout",
     "output_type": "stream",
     "text": [
      "International journal of intelligent machines and robotics has homepage_url and type journal\n"
     ]
    },
    {
     "name": "stderr",
     "output_type": "stream",
     "text": [
      " 22%|███████████████▍                                                      | 238/1083 [01:52<06:10,  2.28it/s]"
     ]
    },
    {
     "name": "stdout",
     "output_type": "stream",
     "text": [
      "Indonesian Journal of Electrical Engineering and Computer Science has homepage_url and type journal\n"
     ]
    },
    {
     "name": "stderr",
     "output_type": "stream",
     "text": [
      " 22%|███████████████▍                                                      | 239/1083 [01:52<06:10,  2.28it/s]"
     ]
    },
    {
     "name": "stdout",
     "output_type": "stream",
     "text": [
      "Journal on Advances in Theoretical and Applied Informatics has homepage_url and type journal\n"
     ]
    },
    {
     "name": "stderr",
     "output_type": "stream",
     "text": [
      " 23%|███████████████▊                                                      | 244/1083 [01:54<06:08,  2.28it/s]"
     ]
    },
    {
     "name": "stdout",
     "output_type": "stream",
     "text": [
      "International Journal of Scientific Research in Science and Technology has homepage_url and type journal\n"
     ]
    },
    {
     "name": "stderr",
     "output_type": "stream",
     "text": [
      " 23%|███████████████▉                                                      | 246/1083 [01:55<06:34,  2.12it/s]"
     ]
    },
    {
     "name": "stdout",
     "output_type": "stream",
     "text": [
      "Social Science Research Network has homepage_url and type repository\n"
     ]
    },
    {
     "name": "stderr",
     "output_type": "stream",
     "text": [
      " 23%|████████████████▏                                                     | 250/1083 [01:57<06:13,  2.23it/s]"
     ]
    },
    {
     "name": "stdout",
     "output_type": "stream",
     "text": [
      "Journal of the Robotics Society of Japan has homepage_url and type journal\n"
     ]
    },
    {
     "name": "stderr",
     "output_type": "stream",
     "text": [
      " 23%|████████████████▎                                                     | 252/1083 [01:58<06:24,  2.16it/s]"
     ]
    },
    {
     "name": "stdout",
     "output_type": "stream",
     "text": [
      "Research Square (Research Square) has homepage_url and type repository\n"
     ]
    },
    {
     "name": "stderr",
     "output_type": "stream",
     "text": [
      " 24%|████████████████▌                                                     | 257/1083 [02:01<06:20,  2.17it/s]"
     ]
    },
    {
     "name": "stdout",
     "output_type": "stream",
     "text": [
      "DOAJ (DOAJ: Directory of Open Access Journals) has homepage_url and type repository\n"
     ]
    },
    {
     "name": "stderr",
     "output_type": "stream",
     "text": [
      " 24%|████████████████▉                                                     | 263/1083 [02:03<06:06,  2.24it/s]"
     ]
    },
    {
     "name": "stdout",
     "output_type": "stream",
     "text": [
      "Impact has homepage_url and type journal\n"
     ]
    },
    {
     "name": "stderr",
     "output_type": "stream",
     "text": [
      " 25%|█████████████████▎                                                    | 267/1083 [02:05<06:01,  2.26it/s]"
     ]
    },
    {
     "name": "stdout",
     "output_type": "stream",
     "text": [
      "Doklady Akademii Nauk has homepage_url and type journal\n"
     ]
    },
    {
     "name": "stderr",
     "output_type": "stream",
     "text": [
      " 25%|█████████████████▎                                                    | 268/1083 [02:05<06:32,  2.07it/s]"
     ]
    },
    {
     "name": "stdout",
     "output_type": "stream",
     "text": [
      "Recent Patents on Engineering has homepage_url and type journal\n"
     ]
    },
    {
     "name": "stderr",
     "output_type": "stream",
     "text": [
      " 25%|█████████████████▊                                                    | 275/1083 [02:08<05:55,  2.27it/s]"
     ]
    },
    {
     "name": "stdout",
     "output_type": "stream",
     "text": [
      "Žurnal Srednevolžskogo matematičeskogo obŝestva has homepage_url and type journal\n"
     ]
    },
    {
     "name": "stderr",
     "output_type": "stream",
     "text": [
      " 26%|█████████████████▉                                                    | 278/1083 [02:10<05:58,  2.24it/s]"
     ]
    },
    {
     "name": "stdout",
     "output_type": "stream",
     "text": [
      "Journal of Minimally Invasive Gynecology has homepage_url and type journal\n"
     ]
    },
    {
     "name": "stderr",
     "output_type": "stream",
     "text": [
      " 27%|███████████████████▏                                                  | 297/1083 [02:19<06:21,  2.06it/s]"
     ]
    },
    {
     "name": "stdout",
     "output_type": "stream",
     "text": [
      "Izvestiâ vysših učebnyh zavedenij has homepage_url and type journal\n"
     ]
    },
    {
     "name": "stderr",
     "output_type": "stream",
     "text": [
      " 28%|███████████████████▌                                                  | 302/1083 [02:21<06:00,  2.17it/s]"
     ]
    },
    {
     "name": "stdout",
     "output_type": "stream",
     "text": [
      "Èlektronnye biblioteki has homepage_url and type journal\n"
     ]
    },
    {
     "name": "stderr",
     "output_type": "stream",
     "text": [
      " 28%|███████████████████▌                                                  | 303/1083 [02:22<05:55,  2.19it/s]"
     ]
    },
    {
     "name": "stdout",
     "output_type": "stream",
     "text": [
      "Cyborg and bionic systems has homepage_url and type journal\n"
     ]
    },
    {
     "name": "stderr",
     "output_type": "stream",
     "text": [
      " 28%|███████████████████▋                                                  | 304/1083 [02:22<05:46,  2.25it/s]"
     ]
    },
    {
     "name": "stdout",
     "output_type": "stream",
     "text": [
      "Frontiers in Physics has homepage_url and type journal\n"
     ]
    },
    {
     "name": "stderr",
     "output_type": "stream",
     "text": [
      " 28%|███████████████████▊                                                  | 307/1083 [02:24<06:16,  2.06it/s]"
     ]
    },
    {
     "name": "stdout",
     "output_type": "stream",
     "text": [
      "Rekayasa Mesin has homepage_url and type journal\n"
     ]
    },
    {
     "name": "stderr",
     "output_type": "stream",
     "text": [
      " 28%|███████████████████▉                                                  | 308/1083 [02:24<06:00,  2.15it/s]"
     ]
    },
    {
     "name": "stdout",
     "output_type": "stream",
     "text": [
      "Sensors and Actuators A: Physical has homepage_url and type journal\n"
     ]
    },
    {
     "name": "stderr",
     "output_type": "stream",
     "text": [
      " 29%|███████████████████▉                                                  | 309/1083 [02:25<05:54,  2.18it/s]"
     ]
    },
    {
     "name": "stdout",
     "output_type": "stream",
     "text": [
      "Journal of Marine Science and Engineering has homepage_url and type journal\n"
     ]
    },
    {
     "name": "stderr",
     "output_type": "stream",
     "text": [
      " 29%|████████████████████                                                  | 311/1083 [02:26<06:15,  2.06it/s]"
     ]
    },
    {
     "name": "stdout",
     "output_type": "stream",
     "text": [
      "JIMEKA (Jurnal Ilmiah Mahasiswa Ekonomi Akuntansi) has homepage_url and type journal\n"
     ]
    },
    {
     "name": "stderr",
     "output_type": "stream",
     "text": [
      " 29%|████████████████████▏                                                 | 312/1083 [02:26<06:24,  2.01it/s]"
     ]
    },
    {
     "name": "stdout",
     "output_type": "stream",
     "text": [
      "Journal of Robotics has homepage_url and type journal\n"
     ]
    },
    {
     "name": "stderr",
     "output_type": "stream",
     "text": [
      " 29%|████████████████████▎                                                 | 314/1083 [02:27<06:31,  1.96it/s]"
     ]
    },
    {
     "name": "stdout",
     "output_type": "stream",
     "text": [
      "Fractal and fractional has homepage_url and type journal\n"
     ]
    },
    {
     "name": "stderr",
     "output_type": "stream",
     "text": [
      " 29%|████████████████████▎                                                 | 315/1083 [02:28<06:25,  1.99it/s]"
     ]
    },
    {
     "name": "stdout",
     "output_type": "stream",
     "text": [
      "High voltage has homepage_url and type journal\n"
     ]
    },
    {
     "name": "stderr",
     "output_type": "stream",
     "text": [
      " 29%|████████████████████▍                                                 | 316/1083 [02:28<06:44,  1.89it/s]"
     ]
    },
    {
     "name": "stdout",
     "output_type": "stream",
     "text": [
      "Chemical Engineering Journal has homepage_url and type journal\n"
     ]
    },
    {
     "name": "stderr",
     "output_type": "stream",
     "text": [
      " 29%|████████████████████▍                                                 | 317/1083 [02:29<06:45,  1.89it/s]"
     ]
    },
    {
     "name": "stdout",
     "output_type": "stream",
     "text": [
      "Advanced Science has homepage_url and type journal\n"
     ]
    },
    {
     "name": "stderr",
     "output_type": "stream",
     "text": [
      " 29%|████████████████████▌                                                 | 318/1083 [02:29<06:17,  2.03it/s]"
     ]
    },
    {
     "name": "stdout",
     "output_type": "stream",
     "text": [
      "Journal of Advanced Ceramics has homepage_url and type journal\n"
     ]
    },
    {
     "name": "stderr",
     "output_type": "stream",
     "text": [
      " 29%|████████████████████▌                                                 | 319/1083 [02:30<05:58,  2.13it/s]"
     ]
    },
    {
     "name": "stdout",
     "output_type": "stream",
     "text": [
      "Journal of the European Ceramic Society has homepage_url and type journal\n"
     ]
    },
    {
     "name": "stderr",
     "output_type": "stream",
     "text": [
      " 30%|████████████████████▋                                                 | 320/1083 [02:30<06:16,  2.03it/s]"
     ]
    },
    {
     "name": "stdout",
     "output_type": "stream",
     "text": [
      "Physics of Plasmas has homepage_url and type journal\n"
     ]
    },
    {
     "name": "stderr",
     "output_type": "stream",
     "text": [
      " 30%|████████████████████▋                                                 | 321/1083 [02:31<06:15,  2.03it/s]"
     ]
    },
    {
     "name": "stdout",
     "output_type": "stream",
     "text": [
      "Scientific Reports has homepage_url and type journal\n"
     ]
    },
    {
     "name": "stderr",
     "output_type": "stream",
     "text": [
      " 30%|████████████████████▊                                                 | 322/1083 [02:31<06:07,  2.07it/s]"
     ]
    },
    {
     "name": "stdout",
     "output_type": "stream",
     "text": [
      "Applied Energy has homepage_url and type journal\n"
     ]
    },
    {
     "name": "stderr",
     "output_type": "stream",
     "text": [
      " 30%|████████████████████▉                                                 | 323/1083 [02:32<06:06,  2.08it/s]"
     ]
    },
    {
     "name": "stdout",
     "output_type": "stream",
     "text": [
      "Applied Physics Letters has homepage_url and type journal\n"
     ]
    },
    {
     "name": "stderr",
     "output_type": "stream",
     "text": [
      " 30%|████████████████████▉                                                 | 324/1083 [02:32<05:57,  2.12it/s]"
     ]
    },
    {
     "name": "stdout",
     "output_type": "stream",
     "text": [
      "Journal of Power Sources has homepage_url and type journal\n"
     ]
    },
    {
     "name": "stderr",
     "output_type": "stream",
     "text": [
      " 30%|█████████████████████                                                 | 325/1083 [02:33<05:54,  2.14it/s]"
     ]
    },
    {
     "name": "stdout",
     "output_type": "stream",
     "text": [
      "Reviews of Modern Physics has homepage_url and type journal\n"
     ]
    },
    {
     "name": "stderr",
     "output_type": "stream",
     "text": [
      " 30%|█████████████████████                                                 | 326/1083 [02:33<05:58,  2.11it/s]"
     ]
    },
    {
     "name": "stdout",
     "output_type": "stream",
     "text": [
      "Nano Energy has homepage_url and type journal\n"
     ]
    },
    {
     "name": "stderr",
     "output_type": "stream",
     "text": [
      " 30%|█████████████████████▏                                                | 327/1083 [02:34<06:03,  2.08it/s]"
     ]
    },
    {
     "name": "stdout",
     "output_type": "stream",
     "text": [
      "Journal of Materials Chemistry C has homepage_url and type journal\n"
     ]
    },
    {
     "name": "stderr",
     "output_type": "stream",
     "text": [
      " 30%|█████████████████████▏                                                | 328/1083 [02:34<06:00,  2.09it/s]"
     ]
    },
    {
     "name": "stdout",
     "output_type": "stream",
     "text": [
      "Advanced Functional Materials has homepage_url and type journal\n"
     ]
    },
    {
     "name": "stderr",
     "output_type": "stream",
     "text": [
      " 30%|█████████████████████▎                                                | 329/1083 [02:34<05:48,  2.16it/s]"
     ]
    },
    {
     "name": "stdout",
     "output_type": "stream",
     "text": [
      "Review of Scientific Instruments has homepage_url and type journal\n"
     ]
    },
    {
     "name": "stderr",
     "output_type": "stream",
     "text": [
      " 30%|█████████████████████▎                                                | 330/1083 [02:35<05:43,  2.19it/s]"
     ]
    },
    {
     "name": "stdout",
     "output_type": "stream",
     "text": [
      "IEEE Transactions on Dielectrics and Electrical Insulation has homepage_url and type journal\n"
     ]
    },
    {
     "name": "stderr",
     "output_type": "stream",
     "text": [
      " 31%|█████████████████████▍                                                | 331/1083 [02:35<05:57,  2.10it/s]"
     ]
    },
    {
     "name": "stdout",
     "output_type": "stream",
     "text": [
      "IEEE Transactions on Plasma Science has homepage_url and type journal\n"
     ]
    },
    {
     "name": "stderr",
     "output_type": "stream",
     "text": [
      " 31%|█████████████████████▍                                                | 332/1083 [02:36<05:42,  2.19it/s]"
     ]
    },
    {
     "name": "stdout",
     "output_type": "stream",
     "text": [
      "Ceramics International has homepage_url and type journal\n"
     ]
    },
    {
     "name": "stderr",
     "output_type": "stream",
     "text": [
      " 31%|█████████████████████▌                                                | 333/1083 [02:36<05:39,  2.21it/s]"
     ]
    },
    {
     "name": "stdout",
     "output_type": "stream",
     "text": [
      "IEEE Transactions on Power Electronics has homepage_url and type journal\n"
     ]
    },
    {
     "name": "stderr",
     "output_type": "stream",
     "text": [
      " 31%|█████████████████████▋                                                | 335/1083 [02:37<05:22,  2.32it/s]"
     ]
    },
    {
     "name": "stdout",
     "output_type": "stream",
     "text": [
      "Journal of Energy Chemistry has homepage_url and type journal\n"
     ]
    },
    {
     "name": "stderr",
     "output_type": "stream",
     "text": [
      " 31%|█████████████████████▋                                                | 336/1083 [02:38<05:21,  2.32it/s]"
     ]
    },
    {
     "name": "stdout",
     "output_type": "stream",
     "text": [
      "Journal of Alloys and Compounds has homepage_url and type journal\n"
     ]
    },
    {
     "name": "stderr",
     "output_type": "stream",
     "text": [
      " 31%|█████████████████████▊                                                | 337/1083 [02:38<05:23,  2.30it/s]"
     ]
    },
    {
     "name": "stdout",
     "output_type": "stream",
     "text": [
      "Energies has homepage_url and type journal\n"
     ]
    },
    {
     "name": "stderr",
     "output_type": "stream",
     "text": [
      " 31%|█████████████████████▊                                                | 338/1083 [02:39<05:56,  2.09it/s]"
     ]
    },
    {
     "name": "stdout",
     "output_type": "stream",
     "text": [
      "Plasma Sources Science and Technology has homepage_url and type journal\n"
     ]
    },
    {
     "name": "stderr",
     "output_type": "stream",
     "text": [
      " 31%|██████████████████████                                                | 341/1083 [02:40<05:29,  2.25it/s]"
     ]
    },
    {
     "name": "stdout",
     "output_type": "stream",
     "text": [
      "Journal of Materiomics has homepage_url and type journal\n"
     ]
    },
    {
     "name": "stderr",
     "output_type": "stream",
     "text": [
      " 32%|██████████████████████                                                | 342/1083 [02:40<05:49,  2.12it/s]"
     ]
    },
    {
     "name": "stdout",
     "output_type": "stream",
     "text": [
      "Electronics Letters has homepage_url and type journal\n"
     ]
    },
    {
     "name": "stderr",
     "output_type": "stream",
     "text": [
      " 32%|██████████████████████▏                                               | 343/1083 [02:41<05:47,  2.13it/s]"
     ]
    },
    {
     "name": "stdout",
     "output_type": "stream",
     "text": [
      "APL photonics has homepage_url and type journal\n"
     ]
    },
    {
     "name": "stderr",
     "output_type": "stream",
     "text": [
      " 32%|██████████████████████▏                                               | 344/1083 [02:41<05:42,  2.16it/s]"
     ]
    },
    {
     "name": "stdout",
     "output_type": "stream",
     "text": [
      "Matter and Radiation at Extremes has homepage_url and type journal\n"
     ]
    },
    {
     "name": "stderr",
     "output_type": "stream",
     "text": [
      " 32%|██████████████████████▎                                               | 345/1083 [02:42<05:35,  2.20it/s]"
     ]
    },
    {
     "name": "stdout",
     "output_type": "stream",
     "text": [
      "PLOS ONE has homepage_url and type journal\n"
     ]
    },
    {
     "name": "stderr",
     "output_type": "stream",
     "text": [
      " 32%|██████████████████████▎                                               | 346/1083 [02:42<05:39,  2.17it/s]"
     ]
    },
    {
     "name": "stdout",
     "output_type": "stream",
     "text": [
      "Physical review accelerators and beams has homepage_url and type journal\n"
     ]
    },
    {
     "name": "stderr",
     "output_type": "stream",
     "text": [
      " 32%|██████████████████████▍                                               | 347/1083 [02:43<05:33,  2.21it/s]"
     ]
    },
    {
     "name": "stdout",
     "output_type": "stream",
     "text": [
      "Spectrochimica Acta Part B: Atomic Spectroscopy has homepage_url and type journal\n"
     ]
    },
    {
     "name": "stderr",
     "output_type": "stream",
     "text": [
      " 32%|██████████████████████▌                                               | 349/1083 [02:44<05:51,  2.09it/s]"
     ]
    },
    {
     "name": "stdout",
     "output_type": "stream",
     "text": [
      "Materials has homepage_url and type journal\n"
     ]
    },
    {
     "name": "stderr",
     "output_type": "stream",
     "text": [
      " 32%|██████████████████████▌                                               | 350/1083 [02:44<05:40,  2.15it/s]"
     ]
    },
    {
     "name": "stdout",
     "output_type": "stream",
     "text": [
      "IEEE Transactions on Biomedical Circuits and Systems has homepage_url and type journal\n"
     ]
    },
    {
     "name": "stderr",
     "output_type": "stream",
     "text": [
      " 32%|██████████████████████▋                                               | 351/1083 [02:44<05:34,  2.19it/s]"
     ]
    },
    {
     "name": "stdout",
     "output_type": "stream",
     "text": [
      "IEEE Transactions on Applied Superconductivity has homepage_url and type journal\n"
     ]
    },
    {
     "name": "stderr",
     "output_type": "stream",
     "text": [
      " 33%|██████████████████████▊                                               | 352/1083 [02:45<05:37,  2.17it/s]"
     ]
    },
    {
     "name": "stdout",
     "output_type": "stream",
     "text": [
      "Journal of Manufacturing Processes has homepage_url and type journal\n"
     ]
    },
    {
     "name": "stderr",
     "output_type": "stream",
     "text": [
      " 33%|██████████████████████▊                                               | 353/1083 [02:45<05:56,  2.05it/s]"
     ]
    },
    {
     "name": "stdout",
     "output_type": "stream",
     "text": [
      "AIP Advances has homepage_url and type journal\n"
     ]
    },
    {
     "name": "stderr",
     "output_type": "stream",
     "text": [
      " 33%|██████████████████████▉                                               | 354/1083 [02:46<05:43,  2.12it/s]"
     ]
    },
    {
     "name": "stdout",
     "output_type": "stream",
     "text": [
      "Philosophical Transactions of the Royal Society A has homepage_url and type journal\n"
     ]
    },
    {
     "name": "stderr",
     "output_type": "stream",
     "text": [
      " 33%|██████████████████████▉                                               | 355/1083 [02:46<05:35,  2.17it/s]"
     ]
    },
    {
     "name": "stdout",
     "output_type": "stream",
     "text": [
      "IEEE Electron Device Letters has homepage_url and type journal\n"
     ]
    },
    {
     "name": "stderr",
     "output_type": "stream",
     "text": [
      " 33%|███████████████████████                                               | 356/1083 [02:47<05:37,  2.15it/s]"
     ]
    },
    {
     "name": "stdout",
     "output_type": "stream",
     "text": [
      "Journal of Applied Physics has homepage_url and type journal\n"
     ]
    },
    {
     "name": "stderr",
     "output_type": "stream",
     "text": [
      " 33%|███████████████████████                                               | 357/1083 [02:47<05:35,  2.16it/s]"
     ]
    },
    {
     "name": "stdout",
     "output_type": "stream",
     "text": [
      "Advanced Energy Materials has homepage_url and type journal\n"
     ]
    },
    {
     "name": "stderr",
     "output_type": "stream",
     "text": [
      " 33%|███████████████████████▏                                              | 358/1083 [02:48<05:30,  2.20it/s]"
     ]
    },
    {
     "name": "stdout",
     "output_type": "stream",
     "text": [
      "IEEE Transactions on Electron Devices has homepage_url and type journal\n"
     ]
    },
    {
     "name": "stderr",
     "output_type": "stream",
     "text": [
      " 33%|███████████████████████▏                                              | 359/1083 [02:48<05:15,  2.30it/s]"
     ]
    },
    {
     "name": "stdout",
     "output_type": "stream",
     "text": [
      "IEEE Transactions on Device and Materials Reliability has homepage_url and type journal\n"
     ]
    },
    {
     "name": "stderr",
     "output_type": "stream",
     "text": [
      " 33%|███████████████████████▎                                              | 360/1083 [02:49<05:07,  2.35it/s]"
     ]
    },
    {
     "name": "stdout",
     "output_type": "stream",
     "text": [
      "Acta Materialia has homepage_url and type journal\n"
     ]
    },
    {
     "name": "stderr",
     "output_type": "stream",
     "text": [
      " 33%|███████████████████████▍                                              | 362/1083 [02:49<05:05,  2.36it/s]"
     ]
    },
    {
     "name": "stdout",
     "output_type": "stream",
     "text": [
      "Ieej Transactions on Electrical and Electronic Engineering has homepage_url and type journal\n"
     ]
    },
    {
     "name": "stderr",
     "output_type": "stream",
     "text": [
      " 34%|███████████████████████▍                                              | 363/1083 [02:50<05:07,  2.34it/s]"
     ]
    },
    {
     "name": "stdout",
     "output_type": "stream",
     "text": [
      "Journal of CO2 Utilization has homepage_url and type journal\n"
     ]
    },
    {
     "name": "stderr",
     "output_type": "stream",
     "text": [
      " 34%|███████████████████████▌                                              | 364/1083 [02:50<05:32,  2.16it/s]"
     ]
    },
    {
     "name": "stdout",
     "output_type": "stream",
     "text": [
      "Optics Express has homepage_url and type journal\n"
     ]
    },
    {
     "name": "stderr",
     "output_type": "stream",
     "text": [
      " 34%|███████████████████████▌                                              | 365/1083 [02:51<05:43,  2.09it/s]"
     ]
    },
    {
     "name": "stdout",
     "output_type": "stream",
     "text": [
      "Journal of large-scale research facilities JLSRF has homepage_url and type journal\n"
     ]
    },
    {
     "name": "stderr",
     "output_type": "stream",
     "text": [
      " 34%|███████████████████████▋                                              | 366/1083 [02:51<05:32,  2.16it/s]"
     ]
    },
    {
     "name": "stdout",
     "output_type": "stream",
     "text": [
      "Quantum beam science has homepage_url and type journal\n"
     ]
    },
    {
     "name": "stderr",
     "output_type": "stream",
     "text": [
      " 34%|███████████████████████▋                                              | 367/1083 [02:52<05:35,  2.13it/s]"
     ]
    },
    {
     "name": "stdout",
     "output_type": "stream",
     "text": [
      "Plasma Processes and Polymers has homepage_url and type journal\n"
     ]
    },
    {
     "name": "stderr",
     "output_type": "stream",
     "text": [
      " 34%|███████████████████████▊                                              | 368/1083 [02:52<05:44,  2.08it/s]"
     ]
    },
    {
     "name": "stdout",
     "output_type": "stream",
     "text": [
      "Small has homepage_url and type journal\n"
     ]
    },
    {
     "name": "stderr",
     "output_type": "stream",
     "text": [
      " 34%|███████████████████████▊                                              | 369/1083 [02:53<05:30,  2.16it/s]"
     ]
    },
    {
     "name": "stdout",
     "output_type": "stream",
     "text": [
      "Cirp Journal of Manufacturing Science and Technology has homepage_url and type journal\n"
     ]
    },
    {
     "name": "stderr",
     "output_type": "stream",
     "text": [
      " 34%|███████████████████████▉                                              | 371/1083 [02:54<05:15,  2.25it/s]"
     ]
    },
    {
     "name": "stdout",
     "output_type": "stream",
     "text": [
      "Journal of Physics D has homepage_url and type journal\n"
     ]
    },
    {
     "name": "stderr",
     "output_type": "stream",
     "text": [
      " 34%|████████████████████████                                              | 372/1083 [02:54<05:13,  2.27it/s]"
     ]
    },
    {
     "name": "stdout",
     "output_type": "stream",
     "text": [
      "Electrochimica Acta has homepage_url and type journal\n"
     ]
    },
    {
     "name": "stderr",
     "output_type": "stream",
     "text": [
      " 34%|████████████████████████                                              | 373/1083 [02:54<05:13,  2.27it/s]"
     ]
    },
    {
     "name": "stdout",
     "output_type": "stream",
     "text": [
      "Japanese Journal of Applied Physics has homepage_url and type journal\n"
     ]
    },
    {
     "name": "stderr",
     "output_type": "stream",
     "text": [
      " 35%|████████████████████████▏                                             | 374/1083 [02:55<05:13,  2.26it/s]"
     ]
    },
    {
     "name": "stdout",
     "output_type": "stream",
     "text": [
      "Plasma Physics and Controlled Fusion has homepage_url and type journal\n"
     ]
    },
    {
     "name": "stderr",
     "output_type": "stream",
     "text": [
      " 35%|████████████████████████▏                                             | 375/1083 [02:55<05:42,  2.07it/s]"
     ]
    },
    {
     "name": "stdout",
     "output_type": "stream",
     "text": [
      "Plasma has homepage_url and type journal\n"
     ]
    },
    {
     "name": "stderr",
     "output_type": "stream",
     "text": [
      " 35%|████████████████████████▎                                             | 376/1083 [02:56<06:00,  1.96it/s]"
     ]
    },
    {
     "name": "stdout",
     "output_type": "stream",
     "text": [
      "Energy has homepage_url and type repository\n"
     ]
    },
    {
     "name": "stderr",
     "output_type": "stream",
     "text": [
      " 35%|████████████████████████▎                                             | 377/1083 [02:56<05:50,  2.01it/s]"
     ]
    },
    {
     "name": "stdout",
     "output_type": "stream",
     "text": [
      "Laser and Particle Beams has homepage_url and type journal\n"
     ]
    },
    {
     "name": "stderr",
     "output_type": "stream",
     "text": [
      " 35%|████████████████████████▍                                             | 379/1083 [02:57<05:29,  2.14it/s]"
     ]
    },
    {
     "name": "stdout",
     "output_type": "stream",
     "text": [
      "Science China. Materials has homepage_url and type journal\n"
     ]
    },
    {
     "name": "stderr",
     "output_type": "stream",
     "text": [
      " 35%|████████████████████████▌                                             | 380/1083 [02:58<05:23,  2.17it/s]"
     ]
    },
    {
     "name": "stdout",
     "output_type": "stream",
     "text": [
      "Cell Reports Physical Science has homepage_url and type journal\n"
     ]
    },
    {
     "name": "stderr",
     "output_type": "stream",
     "text": [
      " 35%|████████████████████████▋                                             | 381/1083 [02:58<05:26,  2.15it/s]"
     ]
    },
    {
     "name": "stdout",
     "output_type": "stream",
     "text": [
      "Journal of the American Ceramic Society has homepage_url and type journal\n"
     ]
    },
    {
     "name": "stderr",
     "output_type": "stream",
     "text": [
      " 35%|████████████████████████▋                                             | 382/1083 [02:59<05:21,  2.18it/s]"
     ]
    },
    {
     "name": "stdout",
     "output_type": "stream",
     "text": [
      "Radiation Physics and Chemistry has homepage_url and type journal\n"
     ]
    },
    {
     "name": "stderr",
     "output_type": "stream",
     "text": [
      " 35%|████████████████████████▊                                             | 383/1083 [02:59<05:08,  2.27it/s]"
     ]
    },
    {
     "name": "stdout",
     "output_type": "stream",
     "text": [
      "IEEE Transactions on Power Systems has homepage_url and type journal\n"
     ]
    },
    {
     "name": "stderr",
     "output_type": "stream",
     "text": [
      " 35%|████████████████████████▊                                             | 384/1083 [03:00<05:18,  2.19it/s]"
     ]
    },
    {
     "name": "stdout",
     "output_type": "stream",
     "text": [
      "Metals has homepage_url and type journal\n"
     ]
    },
    {
     "name": "stderr",
     "output_type": "stream",
     "text": [
      " 36%|████████████████████████▉                                             | 385/1083 [03:00<05:30,  2.11it/s]"
     ]
    },
    {
     "name": "stdout",
     "output_type": "stream",
     "text": [
      "Materials Today Physics has homepage_url and type journal\n"
     ]
    },
    {
     "name": "stderr",
     "output_type": "stream",
     "text": [
      " 36%|████████████████████████▉                                             | 386/1083 [03:01<05:48,  2.00it/s]"
     ]
    },
    {
     "name": "stdout",
     "output_type": "stream",
     "text": [
      "Vacuum has homepage_url and type journal\n"
     ]
    },
    {
     "name": "stderr",
     "output_type": "stream",
     "text": [
      " 36%|█████████████████████████                                             | 387/1083 [03:01<05:35,  2.08it/s]"
     ]
    },
    {
     "name": "stdout",
     "output_type": "stream",
     "text": [
      "Laser Physics Letters has homepage_url and type journal\n"
     ]
    },
    {
     "name": "stderr",
     "output_type": "stream",
     "text": [
      " 36%|█████████████████████████                                             | 388/1083 [03:02<05:34,  2.07it/s]"
     ]
    },
    {
     "name": "stdout",
     "output_type": "stream",
     "text": [
      "Journal of Non-crystalline Solids has homepage_url and type journal\n"
     ]
    },
    {
     "name": "stderr",
     "output_type": "stream",
     "text": [
      " 36%|█████████████████████████▏                                            | 389/1083 [03:02<05:48,  1.99it/s]"
     ]
    },
    {
     "name": "stdout",
     "output_type": "stream",
     "text": [
      "Nanomaterials has homepage_url and type journal\n"
     ]
    },
    {
     "name": "stderr",
     "output_type": "stream",
     "text": [
      " 36%|█████████████████████████▏                                            | 390/1083 [03:03<05:35,  2.07it/s]"
     ]
    },
    {
     "name": "stdout",
     "output_type": "stream",
     "text": [
      "Chinese Physics B has homepage_url and type journal\n"
     ]
    },
    {
     "name": "stderr",
     "output_type": "stream",
     "text": [
      " 36%|█████████████████████████▎                                            | 391/1083 [03:03<05:28,  2.11it/s]"
     ]
    },
    {
     "name": "stdout",
     "output_type": "stream",
     "text": [
      "Proceedings of the Combustion Institute has homepage_url and type journal\n"
     ]
    },
    {
     "name": "stderr",
     "output_type": "stream",
     "text": [
      " 36%|█████████████████████████▎                                            | 392/1083 [03:04<05:32,  2.08it/s]"
     ]
    },
    {
     "name": "stdout",
     "output_type": "stream",
     "text": [
      "IEEE Transactions on Microwave Theory and Techniques has homepage_url and type journal\n"
     ]
    },
    {
     "name": "stderr",
     "output_type": "stream",
     "text": [
      " 36%|█████████████████████████▍                                            | 393/1083 [03:04<05:46,  1.99it/s]"
     ]
    },
    {
     "name": "stdout",
     "output_type": "stream",
     "text": [
      "IEEE Electrification Magazine has homepage_url and type journal\n"
     ]
    },
    {
     "name": "stderr",
     "output_type": "stream",
     "text": [
      " 36%|█████████████████████████▍                                            | 394/1083 [03:05<05:26,  2.11it/s]"
     ]
    },
    {
     "name": "stdout",
     "output_type": "stream",
     "text": [
      "Journal of Physics and Chemistry of Solids has homepage_url and type journal\n"
     ]
    },
    {
     "name": "stderr",
     "output_type": "stream",
     "text": [
      " 36%|█████████████████████████▌                                            | 395/1083 [03:05<05:15,  2.18it/s]"
     ]
    },
    {
     "name": "stdout",
     "output_type": "stream",
     "text": [
      "IEEE Journal of the Electron Devices Society has homepage_url and type journal\n"
     ]
    },
    {
     "name": "stderr",
     "output_type": "stream",
     "text": [
      " 37%|█████████████████████████▌                                            | 396/1083 [03:06<05:38,  2.03it/s]"
     ]
    },
    {
     "name": "stdout",
     "output_type": "stream",
     "text": [
      "International Journal of Energy Research has homepage_url and type journal\n"
     ]
    },
    {
     "name": "stderr",
     "output_type": "stream",
     "text": [
      " 37%|█████████████████████████▋                                            | 397/1083 [03:06<05:37,  2.03it/s]"
     ]
    },
    {
     "name": "stdout",
     "output_type": "stream",
     "text": [
      "Journal of Laser Applications has homepage_url and type journal\n"
     ]
    },
    {
     "name": "stderr",
     "output_type": "stream",
     "text": [
      " 37%|█████████████████████████▋                                            | 398/1083 [03:06<05:23,  2.12it/s]"
     ]
    },
    {
     "name": "stdout",
     "output_type": "stream",
     "text": [
      "Optics and Laser Technology has homepage_url and type journal\n"
     ]
    },
    {
     "name": "stderr",
     "output_type": "stream",
     "text": [
      " 37%|█████████████████████████▊                                            | 399/1083 [03:07<05:12,  2.19it/s]"
     ]
    },
    {
     "name": "stdout",
     "output_type": "stream",
     "text": [
      "Microelectronics Reliability has homepage_url and type journal\n"
     ]
    },
    {
     "name": "stderr",
     "output_type": "stream",
     "text": [
      " 37%|█████████████████████████▊                                            | 400/1083 [03:07<05:00,  2.28it/s]"
     ]
    },
    {
     "name": "stdout",
     "output_type": "stream",
     "text": [
      "International Journal of Microwave and Wireless Technologies has homepage_url and type journal\n"
     ]
    },
    {
     "name": "stderr",
     "output_type": "stream",
     "text": [
      " 37%|█████████████████████████▉                                            | 401/1083 [03:08<05:37,  2.02it/s]"
     ]
    },
    {
     "name": "stdout",
     "output_type": "stream",
     "text": [
      "CES transactions on electrical machines and systems has homepage_url and type journal\n"
     ]
    },
    {
     "name": "stderr",
     "output_type": "stream",
     "text": [
      " 37%|█████████████████████████▉                                            | 402/1083 [03:08<05:23,  2.11it/s]"
     ]
    },
    {
     "name": "stdout",
     "output_type": "stream",
     "text": [
      "International Journal of Hydrogen Energy has homepage_url and type journal\n"
     ]
    },
    {
     "name": "stderr",
     "output_type": "stream",
     "text": [
      " 37%|██████████████████████████                                            | 403/1083 [03:09<05:20,  2.12it/s]"
     ]
    },
    {
     "name": "stdout",
     "output_type": "stream",
     "text": [
      "International Journal of Circuit Theory and Applications has homepage_url and type journal\n"
     ]
    },
    {
     "name": "stderr",
     "output_type": "stream",
     "text": [
      " 37%|██████████████████████████                                            | 404/1083 [03:09<05:06,  2.22it/s]"
     ]
    },
    {
     "name": "stdout",
     "output_type": "stream",
     "text": [
      "Reviews of modern plasma physics has homepage_url and type journal\n"
     ]
    },
    {
     "name": "stderr",
     "output_type": "stream",
     "text": [
      " 37%|██████████████████████████▏                                           | 405/1083 [03:10<05:02,  2.24it/s]"
     ]
    },
    {
     "name": "stdout",
     "output_type": "stream",
     "text": [
      "IEEE Photonics Technology Letters has homepage_url and type journal\n"
     ]
    },
    {
     "name": "stderr",
     "output_type": "stream",
     "text": [
      " 37%|██████████████████████████▏                                           | 406/1083 [03:10<05:16,  2.14it/s]"
     ]
    },
    {
     "name": "stdout",
     "output_type": "stream",
     "text": [
      "Journal of Fluid Science and Technology has homepage_url and type journal\n"
     ]
    },
    {
     "name": "stderr",
     "output_type": "stream",
     "text": [
      " 38%|██████████████████████████▎                                           | 407/1083 [03:11<05:17,  2.13it/s]"
     ]
    },
    {
     "name": "stdout",
     "output_type": "stream",
     "text": [
      "IEEE Transactions on Electromagnetic Compatibility has homepage_url and type journal\n"
     ]
    },
    {
     "name": "stderr",
     "output_type": "stream",
     "text": [
      " 38%|██████████████████████████▎                                           | 408/1083 [03:11<05:22,  2.09it/s]"
     ]
    },
    {
     "name": "stdout",
     "output_type": "stream",
     "text": [
      "IEEE Antennas and Wireless Propagation Letters has homepage_url and type journal\n"
     ]
    },
    {
     "name": "stderr",
     "output_type": "stream",
     "text": [
      " 38%|██████████████████████████▍                                           | 409/1083 [03:12<05:13,  2.15it/s]"
     ]
    },
    {
     "name": "stdout",
     "output_type": "stream",
     "text": [
      "IETE Technical Review has homepage_url and type journal\n"
     ]
    },
    {
     "name": "stderr",
     "output_type": "stream",
     "text": [
      " 38%|██████████████████████████▌                                           | 410/1083 [03:12<05:33,  2.02it/s]"
     ]
    },
    {
     "name": "stdout",
     "output_type": "stream",
     "text": [
      "Journal of Instrumentation has homepage_url and type journal\n"
     ]
    },
    {
     "name": "stderr",
     "output_type": "stream",
     "text": [
      " 38%|██████████████████████████▌                                           | 411/1083 [03:13<05:19,  2.10it/s]"
     ]
    },
    {
     "name": "stdout",
     "output_type": "stream",
     "text": [
      "IEEE Journal of Emerging and Selected Topics in Power Electronics has homepage_url and type journal\n"
     ]
    },
    {
     "name": "stderr",
     "output_type": "stream",
     "text": [
      " 38%|██████████████████████████▊                                           | 414/1083 [03:14<05:58,  1.86it/s]"
     ]
    },
    {
     "name": "stdout",
     "output_type": "stream",
     "text": [
      "Coatings has homepage_url and type journal\n"
     ]
    },
    {
     "name": "stderr",
     "output_type": "stream",
     "text": [
      " 38%|██████████████████████████▊                                           | 415/1083 [03:15<05:45,  1.93it/s]"
     ]
    },
    {
     "name": "stdout",
     "output_type": "stream",
     "text": [
      "International Journal of Molecular Sciences has homepage_url and type journal\n"
     ]
    },
    {
     "name": "stderr",
     "output_type": "stream",
     "text": [
      " 38%|██████████████████████████▉                                           | 416/1083 [03:15<05:49,  1.91it/s]"
     ]
    },
    {
     "name": "stdout",
     "output_type": "stream",
     "text": [
      "ACS applied electronic materials has homepage_url and type journal\n"
     ]
    },
    {
     "name": "stderr",
     "output_type": "stream",
     "text": [
      " 39%|██████████████████████████▉                                           | 417/1083 [03:16<05:29,  2.02it/s]"
     ]
    },
    {
     "name": "stdout",
     "output_type": "stream",
     "text": [
      "International Journal of Rock Mechanics and Mining Sciences has homepage_url and type journal\n"
     ]
    },
    {
     "name": "stderr",
     "output_type": "stream",
     "text": [
      " 39%|███████████████████████████                                           | 418/1083 [03:16<05:30,  2.01it/s]"
     ]
    },
    {
     "name": "stdout",
     "output_type": "stream",
     "text": [
      "IEEE Electrical Insulation Magazine has homepage_url and type journal\n"
     ]
    },
    {
     "name": "stderr",
     "output_type": "stream",
     "text": [
      " 39%|███████████████████████████                                           | 419/1083 [03:17<05:17,  2.09it/s]"
     ]
    },
    {
     "name": "stdout",
     "output_type": "stream",
     "text": [
      "Nuclear Instruments and Methods in Physics Research Section B: Beam Interactions with Materials and Atoms has homepage_url and type journal\n"
     ]
    },
    {
     "name": "stderr",
     "output_type": "stream",
     "text": [
      " 39%|███████████████████████████▏                                          | 420/1083 [03:17<05:17,  2.09it/s]"
     ]
    },
    {
     "name": "stdout",
     "output_type": "stream",
     "text": [
      "The Journal of Engineering has homepage_url and type journal\n"
     ]
    },
    {
     "name": "stderr",
     "output_type": "stream",
     "text": [
      " 39%|███████████████████████████▏                                          | 421/1083 [03:17<05:17,  2.08it/s]"
     ]
    },
    {
     "name": "stdout",
     "output_type": "stream",
     "text": [
      "Journal of Advanced Manufacturing Systems has homepage_url and type journal\n"
     ]
    },
    {
     "name": "stderr",
     "output_type": "stream",
     "text": [
      " 39%|███████████████████████████▎                                          | 422/1083 [03:18<05:13,  2.11it/s]"
     ]
    },
    {
     "name": "stdout",
     "output_type": "stream",
     "text": [
      "IEEE Photonics Journal has homepage_url and type journal\n"
     ]
    },
    {
     "name": "stderr",
     "output_type": "stream",
     "text": [
      " 39%|███████████████████████████▎                                          | 423/1083 [03:18<05:07,  2.15it/s]"
     ]
    },
    {
     "name": "stdout",
     "output_type": "stream",
     "text": [
      "High Power Laser Science and Engineering has homepage_url and type journal\n"
     ]
    },
    {
     "name": "stderr",
     "output_type": "stream",
     "text": [
      " 39%|███████████████████████████▍                                          | 424/1083 [03:19<05:04,  2.17it/s]"
     ]
    },
    {
     "name": "stdout",
     "output_type": "stream",
     "text": [
      "Solid State Nuclear Magnetic Resonance has homepage_url and type journal\n"
     ]
    },
    {
     "name": "stderr",
     "output_type": "stream",
     "text": [
      " 39%|███████████████████████████▍                                          | 425/1083 [03:19<04:57,  2.21it/s]"
     ]
    },
    {
     "name": "stdout",
     "output_type": "stream",
     "text": [
      "Journal of Electrostatics has homepage_url and type journal\n"
     ]
    },
    {
     "name": "stderr",
     "output_type": "stream",
     "text": [
      " 39%|███████████████████████████▌                                          | 426/1083 [03:20<04:59,  2.19it/s]"
     ]
    },
    {
     "name": "stdout",
     "output_type": "stream",
     "text": [
      "Journal of Magnetic Resonance has homepage_url and type journal\n"
     ]
    },
    {
     "name": "stderr",
     "output_type": "stream",
     "text": [
      " 39%|███████████████████████████▌                                          | 427/1083 [03:20<05:17,  2.07it/s]"
     ]
    },
    {
     "name": "stdout",
     "output_type": "stream",
     "text": [
      "ACS omega has homepage_url and type journal\n"
     ]
    },
    {
     "name": "stderr",
     "output_type": "stream",
     "text": [
      " 40%|███████████████████████████▋                                          | 428/1083 [03:21<05:16,  2.07it/s]"
     ]
    },
    {
     "name": "stdout",
     "output_type": "stream",
     "text": [
      "CIRP Annals has homepage_url and type journal\n"
     ]
    },
    {
     "name": "stderr",
     "output_type": "stream",
     "text": [
      " 40%|███████████████████████████▋                                          | 429/1083 [03:21<05:06,  2.13it/s]"
     ]
    },
    {
     "name": "stdout",
     "output_type": "stream",
     "text": [
      "Proceedings of SPIE has homepage_url and type journal\n"
     ]
    },
    {
     "name": "stderr",
     "output_type": "stream",
     "text": [
      " 40%|███████████████████████████▊                                          | 430/1083 [03:22<05:07,  2.12it/s]"
     ]
    },
    {
     "name": "stdout",
     "output_type": "stream",
     "text": [
      "Physics Letters has homepage_url and type journal\n"
     ]
    },
    {
     "name": "stderr",
     "output_type": "stream",
     "text": [
      " 40%|███████████████████████████▊                                          | 431/1083 [03:22<05:02,  2.16it/s]"
     ]
    },
    {
     "name": "stdout",
     "output_type": "stream",
     "text": [
      "Physica C: Superconductivity and its Applications has homepage_url and type journal\n"
     ]
    },
    {
     "name": "stderr",
     "output_type": "stream",
     "text": [
      " 40%|███████████████████████████▉                                          | 432/1083 [03:23<04:57,  2.19it/s]"
     ]
    },
    {
     "name": "stdout",
     "output_type": "stream",
     "text": [
      "Bioelectrochemistry has homepage_url and type journal\n"
     ]
    },
    {
     "name": "stderr",
     "output_type": "stream",
     "text": [
      " 40%|███████████████████████████▉                                          | 433/1083 [03:23<04:58,  2.17it/s]"
     ]
    },
    {
     "name": "stdout",
     "output_type": "stream",
     "text": [
      "Journal of Semiconductors has homepage_url and type journal\n"
     ]
    },
    {
     "name": "stderr",
     "output_type": "stream",
     "text": [
      " 40%|████████████████████████████                                          | 434/1083 [03:24<05:02,  2.14it/s]"
     ]
    },
    {
     "name": "stdout",
     "output_type": "stream",
     "text": [
      "Materials Science Forum has homepage_url and type book series\n"
     ]
    },
    {
     "name": "stderr",
     "output_type": "stream",
     "text": [
      " 40%|████████████████████████████                                          | 435/1083 [03:24<05:16,  2.05it/s]"
     ]
    },
    {
     "name": "stdout",
     "output_type": "stream",
     "text": [
      "Waste Management has homepage_url and type journal\n"
     ]
    },
    {
     "name": "stderr",
     "output_type": "stream",
     "text": [
      " 40%|████████████████████████████▏                                         | 436/1083 [03:25<05:24,  1.99it/s]"
     ]
    },
    {
     "name": "stdout",
     "output_type": "stream",
     "text": [
      "Plasma and Fusion Research has homepage_url and type journal\n"
     ]
    },
    {
     "name": "stderr",
     "output_type": "stream",
     "text": [
      " 40%|████████████████████████████▏                                         | 437/1083 [03:25<05:31,  1.95it/s]"
     ]
    },
    {
     "name": "stdout",
     "output_type": "stream",
     "text": [
      "Iet Power Electronics has homepage_url and type journal\n"
     ]
    },
    {
     "name": "stderr",
     "output_type": "stream",
     "text": [
      " 40%|████████████████████████████▎                                         | 438/1083 [03:26<05:15,  2.04it/s]"
     ]
    },
    {
     "name": "stdout",
     "output_type": "stream",
     "text": [
      "Optics Letters has homepage_url and type journal\n"
     ]
    },
    {
     "name": "stderr",
     "output_type": "stream",
     "text": [
      " 41%|████████████████████████████▍                                         | 440/1083 [03:26<04:59,  2.14it/s]"
     ]
    },
    {
     "name": "stdout",
     "output_type": "stream",
     "text": [
      "IEEE Transactions on Transportation Electrification has homepage_url and type journal\n"
     ]
    },
    {
     "name": "stderr",
     "output_type": "stream",
     "text": [
      " 41%|████████████████████████████▌                                         | 441/1083 [03:27<05:16,  2.03it/s]"
     ]
    },
    {
     "name": "stdout",
     "output_type": "stream",
     "text": [
      "Nanotechnology has homepage_url and type journal\n"
     ]
    },
    {
     "name": "stderr",
     "output_type": "stream",
     "text": [
      " 41%|████████████████████████████▋                                         | 444/1083 [03:28<04:51,  2.19it/s]"
     ]
    },
    {
     "name": "stdout",
     "output_type": "stream",
     "text": [
      "Microwave and Optical Technology Letters has homepage_url and type journal\n"
     ]
    },
    {
     "name": "stderr",
     "output_type": "stream",
     "text": [
      " 41%|████████████████████████████▊                                         | 446/1083 [03:29<04:42,  2.25it/s]"
     ]
    },
    {
     "name": "stdout",
     "output_type": "stream",
     "text": [
      "Materials Letters has homepage_url and type journal\n"
     ]
    },
    {
     "name": "stderr",
     "output_type": "stream",
     "text": [
      " 41%|████████████████████████████▉                                         | 448/1083 [03:30<05:00,  2.11it/s]"
     ]
    },
    {
     "name": "stdout",
     "output_type": "stream",
     "text": [
      "Electrical Engineering in Japan has homepage_url and type journal\n"
     ]
    },
    {
     "name": "stderr",
     "output_type": "stream",
     "text": [
      " 41%|█████████████████████████████                                         | 449/1083 [03:31<04:59,  2.12it/s]"
     ]
    },
    {
     "name": "stdout",
     "output_type": "stream",
     "text": [
      "Physics Open has homepage_url and type journal\n"
     ]
    },
    {
     "name": "stderr",
     "output_type": "stream",
     "text": [
      " 42%|█████████████████████████████                                         | 450/1083 [03:31<05:11,  2.03it/s]"
     ]
    },
    {
     "name": "stdout",
     "output_type": "stream",
     "text": [
      "Optical Materials has homepage_url and type journal\n"
     ]
    },
    {
     "name": "stderr",
     "output_type": "stream",
     "text": [
      " 42%|█████████████████████████████▏                                        | 451/1083 [03:32<05:03,  2.09it/s]"
     ]
    },
    {
     "name": "stdout",
     "output_type": "stream",
     "text": [
      "Defence Technology has homepage_url and type journal\n"
     ]
    },
    {
     "name": "stderr",
     "output_type": "stream",
     "text": [
      " 42%|█████████████████████████████▏                                        | 452/1083 [03:32<04:53,  2.15it/s]"
     ]
    },
    {
     "name": "stdout",
     "output_type": "stream",
     "text": [
      "Acta IMEKO has homepage_url and type journal\n"
     ]
    },
    {
     "name": "stderr",
     "output_type": "stream",
     "text": [
      " 42%|█████████████████████████████▎                                        | 453/1083 [03:33<04:52,  2.15it/s]"
     ]
    },
    {
     "name": "stdout",
     "output_type": "stream",
     "text": [
      "Symmetry has homepage_url and type journal\n"
     ]
    },
    {
     "name": "stderr",
     "output_type": "stream",
     "text": [
      " 42%|█████████████████████████████▎                                        | 454/1083 [03:33<04:49,  2.17it/s]"
     ]
    },
    {
     "name": "stdout",
     "output_type": "stream",
     "text": [
      "EPL has homepage_url and type journal\n"
     ]
    },
    {
     "name": "stderr",
     "output_type": "stream",
     "text": [
      " 42%|█████████████████████████████▍                                        | 455/1083 [03:33<04:44,  2.21it/s]"
     ]
    },
    {
     "name": "stdout",
     "output_type": "stream",
     "text": [
      "Journal of Environmental Chemical Engineering has homepage_url and type journal\n"
     ]
    },
    {
     "name": "stderr",
     "output_type": "stream",
     "text": [
      " 42%|█████████████████████████████▌                                        | 457/1083 [03:34<04:39,  2.24it/s]"
     ]
    },
    {
     "name": "stdout",
     "output_type": "stream",
     "text": [
      "IEEE Transactions on Instrumentation and Measurement has homepage_url and type journal\n"
     ]
    },
    {
     "name": "stderr",
     "output_type": "stream",
     "text": [
      " 42%|█████████████████████████████▌                                        | 458/1083 [03:35<05:16,  1.98it/s]"
     ]
    },
    {
     "name": "stdout",
     "output_type": "stream",
     "text": [
      "Sustainability has homepage_url and type journal\n"
     ]
    },
    {
     "name": "stderr",
     "output_type": "stream",
     "text": [
      " 42%|█████████████████████████████▋                                        | 459/1083 [03:36<05:33,  1.87it/s]"
     ]
    },
    {
     "name": "stdout",
     "output_type": "stream",
     "text": [
      "Journal of the Optical Society of America has homepage_url and type journal\n"
     ]
    },
    {
     "name": "stderr",
     "output_type": "stream",
     "text": [
      " 42%|█████████████████████████████▋                                        | 460/1083 [03:36<05:25,  1.91it/s]"
     ]
    },
    {
     "name": "stdout",
     "output_type": "stream",
     "text": [
      "Optics Communications has homepage_url and type journal\n"
     ]
    },
    {
     "name": "stderr",
     "output_type": "stream",
     "text": [
      " 43%|█████████████████████████████▉                                        | 463/1083 [03:37<05:07,  2.01it/s]"
     ]
    },
    {
     "name": "stdout",
     "output_type": "stream",
     "text": [
      "Cryogenics has homepage_url and type journal\n"
     ]
    },
    {
     "name": "stderr",
     "output_type": "stream",
     "text": [
      " 43%|█████████████████████████████▉                                        | 464/1083 [03:38<05:06,  2.02it/s]"
     ]
    },
    {
     "name": "stdout",
     "output_type": "stream",
     "text": [
      "IEEE Transactions on Nuclear Science has homepage_url and type journal\n"
     ]
    },
    {
     "name": "stderr",
     "output_type": "stream",
     "text": [
      " 43%|██████████████████████████████                                        | 465/1083 [03:38<05:06,  2.01it/s]"
     ]
    },
    {
     "name": "stdout",
     "output_type": "stream",
     "text": [
      "IEEE Transactions on Magnetics has homepage_url and type journal\n"
     ]
    },
    {
     "name": "stderr",
     "output_type": "stream",
     "text": [
      " 43%|██████████████████████████████                                        | 466/1083 [03:39<04:58,  2.06it/s]"
     ]
    },
    {
     "name": "stdout",
     "output_type": "stream",
     "text": [
      "Iet Electric Power Applications has homepage_url and type journal\n"
     ]
    },
    {
     "name": "stderr",
     "output_type": "stream",
     "text": [
      " 43%|██████████████████████████████▏                                       | 467/1083 [03:39<04:47,  2.14it/s]"
     ]
    },
    {
     "name": "stdout",
     "output_type": "stream",
     "text": [
      "American Journal of Physics has homepage_url and type journal\n"
     ]
    },
    {
     "name": "stderr",
     "output_type": "stream",
     "text": [
      " 43%|██████████████████████████████▏                                       | 468/1083 [03:40<04:44,  2.16it/s]"
     ]
    },
    {
     "name": "stdout",
     "output_type": "stream",
     "text": [
      "Procedia Manufacturing has homepage_url and type journal\n"
     ]
    },
    {
     "name": "stderr",
     "output_type": "stream",
     "text": [
      " 43%|██████████████████████████████▎                                       | 469/1083 [03:40<05:06,  2.01it/s]"
     ]
    },
    {
     "name": "stdout",
     "output_type": "stream",
     "text": [
      "IEEE Letters on Electromagnetic Compatibility Practice and Applications has homepage_url and type journal\n"
     ]
    },
    {
     "name": "stderr",
     "output_type": "stream",
     "text": [
      " 43%|██████████████████████████████▍                                       | 471/1083 [03:41<05:03,  2.02it/s]"
     ]
    },
    {
     "name": "stdout",
     "output_type": "stream",
     "text": [
      "Crystals has homepage_url and type journal\n"
     ]
    },
    {
     "name": "stderr",
     "output_type": "stream",
     "text": [
      " 44%|██████████████████████████████▌                                       | 472/1083 [03:42<04:50,  2.10it/s]"
     ]
    },
    {
     "name": "stdout",
     "output_type": "stream",
     "text": [
      "Frontiers in Energy Research has homepage_url and type journal\n"
     ]
    },
    {
     "name": "stderr",
     "output_type": "stream",
     "text": [
      " 44%|██████████████████████████████▌                                       | 473/1083 [03:42<04:43,  2.15it/s]"
     ]
    },
    {
     "name": "stdout",
     "output_type": "stream",
     "text": [
      "Instruments and Experimental Techniques has homepage_url and type journal\n"
     ]
    },
    {
     "name": "stderr",
     "output_type": "stream",
     "text": [
      " 44%|██████████████████████████████▋                                       | 474/1083 [03:43<04:42,  2.16it/s]"
     ]
    },
    {
     "name": "stdout",
     "output_type": "stream",
     "text": [
      "Energy Reports has homepage_url and type journal\n"
     ]
    },
    {
     "name": "stderr",
     "output_type": "stream",
     "text": [
      " 44%|██████████████████████████████▊                                       | 477/1083 [03:44<04:27,  2.26it/s]"
     ]
    },
    {
     "name": "stdout",
     "output_type": "stream",
     "text": [
      "Chinese Optics Letters has homepage_url and type journal\n"
     ]
    },
    {
     "name": "stderr",
     "output_type": "stream",
     "text": [
      " 44%|██████████████████████████████▉                                       | 478/1083 [03:45<05:06,  1.97it/s]"
     ]
    },
    {
     "name": "stdout",
     "output_type": "stream",
     "text": [
      "Analytical Chemistry has homepage_url and type journal\n"
     ]
    },
    {
     "name": "stderr",
     "output_type": "stream",
     "text": [
      " 44%|██████████████████████████████▉                                       | 479/1083 [03:45<05:13,  1.93it/s]"
     ]
    },
    {
     "name": "stdout",
     "output_type": "stream",
     "text": [
      "Nuclear Engineering and Technology has homepage_url and type journal\n"
     ]
    },
    {
     "name": "stderr",
     "output_type": "stream",
     "text": [
      " 44%|███████████████████████████████                                       | 480/1083 [03:46<04:57,  2.03it/s]"
     ]
    },
    {
     "name": "stdout",
     "output_type": "stream",
     "text": [
      "Applied Physics A has homepage_url and type journal\n"
     ]
    },
    {
     "name": "stderr",
     "output_type": "stream",
     "text": [
      " 44%|███████████████████████████████                                       | 481/1083 [03:46<04:59,  2.01it/s]"
     ]
    },
    {
     "name": "stdout",
     "output_type": "stream",
     "text": [
      "Minerals has homepage_url and type journal\n"
     ]
    },
    {
     "name": "stderr",
     "output_type": "stream",
     "text": [
      " 45%|███████████████████████████████▏                                      | 482/1083 [03:47<05:16,  1.90it/s]"
     ]
    },
    {
     "name": "stdout",
     "output_type": "stream",
     "text": [
      "Processes has homepage_url and type journal\n"
     ]
    },
    {
     "name": "stderr",
     "output_type": "stream",
     "text": [
      " 45%|███████████████████████████████▏                                      | 483/1083 [03:47<04:57,  2.02it/s]"
     ]
    },
    {
     "name": "stdout",
     "output_type": "stream",
     "text": [
      "Materials Today Energy has homepage_url and type journal\n"
     ]
    },
    {
     "name": "stderr",
     "output_type": "stream",
     "text": [
      " 45%|███████████████████████████████▎                                      | 484/1083 [03:48<04:58,  2.01it/s]"
     ]
    },
    {
     "name": "stdout",
     "output_type": "stream",
     "text": [
      "Transportation Research Procedia has homepage_url and type journal\n"
     ]
    },
    {
     "name": "stderr",
     "output_type": "stream",
     "text": [
      " 45%|███████████████████████████████▍                                      | 486/1083 [03:49<04:41,  2.12it/s]"
     ]
    },
    {
     "name": "stdout",
     "output_type": "stream",
     "text": [
      "Journal of Cosmetic and Laser Therapy has homepage_url and type journal\n"
     ]
    },
    {
     "name": "stderr",
     "output_type": "stream",
     "text": [
      " 45%|███████████████████████████████▍                                      | 487/1083 [03:49<04:49,  2.06it/s]"
     ]
    },
    {
     "name": "stdout",
     "output_type": "stream",
     "text": [
      "High Temperature Material Processes has homepage_url and type journal\n"
     ]
    },
    {
     "name": "stderr",
     "output_type": "stream",
     "text": [
      " 45%|███████████████████████████████▌                                      | 488/1083 [03:50<04:40,  2.12it/s]"
     ]
    },
    {
     "name": "stdout",
     "output_type": "stream",
     "text": [
      "Optik has homepage_url and type journal\n"
     ]
    },
    {
     "name": "stderr",
     "output_type": "stream",
     "text": [
      " 45%|███████████████████████████████▋                                      | 490/1083 [03:50<04:42,  2.10it/s]"
     ]
    },
    {
     "name": "stdout",
     "output_type": "stream",
     "text": [
      "E3S web of conferences has homepage_url and type journal\n"
     ]
    },
    {
     "name": "stderr",
     "output_type": "stream",
     "text": [
      " 46%|███████████████████████████████▊                                      | 493/1083 [03:52<04:31,  2.17it/s]"
     ]
    },
    {
     "name": "stdout",
     "output_type": "stream",
     "text": [
      "Plasma research express has homepage_url and type journal\n"
     ]
    },
    {
     "name": "stderr",
     "output_type": "stream",
     "text": [
      " 46%|███████████████████████████████▉                                      | 494/1083 [03:52<04:31,  2.17it/s]"
     ]
    },
    {
     "name": "stdout",
     "output_type": "stream",
     "text": [
      "JPhys photonics has homepage_url and type journal\n"
     ]
    },
    {
     "name": "stderr",
     "output_type": "stream",
     "text": [
      " 46%|███████████████████████████████▉                                      | 495/1083 [03:53<04:24,  2.22it/s]"
     ]
    },
    {
     "name": "stdout",
     "output_type": "stream",
     "text": [
      "Journal of Energy Storage has homepage_url and type journal\n"
     ]
    },
    {
     "name": "stderr",
     "output_type": "stream",
     "text": [
      " 46%|████████████████████████████████▍                                     | 501/1083 [03:55<04:41,  2.07it/s]"
     ]
    },
    {
     "name": "stdout",
     "output_type": "stream",
     "text": [
      "Molecules has homepage_url and type journal\n"
     ]
    },
    {
     "name": "stderr",
     "output_type": "stream",
     "text": [
      " 47%|████████████████████████████████▊                                     | 507/1083 [03:58<04:25,  2.17it/s]"
     ]
    },
    {
     "name": "stdout",
     "output_type": "stream",
     "text": [
      "Energy storage has homepage_url and type journal\n"
     ]
    },
    {
     "name": "stderr",
     "output_type": "stream",
     "text": [
      " 47%|█████████████████████████████████                                     | 511/1083 [04:00<04:19,  2.20it/s]"
     ]
    },
    {
     "name": "stdout",
     "output_type": "stream",
     "text": [
      "Food engineering series has homepage_url and type book series\n"
     ]
    },
    {
     "name": "stderr",
     "output_type": "stream",
     "text": [
      " 47%|█████████████████████████████████                                     | 512/1083 [04:01<04:33,  2.09it/s]"
     ]
    },
    {
     "name": "stdout",
     "output_type": "stream",
     "text": [
      "Applied Optics has homepage_url and type journal\n"
     ]
    },
    {
     "name": "stderr",
     "output_type": "stream",
     "text": [
      " 47%|█████████████████████████████████▏                                    | 513/1083 [04:01<04:26,  2.14it/s]"
     ]
    },
    {
     "name": "stdout",
     "output_type": "stream",
     "text": [
      "Applied Thermal Engineering has homepage_url and type journal\n"
     ]
    },
    {
     "name": "stderr",
     "output_type": "stream",
     "text": [
      " 48%|█████████████████████████████████▎                                    | 515/1083 [04:02<04:12,  2.25it/s]"
     ]
    },
    {
     "name": "stdout",
     "output_type": "stream",
     "text": [
      "Инженерный журнал: наука и инновации has homepage_url and type journal\n"
     ]
    },
    {
     "name": "stderr",
     "output_type": "stream",
     "text": [
      " 48%|█████████████████████████████████▍                                    | 517/1083 [04:03<04:02,  2.34it/s]"
     ]
    },
    {
     "name": "stdout",
     "output_type": "stream",
     "text": [
      "Combustion and Flame has homepage_url and type journal\n"
     ]
    },
    {
     "name": "stderr",
     "output_type": "stream",
     "text": [
      " 48%|█████████████████████████████████▌                                    | 519/1083 [04:04<04:09,  2.26it/s]"
     ]
    },
    {
     "name": "stdout",
     "output_type": "stream",
     "text": [
      "Journal of Magnetism and Magnetic Materials has homepage_url and type journal\n"
     ]
    },
    {
     "name": "stderr",
     "output_type": "stream",
     "text": [
      " 48%|█████████████████████████████████▋                                    | 521/1083 [04:04<04:14,  2.21it/s]"
     ]
    },
    {
     "name": "stdout",
     "output_type": "stream",
     "text": [
      "Photonics has homepage_url and type journal\n"
     ]
    },
    {
     "name": "stderr",
     "output_type": "stream",
     "text": [
      " 48%|█████████████████████████████████▋                                    | 522/1083 [04:05<04:09,  2.25it/s]"
     ]
    },
    {
     "name": "stdout",
     "output_type": "stream",
     "text": [
      "Results in Physics has homepage_url and type journal\n"
     ]
    },
    {
     "name": "stderr",
     "output_type": "stream",
     "text": [
      " 48%|█████████████████████████████████▊                                    | 523/1083 [04:06<04:45,  1.96it/s]"
     ]
    },
    {
     "name": "stdout",
     "output_type": "stream",
     "text": [
      "Solid State Sciences has homepage_url and type journal\n"
     ]
    },
    {
     "name": "stderr",
     "output_type": "stream",
     "text": [
      " 48%|█████████████████████████████████▊                                    | 524/1083 [04:06<04:44,  1.97it/s]"
     ]
    },
    {
     "name": "stdout",
     "output_type": "stream",
     "text": [
      "Thermal spray has homepage_url and type journal\n"
     ]
    },
    {
     "name": "stderr",
     "output_type": "stream",
     "text": [
      " 49%|██████████████████████████████████                                    | 527/1083 [04:07<04:19,  2.14it/s]"
     ]
    },
    {
     "name": "stdout",
     "output_type": "stream",
     "text": [
      "Epj Web of Conferences has homepage_url and type journal\n"
     ]
    },
    {
     "name": "stderr",
     "output_type": "stream",
     "text": [
      " 49%|██████████████████████████████████▏                                   | 528/1083 [04:08<04:25,  2.09it/s]"
     ]
    },
    {
     "name": "stdout",
     "output_type": "stream",
     "text": [
      "Fusion Science and Technology has homepage_url and type journal\n"
     ]
    },
    {
     "name": "stderr",
     "output_type": "stream",
     "text": [
      " 49%|██████████████████████████████████▏                                   | 529/1083 [04:08<04:11,  2.20it/s]"
     ]
    },
    {
     "name": "stdout",
     "output_type": "stream",
     "text": [
      "ECS transactions has homepage_url and type journal\n"
     ]
    },
    {
     "name": "stderr",
     "output_type": "stream",
     "text": [
      " 49%|██████████████████████████████████▎                                   | 530/1083 [04:09<04:15,  2.16it/s]"
     ]
    },
    {
     "name": "stdout",
     "output_type": "stream",
     "text": [
      "Journal of wireless communications has homepage_url and type journal\n"
     ]
    },
    {
     "name": "stderr",
     "output_type": "stream",
     "text": [
      " 49%|██████████████████████████████████▍                                   | 533/1083 [04:10<04:28,  2.05it/s]"
     ]
    },
    {
     "name": "stdout",
     "output_type": "stream",
     "text": [
      "Advanced Science Letters has homepage_url and type journal\n"
     ]
    },
    {
     "name": "stderr",
     "output_type": "stream",
     "text": [
      " 50%|██████████████████████████████████▋                                   | 537/1083 [04:12<04:13,  2.15it/s]"
     ]
    },
    {
     "name": "stdout",
     "output_type": "stream",
     "text": [
      "Molecular Genetics and Metabolism has homepage_url and type journal\n"
     ]
    },
    {
     "name": "stderr",
     "output_type": "stream",
     "text": [
      " 50%|██████████████████████████████████▊                                   | 539/1083 [04:13<04:01,  2.26it/s]"
     ]
    },
    {
     "name": "stdout",
     "output_type": "stream",
     "text": [
      "Springer theses has homepage_url and type book series\n"
     ]
    },
    {
     "name": "stderr",
     "output_type": "stream",
     "text": [
      " 50%|██████████████████████████████████▉                                   | 540/1083 [04:13<04:11,  2.16it/s]"
     ]
    },
    {
     "name": "stdout",
     "output_type": "stream",
     "text": [
      "Lecture Notes in Physics has homepage_url and type book series\n"
     ]
    },
    {
     "name": "stderr",
     "output_type": "stream",
     "text": [
      " 50%|██████████████████████████████████▉                                   | 541/1083 [04:14<04:14,  2.13it/s]"
     ]
    },
    {
     "name": "stdout",
     "output_type": "stream",
     "text": [
      "Instruments has homepage_url and type journal\n"
     ]
    },
    {
     "name": "stderr",
     "output_type": "stream",
     "text": [
      " 50%|███████████████████████████████████                                   | 543/1083 [04:15<04:03,  2.22it/s]"
     ]
    },
    {
     "name": "stdout",
     "output_type": "stream",
     "text": [
      "Izvestiâ vysših učebnyh zavedenij Rossii has homepage_url and type journal\n"
     ]
    },
    {
     "name": "stderr",
     "output_type": "stream",
     "text": [
      " 50%|███████████████████████████████████▎                                  | 546/1083 [04:16<04:10,  2.14it/s]"
     ]
    },
    {
     "name": "stdout",
     "output_type": "stream",
     "text": [
      "Journal of Engineering Science and Military Technologies has homepage_url and type journal\n"
     ]
    },
    {
     "name": "stderr",
     "output_type": "stream",
     "text": [
      " 51%|███████████████████████████████████▎                                  | 547/1083 [04:17<04:07,  2.17it/s]"
     ]
    },
    {
     "name": "stdout",
     "output_type": "stream",
     "text": [
      "International Journal of Advance Research and Innovative Ideas in Education has homepage_url and type journal\n"
     ]
    },
    {
     "name": "stderr",
     "output_type": "stream",
     "text": [
      " 51%|███████████████████████████████████▍                                  | 548/1083 [04:17<04:05,  2.18it/s]"
     ]
    },
    {
     "name": "stdout",
     "output_type": "stream",
     "text": [
      "International journal on engineering applications has homepage_url and type journal\n"
     ]
    },
    {
     "name": "stderr",
     "output_type": "stream",
     "text": [
      " 51%|███████████████████████████████████▌                                  | 551/1083 [04:18<03:54,  2.27it/s]"
     ]
    },
    {
     "name": "stdout",
     "output_type": "stream",
     "text": [
      "Solid State Electronics Letters has homepage_url and type journal\n"
     ]
    },
    {
     "name": "stderr",
     "output_type": "stream",
     "text": [
      " 51%|███████████████████████████████████▋                                  | 552/1083 [04:19<03:59,  2.22it/s]"
     ]
    },
    {
     "name": "stdout",
     "output_type": "stream",
     "text": [
      "Voprosy radioèlektroniki has homepage_url and type journal\n"
     ]
    },
    {
     "name": "stderr",
     "output_type": "stream",
     "text": [
      " 51%|███████████████████████████████████▊                                  | 554/1083 [04:20<03:58,  2.22it/s]"
     ]
    },
    {
     "name": "stdout",
     "output_type": "stream",
     "text": [
      "International Journal on Magnetic Particle Imaging has homepage_url and type journal\n"
     ]
    },
    {
     "name": "stderr",
     "output_type": "stream",
     "text": [
      " 52%|████████████████████████████████████                                  | 558/1083 [04:22<04:03,  2.15it/s]"
     ]
    },
    {
     "name": "stdout",
     "output_type": "stream",
     "text": [
      "Tehnìčna ìnženerìâ has homepage_url and type journal\n"
     ]
    },
    {
     "name": "stderr",
     "output_type": "stream",
     "text": [
      " 52%|████████████████████████████████████▎                                 | 561/1083 [04:23<04:28,  1.94it/s]"
     ]
    },
    {
     "name": "stdout",
     "output_type": "stream",
     "text": [
      "Proceedings has homepage_url and type journal\n"
     ]
    },
    {
     "name": "stderr",
     "output_type": "stream",
     "text": [
      " 52%|████████████████████████████████████▎                                 | 562/1083 [04:24<04:11,  2.07it/s]"
     ]
    },
    {
     "name": "stdout",
     "output_type": "stream",
     "text": [
      "Известия высших учебных заведений. Черная металлургия has homepage_url and type journal\n"
     ]
    },
    {
     "name": "stderr",
     "output_type": "stream",
     "text": [
      " 52%|████████████████████████████████████▍                                 | 564/1083 [04:25<04:11,  2.07it/s]"
     ]
    },
    {
     "name": "stdout",
     "output_type": "stream",
     "text": [
      "IEEE Transactions on Power Delivery has homepage_url and type journal\n"
     ]
    },
    {
     "name": "stderr",
     "output_type": "stream",
     "text": [
      " 52%|████████████████████████████████████▋                                 | 567/1083 [04:26<04:23,  1.96it/s]"
     ]
    },
    {
     "name": "stdout",
     "output_type": "stream",
     "text": [
      "Journal of Engineering Research and Reports has homepage_url and type journal\n"
     ]
    },
    {
     "name": "stderr",
     "output_type": "stream",
     "text": [
      " 52%|████████████████████████████████████▋                                 | 568/1083 [04:27<04:14,  2.02it/s]"
     ]
    },
    {
     "name": "stdout",
     "output_type": "stream",
     "text": [
      "Journal of Drug Delivery and Therapeutics has homepage_url and type journal\n"
     ]
    },
    {
     "name": "stderr",
     "output_type": "stream",
     "text": [
      " 53%|█████████████████████████████████████▎                                | 577/1083 [04:31<03:52,  2.17it/s]"
     ]
    },
    {
     "name": "stdout",
     "output_type": "stream",
     "text": [
      "bioRxiv (Cold Spring Harbor Laboratory) has homepage_url and type repository\n"
     ]
    },
    {
     "name": "stderr",
     "output_type": "stream",
     "text": [
      " 54%|█████████████████████████████████████▍                                | 580/1083 [04:32<03:49,  2.19it/s]"
     ]
    },
    {
     "name": "stdout",
     "output_type": "stream",
     "text": [
      "Physica Status Solidi A-applications and Materials Science has homepage_url and type journal\n"
     ]
    },
    {
     "name": "stderr",
     "output_type": "stream",
     "text": [
      " 54%|██████████████████████████████████████                                | 589/1083 [04:36<03:42,  2.22it/s]"
     ]
    },
    {
     "name": "stdout",
     "output_type": "stream",
     "text": [
      "Journal of The Electrochemical Society has homepage_url and type journal\n"
     ]
    },
    {
     "name": "stderr",
     "output_type": "stream",
     "text": [
      " 55%|██████████████████████████████████████▏                               | 591/1083 [04:37<03:42,  2.21it/s]"
     ]
    },
    {
     "name": "stdout",
     "output_type": "stream",
     "text": [
      "Defence Science Journal has homepage_url and type journal\n"
     ]
    },
    {
     "name": "stderr",
     "output_type": "stream",
     "text": [
      " 56%|███████████████████████████████████████▏                              | 606/1083 [04:44<03:25,  2.32it/s]"
     ]
    },
    {
     "name": "stdout",
     "output_type": "stream",
     "text": [
      "Problemy osobo opasnyh infekcij has homepage_url and type journal\n"
     ]
    },
    {
     "name": "stderr",
     "output_type": "stream",
     "text": [
      " 56%|███████████████████████████████████████▎                              | 609/1083 [04:45<03:53,  2.03it/s]"
     ]
    },
    {
     "name": "stdout",
     "output_type": "stream",
     "text": [
      "Advanced Engineering Materials has homepage_url and type journal\n"
     ]
    },
    {
     "name": "stderr",
     "output_type": "stream",
     "text": [
      " 57%|████████████████████████████████████████                              | 619/1083 [04:49<03:22,  2.29it/s]"
     ]
    },
    {
     "name": "stdout",
     "output_type": "stream",
     "text": [
      "Journal of Adhesion has homepage_url and type journal\n"
     ]
    },
    {
     "name": "stderr",
     "output_type": "stream",
     "text": [
      " 57%|████████████████████████████████████████▏                             | 622/1083 [04:51<03:26,  2.23it/s]"
     ]
    },
    {
     "name": "stdout",
     "output_type": "stream",
     "text": [
      "Welding International has homepage_url and type journal\n"
     ]
    },
    {
     "name": "stderr",
     "output_type": "stream",
     "text": [
      " 58%|████████████████████████████████████████▎                             | 623/1083 [04:51<03:26,  2.23it/s]"
     ]
    },
    {
     "name": "stdout",
     "output_type": "stream",
     "text": [
      "Batteries has homepage_url and type journal\n"
     ]
    },
    {
     "name": "stderr",
     "output_type": "stream",
     "text": [
      " 58%|████████████████████████████████████████▎                             | 624/1083 [04:52<03:23,  2.26it/s]"
     ]
    },
    {
     "name": "stdout",
     "output_type": "stream",
     "text": [
      "Optical and Quantum Electronics has homepage_url and type journal\n"
     ]
    },
    {
     "name": "stderr",
     "output_type": "stream",
     "text": [
      " 58%|████████████████████████████████████████▍                             | 625/1083 [04:52<03:28,  2.19it/s]"
     ]
    },
    {
     "name": "stdout",
     "output_type": "stream",
     "text": [
      "The International Journal of Advanced Manufacturing Technology has homepage_url and type journal\n"
     ]
    },
    {
     "name": "stderr",
     "output_type": "stream",
     "text": [
      " 58%|████████████████████████████████████████▌                             | 627/1083 [04:53<03:38,  2.09it/s]"
     ]
    },
    {
     "name": "stdout",
     "output_type": "stream",
     "text": [
      "Applications in Energy and Combustion Science has homepage_url and type journal\n"
     ]
    },
    {
     "name": "stderr",
     "output_type": "stream",
     "text": [
      " 58%|████████████████████████████████████████▋                             | 629/1083 [04:54<03:38,  2.07it/s]"
     ]
    },
    {
     "name": "stdout",
     "output_type": "stream",
     "text": [
      "Journal of Asian Ceramic Societies has homepage_url and type journal\n"
     ]
    },
    {
     "name": "stderr",
     "output_type": "stream",
     "text": [
      " 58%|████████████████████████████████████████▋                             | 630/1083 [04:55<03:26,  2.19it/s]"
     ]
    },
    {
     "name": "stdout",
     "output_type": "stream",
     "text": [
      "Power Electronic Devices and Components has homepage_url and type journal\n"
     ]
    },
    {
     "name": "stderr",
     "output_type": "stream",
     "text": [
      " 58%|████████████████████████████████████████▊                             | 631/1083 [04:55<03:52,  1.94it/s]"
     ]
    },
    {
     "name": "stdout",
     "output_type": "stream",
     "text": [
      "Fuel has homepage_url and type journal\n"
     ]
    },
    {
     "name": "stderr",
     "output_type": "stream",
     "text": [
      " 58%|████████████████████████████████████████▉                             | 633/1083 [04:56<03:37,  2.07it/s]"
     ]
    },
    {
     "name": "stdout",
     "output_type": "stream",
     "text": [
      "Analytical Letters has homepage_url and type journal\n"
     ]
    },
    {
     "name": "stderr",
     "output_type": "stream",
     "text": [
      " 59%|████████████████████████████████████████▉                             | 634/1083 [04:57<03:31,  2.12it/s]"
     ]
    },
    {
     "name": "stdout",
     "output_type": "stream",
     "text": [
      "ACS applied energy materials has homepage_url and type journal\n"
     ]
    },
    {
     "name": "stderr",
     "output_type": "stream",
     "text": [
      " 59%|█████████████████████████████████████████                             | 635/1083 [04:57<03:35,  2.08it/s]"
     ]
    },
    {
     "name": "stdout",
     "output_type": "stream",
     "text": [
      "Chinese Chemical Letters has homepage_url and type journal\n"
     ]
    },
    {
     "name": "stderr",
     "output_type": "stream",
     "text": [
      " 59%|█████████████████████████████████████████                             | 636/1083 [04:57<03:28,  2.15it/s]"
     ]
    },
    {
     "name": "stdout",
     "output_type": "stream",
     "text": [
      "Heliyon has homepage_url and type journal\n"
     ]
    },
    {
     "name": "stderr",
     "output_type": "stream",
     "text": [
      " 59%|█████████████████████████████████████████▏                            | 637/1083 [04:58<03:25,  2.17it/s]"
     ]
    },
    {
     "name": "stdout",
     "output_type": "stream",
     "text": [
      "Автоматизация технологических и бизнес-процессов has homepage_url and type journal\n"
     ]
    },
    {
     "name": "stderr",
     "output_type": "stream",
     "text": [
      " 59%|█████████████████████████████████████████▎                            | 639/1083 [04:59<03:21,  2.20it/s]"
     ]
    },
    {
     "name": "stdout",
     "output_type": "stream",
     "text": [
      "Physica Scripta has homepage_url and type journal\n"
     ]
    },
    {
     "name": "stderr",
     "output_type": "stream",
     "text": [
      " 59%|█████████████████████████████████████████▍                            | 641/1083 [05:00<03:16,  2.25it/s]"
     ]
    },
    {
     "name": "stdout",
     "output_type": "stream",
     "text": [
      "IEEE Transactions on Aerospace and Electronic Systems has homepage_url and type journal\n"
     ]
    },
    {
     "name": "stderr",
     "output_type": "stream",
     "text": [
      " 59%|█████████████████████████████████████████▍                            | 642/1083 [05:00<03:27,  2.13it/s]"
     ]
    },
    {
     "name": "stdout",
     "output_type": "stream",
     "text": [
      "Proceedings of the National Academy of Sciences of the United States of America has homepage_url and type journal\n"
     ]
    },
    {
     "name": "stderr",
     "output_type": "stream",
     "text": [
      " 59%|█████████████████████████████████████████▌                            | 643/1083 [05:01<03:24,  2.15it/s]"
     ]
    },
    {
     "name": "stdout",
     "output_type": "stream",
     "text": [
      "Aerospace Science and Technology has homepage_url and type journal\n"
     ]
    },
    {
     "name": "stderr",
     "output_type": "stream",
     "text": [
      " 59%|█████████████████████████████████████████▋                            | 644/1083 [05:01<03:15,  2.25it/s]"
     ]
    },
    {
     "name": "stdout",
     "output_type": "stream",
     "text": [
      "Chinese Journal of Aeronautics has homepage_url and type journal\n"
     ]
    },
    {
     "name": "stderr",
     "output_type": "stream",
     "text": [
      " 60%|█████████████████████████████████████████▋                            | 645/1083 [05:02<03:14,  2.25it/s]"
     ]
    },
    {
     "name": "stdout",
     "output_type": "stream",
     "text": [
      "Safety Science has homepage_url and type journal\n"
     ]
    },
    {
     "name": "stderr",
     "output_type": "stream",
     "text": [
      " 60%|█████████████████████████████████████████▊                            | 646/1083 [05:02<03:17,  2.22it/s]"
     ]
    },
    {
     "name": "stdout",
     "output_type": "stream",
     "text": [
      "Journal of aerospace information systems has homepage_url and type journal\n"
     ]
    },
    {
     "name": "stderr",
     "output_type": "stream",
     "text": [
      " 60%|█████████████████████████████████████████▉                            | 648/1083 [05:03<03:22,  2.14it/s]"
     ]
    },
    {
     "name": "stdout",
     "output_type": "stream",
     "text": [
      "International Journal of Aerospace Engineering has homepage_url and type journal\n"
     ]
    },
    {
     "name": "stderr",
     "output_type": "stream",
     "text": [
      " 60%|█████████████████████████████████████████▉                            | 649/1083 [05:03<03:16,  2.21it/s]"
     ]
    },
    {
     "name": "stdout",
     "output_type": "stream",
     "text": [
      "The Imaging Science Journal has homepage_url and type journal\n"
     ]
    },
    {
     "name": "stderr",
     "output_type": "stream",
     "text": [
      " 60%|██████████████████████████████████████████                            | 650/1083 [05:04<03:11,  2.26it/s]"
     ]
    },
    {
     "name": "stdout",
     "output_type": "stream",
     "text": [
      "Journal of the Royal Aeronautical Society has homepage_url and type journal\n"
     ]
    },
    {
     "name": "stderr",
     "output_type": "stream",
     "text": [
      " 60%|██████████████████████████████████████████▏                           | 652/1083 [05:05<03:27,  2.07it/s]"
     ]
    },
    {
     "name": "stdout",
     "output_type": "stream",
     "text": [
      "Journal of Navigation has homepage_url and type journal\n"
     ]
    },
    {
     "name": "stderr",
     "output_type": "stream",
     "text": [
      " 60%|██████████████████████████████████████████▏                           | 653/1083 [05:05<03:43,  1.92it/s]"
     ]
    },
    {
     "name": "stdout",
     "output_type": "stream",
     "text": [
      "Remote Sensing has homepage_url and type journal\n"
     ]
    },
    {
     "name": "stderr",
     "output_type": "stream",
     "text": [
      " 60%|██████████████████████████████████████████▎                           | 654/1083 [05:06<03:40,  1.95it/s]"
     ]
    },
    {
     "name": "stdout",
     "output_type": "stream",
     "text": [
      "Electronic research archive has homepage_url and type journal\n"
     ]
    },
    {
     "name": "stderr",
     "output_type": "stream",
     "text": [
      " 60%|██████████████████████████████████████████▎                           | 655/1083 [05:06<03:31,  2.03it/s]"
     ]
    },
    {
     "name": "stdout",
     "output_type": "stream",
     "text": [
      "Journal of electromagnetic engineering and science has homepage_url and type journal\n"
     ]
    },
    {
     "name": "stderr",
     "output_type": "stream",
     "text": [
      " 61%|██████████████████████████████████████████▍                           | 656/1083 [05:07<03:29,  2.04it/s]"
     ]
    },
    {
     "name": "stdout",
     "output_type": "stream",
     "text": [
      "Aerospace has homepage_url and type journal\n"
     ]
    },
    {
     "name": "stderr",
     "output_type": "stream",
     "text": [
      " 61%|██████████████████████████████████████████▍                           | 657/1083 [05:07<03:20,  2.13it/s]"
     ]
    },
    {
     "name": "stdout",
     "output_type": "stream",
     "text": [
      "Journal of Spacecraft and Rockets has homepage_url and type journal\n"
     ]
    },
    {
     "name": "stderr",
     "output_type": "stream",
     "text": [
      " 61%|██████████████████████████████████████████▌                           | 658/1083 [05:08<03:18,  2.14it/s]"
     ]
    },
    {
     "name": "stdout",
     "output_type": "stream",
     "text": [
      "Aircraft Engineering and Aerospace Technology has homepage_url and type journal\n"
     ]
    },
    {
     "name": "stderr",
     "output_type": "stream",
     "text": [
      " 61%|██████████████████████████████████████████▋                           | 660/1083 [05:09<03:18,  2.13it/s]"
     ]
    },
    {
     "name": "stdout",
     "output_type": "stream",
     "text": [
      "Xibei gongye daxue xuebao has homepage_url and type journal\n"
     ]
    },
    {
     "name": "stderr",
     "output_type": "stream",
     "text": [
      " 61%|██████████████████████████████████████████▉                           | 664/1083 [05:11<03:17,  2.13it/s]"
     ]
    },
    {
     "name": "stdout",
     "output_type": "stream",
     "text": [
      "Computational Intelligence and Neuroscience has homepage_url and type journal\n"
     ]
    },
    {
     "name": "stderr",
     "output_type": "stream",
     "text": [
      " 61%|██████████████████████████████████████████▉                           | 665/1083 [05:11<03:08,  2.22it/s]"
     ]
    },
    {
     "name": "stdout",
     "output_type": "stream",
     "text": [
      "IEEE Aerospace and Electronic Systems Magazine has homepage_url and type journal\n"
     ]
    },
    {
     "name": "stderr",
     "output_type": "stream",
     "text": [
      " 61%|███████████████████████████████████████████                           | 666/1083 [05:11<03:10,  2.18it/s]"
     ]
    },
    {
     "name": "stdout",
     "output_type": "stream",
     "text": [
      "International Journal of Aeronautical and Space Sciences has homepage_url and type journal\n"
     ]
    },
    {
     "name": "stderr",
     "output_type": "stream",
     "text": [
      " 62%|███████████████████████████████████████████                           | 667/1083 [05:12<03:11,  2.17it/s]"
     ]
    },
    {
     "name": "stdout",
     "output_type": "stream",
     "text": [
      "The Journal of Defense Modeling and Simulation has homepage_url and type journal\n"
     ]
    },
    {
     "name": "stderr",
     "output_type": "stream",
     "text": [
      " 62%|███████████████████████████████████████████▎                          | 671/1083 [05:14<03:11,  2.15it/s]"
     ]
    },
    {
     "name": "stdout",
     "output_type": "stream",
     "text": [
      "International Journal of General Systems has homepage_url and type journal\n"
     ]
    },
    {
     "name": "stderr",
     "output_type": "stream",
     "text": [
      " 62%|███████████████████████████████████████████▌                          | 674/1083 [05:15<03:13,  2.12it/s]"
     ]
    },
    {
     "name": "stdout",
     "output_type": "stream",
     "text": [
      "International Journal of Computational Science and Engineering has homepage_url and type journal\n"
     ]
    },
    {
     "name": "stderr",
     "output_type": "stream",
     "text": [
      " 62%|███████████████████████████████████████████▋                          | 676/1083 [05:16<03:10,  2.14it/s]"
     ]
    },
    {
     "name": "stdout",
     "output_type": "stream",
     "text": [
      "INSIST (International Series on Integrated Science and Technology) has homepage_url and type journal\n"
     ]
    },
    {
     "name": "stderr",
     "output_type": "stream",
     "text": [
      " 63%|███████████████████████████████████████████▊                          | 677/1083 [05:17<03:13,  2.10it/s]"
     ]
    },
    {
     "name": "stdout",
     "output_type": "stream",
     "text": [
      "JAREE (Journal on Advanced Research in Electrical Engineering) has homepage_url and type journal\n"
     ]
    },
    {
     "name": "stderr",
     "output_type": "stream",
     "text": [
      " 63%|███████████████████████████████████████████▊                          | 678/1083 [05:17<03:09,  2.14it/s]"
     ]
    },
    {
     "name": "stdout",
     "output_type": "stream",
     "text": [
      "International Game Theory Review has homepage_url and type journal\n"
     ]
    },
    {
     "name": "stderr",
     "output_type": "stream",
     "text": [
      " 63%|████████████████████████████████████████████▏                         | 683/1083 [05:19<02:52,  2.32it/s]"
     ]
    },
    {
     "name": "stdout",
     "output_type": "stream",
     "text": [
      "Ozbroênnâ ta vìjsʹkova tehnìka has homepage_url and type journal\n"
     ]
    },
    {
     "name": "stderr",
     "output_type": "stream",
     "text": [
      " 63%|████████████████████████████████████████████▎                         | 685/1083 [05:20<03:19,  2.00it/s]"
     ]
    },
    {
     "name": "stdout",
     "output_type": "stream",
     "text": [
      "International Journal of Automation and Control has homepage_url and type journal\n"
     ]
    },
    {
     "name": "stderr",
     "output_type": "stream",
     "text": [
      " 64%|████████████████████████████████████████████▌                         | 689/1083 [05:22<03:01,  2.17it/s]"
     ]
    },
    {
     "name": "stdout",
     "output_type": "stream",
     "text": [
      "Journal of Control and Decision has homepage_url and type journal\n"
     ]
    },
    {
     "name": "stderr",
     "output_type": "stream",
     "text": [
      " 64%|████████████████████████████████████████████▌                         | 690/1083 [05:22<02:57,  2.21it/s]"
     ]
    },
    {
     "name": "stdout",
     "output_type": "stream",
     "text": [
      "Problemy Mechatroniki has homepage_url and type journal\n"
     ]
    },
    {
     "name": "stderr",
     "output_type": "stream",
     "text": [
      " 64%|████████████████████████████████████████████▋                         | 692/1083 [05:23<02:55,  2.23it/s]"
     ]
    },
    {
     "name": "stdout",
     "output_type": "stream",
     "text": [
      "International Journal of Enterprise Information Systems has homepage_url and type journal\n"
     ]
    },
    {
     "name": "stderr",
     "output_type": "stream",
     "text": [
      " 64%|████████████████████████████████████████████▉                         | 695/1083 [05:25<02:59,  2.16it/s]"
     ]
    },
    {
     "name": "stdout",
     "output_type": "stream",
     "text": [
      "Problemy Techniki Uzbrojenia i Radiolokacji has homepage_url and type journal\n"
     ]
    },
    {
     "name": "stderr",
     "output_type": "stream",
     "text": [
      " 64%|█████████████████████████████████████████████                         | 698/1083 [05:26<02:56,  2.19it/s]"
     ]
    },
    {
     "name": "stdout",
     "output_type": "stream",
     "text": [
      "Vortex has homepage_url and type journal\n"
     ]
    },
    {
     "name": "stderr",
     "output_type": "stream",
     "text": [
      " 65%|█████████████████████████████████████████████▋                        | 707/1083 [05:30<02:47,  2.25it/s]"
     ]
    },
    {
     "name": "stdout",
     "output_type": "stream",
     "text": [
      "Advances in Military Technology has homepage_url and type journal\n"
     ]
    },
    {
     "name": "stderr",
     "output_type": "stream",
     "text": [
      " 66%|██████████████████████████████████████████████                        | 712/1083 [05:33<02:51,  2.17it/s]"
     ]
    },
    {
     "name": "stdout",
     "output_type": "stream",
     "text": [
      "International journal of computers and communications has homepage_url and type journal\n"
     ]
    },
    {
     "name": "stderr",
     "output_type": "stream",
     "text": [
      " 66%|██████████████████████████████████████████████▍                       | 718/1083 [05:36<03:09,  1.93it/s]"
     ]
    },
    {
     "name": "stdout",
     "output_type": "stream",
     "text": [
      "Advances in Complex Systems has homepage_url and type journal\n"
     ]
    },
    {
     "name": "stderr",
     "output_type": "stream",
     "text": [
      " 66%|██████████████████████████████████████████████▌                       | 720/1083 [05:37<02:47,  2.17it/s]"
     ]
    },
    {
     "name": "stdout",
     "output_type": "stream",
     "text": [
      "Barekeng has homepage_url and type journal\n"
     ]
    },
    {
     "name": "stderr",
     "output_type": "stream",
     "text": [
      " 67%|██████████████████████████████████████████████▌                       | 721/1083 [05:37<02:42,  2.22it/s]"
     ]
    },
    {
     "name": "stdout",
     "output_type": "stream",
     "text": [
      "Navigation: journal of the Institute of Navigation has homepage_url and type journal\n"
     ]
    },
    {
     "name": "stderr",
     "output_type": "stream",
     "text": [
      " 67%|██████████████████████████████████████████████▉                       | 726/1083 [05:39<02:44,  2.17it/s]"
     ]
    },
    {
     "name": "stdout",
     "output_type": "stream",
     "text": [
      "Baltic Astronomy has homepage_url and type journal\n"
     ]
    },
    {
     "name": "stderr",
     "output_type": "stream",
     "text": [
      " 68%|███████████████████████████████████████████████▋                      | 737/1083 [05:44<02:28,  2.34it/s]"
     ]
    },
    {
     "name": "stdout",
     "output_type": "stream",
     "text": [
      "Authorea (Authorea) has homepage_url and type repository\n"
     ]
    },
    {
     "name": "stderr",
     "output_type": "stream",
     "text": [
      " 68%|███████████████████████████████████████████████▋                      | 738/1083 [05:45<02:27,  2.34it/s]"
     ]
    },
    {
     "name": "stdout",
     "output_type": "stream",
     "text": [
      "EURASIP Journal on Advances in Signal Processing has homepage_url and type journal\n"
     ]
    },
    {
     "name": "stderr",
     "output_type": "stream",
     "text": [
      " 68%|███████████████████████████████████████████████▊                      | 740/1083 [05:46<02:36,  2.20it/s]"
     ]
    },
    {
     "name": "stdout",
     "output_type": "stream",
     "text": [
      "IEEE Transactions on Geoscience and Remote Sensing has homepage_url and type journal\n"
     ]
    },
    {
     "name": "stderr",
     "output_type": "stream",
     "text": [
      " 68%|███████████████████████████████████████████████▉                      | 741/1083 [05:46<02:31,  2.25it/s]"
     ]
    },
    {
     "name": "stdout",
     "output_type": "stream",
     "text": [
      "IEEE Journal of Selected Topics in Applied Earth Observations and Remote Sensing has homepage_url and type journal\n"
     ]
    },
    {
     "name": "stderr",
     "output_type": "stream",
     "text": [
      " 69%|███████████████████████████████████████████████▉                      | 742/1083 [05:47<02:28,  2.30it/s]"
     ]
    },
    {
     "name": "stdout",
     "output_type": "stream",
     "text": [
      "IEEE Geoscience and Remote Sensing Letters has homepage_url and type journal\n"
     ]
    },
    {
     "name": "stderr",
     "output_type": "stream",
     "text": [
      " 69%|████████████████████████████████████████████████                      | 743/1083 [05:47<02:28,  2.30it/s]"
     ]
    },
    {
     "name": "stdout",
     "output_type": "stream",
     "text": [
      "Cognitive Computation has homepage_url and type journal\n"
     ]
    },
    {
     "name": "stderr",
     "output_type": "stream",
     "text": [
      " 69%|████████████████████████████████████████████████                      | 744/1083 [05:47<02:30,  2.26it/s]"
     ]
    },
    {
     "name": "stdout",
     "output_type": "stream",
     "text": [
      "Signal Processing has homepage_url and type journal\n"
     ]
    },
    {
     "name": "stderr",
     "output_type": "stream",
     "text": [
      " 69%|████████████████████████████████████████████████▏                     | 745/1083 [05:48<02:30,  2.24it/s]"
     ]
    },
    {
     "name": "stdout",
     "output_type": "stream",
     "text": [
      "IEEE transactions on image processing has homepage_url and type journal\n"
     ]
    },
    {
     "name": "stderr",
     "output_type": "stream",
     "text": [
      " 69%|████████████████████████████████████████████████▏                     | 746/1083 [05:48<02:35,  2.16it/s]"
     ]
    },
    {
     "name": "stdout",
     "output_type": "stream",
     "text": [
      "International Journal of Remote Sensing has homepage_url and type journal\n"
     ]
    },
    {
     "name": "stderr",
     "output_type": "stream",
     "text": [
      " 69%|████████████████████████████████████████████████▎                     | 747/1083 [05:49<02:36,  2.15it/s]"
     ]
    },
    {
     "name": "stdout",
     "output_type": "stream",
     "text": [
      "IEEE Signal Processing Letters has homepage_url and type journal\n"
     ]
    },
    {
     "name": "stderr",
     "output_type": "stream",
     "text": [
      " 69%|████████████████████████████████████████████████▎                     | 748/1083 [05:49<02:32,  2.20it/s]"
     ]
    },
    {
     "name": "stdout",
     "output_type": "stream",
     "text": [
      "IEEE Wireless Communications Letters has homepage_url and type journal\n"
     ]
    },
    {
     "name": "stderr",
     "output_type": "stream",
     "text": [
      " 69%|████████████████████████████████████████████████▍                     | 749/1083 [05:50<02:30,  2.22it/s]"
     ]
    },
    {
     "name": "stdout",
     "output_type": "stream",
     "text": [
      "Remote Sensing Letters has homepage_url and type journal\n"
     ]
    },
    {
     "name": "stderr",
     "output_type": "stream",
     "text": [
      " 69%|████████████████████████████████████████████████▍                     | 750/1083 [05:50<02:42,  2.04it/s]"
     ]
    },
    {
     "name": "stdout",
     "output_type": "stream",
     "text": [
      "Journal of Electromagnetic Waves and Applications has homepage_url and type journal\n"
     ]
    },
    {
     "name": "stderr",
     "output_type": "stream",
     "text": [
      " 69%|████████████████████████████████████████████████▌                     | 751/1083 [05:51<02:37,  2.10it/s]"
     ]
    },
    {
     "name": "stdout",
     "output_type": "stream",
     "text": [
      "Journal of Visual Communication and Image Representation has homepage_url and type journal\n"
     ]
    },
    {
     "name": "stderr",
     "output_type": "stream",
     "text": [
      " 69%|████████████████████████████████████████████████▌                     | 752/1083 [05:51<02:38,  2.09it/s]"
     ]
    },
    {
     "name": "stdout",
     "output_type": "stream",
     "text": [
      "Journal of the Acoustical Society of America has homepage_url and type journal\n"
     ]
    },
    {
     "name": "stderr",
     "output_type": "stream",
     "text": [
      " 70%|████████████████████████████████████████████████▋                     | 753/1083 [05:52<02:36,  2.11it/s]"
     ]
    },
    {
     "name": "stdout",
     "output_type": "stream",
     "text": [
      "Digital Signal Processing has homepage_url and type journal\n"
     ]
    },
    {
     "name": "stderr",
     "output_type": "stream",
     "text": [
      " 70%|████████████████████████████████████████████████▋                     | 754/1083 [05:52<02:38,  2.08it/s]"
     ]
    },
    {
     "name": "stdout",
     "output_type": "stream",
     "text": [
      "Pattern Recognition has homepage_url and type journal\n"
     ]
    },
    {
     "name": "stderr",
     "output_type": "stream",
     "text": [
      " 70%|████████████████████████████████████████████████▊                     | 755/1083 [05:53<02:40,  2.04it/s]"
     ]
    },
    {
     "name": "stdout",
     "output_type": "stream",
     "text": [
      "Information Sciences has homepage_url and type journal\n"
     ]
    },
    {
     "name": "stderr",
     "output_type": "stream",
     "text": [
      " 70%|████████████████████████████████████████████████▊                     | 756/1083 [05:53<02:40,  2.03it/s]"
     ]
    },
    {
     "name": "stdout",
     "output_type": "stream",
     "text": [
      "IEEE Journal of Oceanic Engineering has homepage_url and type journal\n"
     ]
    },
    {
     "name": "stderr",
     "output_type": "stream",
     "text": [
      " 70%|████████████████████████████████████████████████▉                     | 757/1083 [05:54<02:33,  2.12it/s]"
     ]
    },
    {
     "name": "stdout",
     "output_type": "stream",
     "text": [
      "Iet Radar Sonar and Navigation has homepage_url and type journal\n"
     ]
    },
    {
     "name": "stderr",
     "output_type": "stream",
     "text": [
      " 70%|████████████████████████████████████████████████▉                     | 758/1083 [05:54<02:26,  2.22it/s]"
     ]
    },
    {
     "name": "stdout",
     "output_type": "stream",
     "text": [
      "IEEE Transactions on Circuits and Systems for Video Technology has homepage_url and type journal\n"
     ]
    },
    {
     "name": "stderr",
     "output_type": "stream",
     "text": [
      " 70%|█████████████████████████████████████████████████                     | 759/1083 [05:54<02:25,  2.23it/s]"
     ]
    },
    {
     "name": "stdout",
     "output_type": "stream",
     "text": [
      "Journal of Applied Remote Sensing has homepage_url and type journal\n"
     ]
    },
    {
     "name": "stderr",
     "output_type": "stream",
     "text": [
      " 70%|█████████████████████████████████████████████████                     | 760/1083 [05:55<02:32,  2.12it/s]"
     ]
    },
    {
     "name": "stdout",
     "output_type": "stream",
     "text": [
      "Optical Engineering has homepage_url and type journal\n"
     ]
    },
    {
     "name": "stderr",
     "output_type": "stream",
     "text": [
      " 70%|█████████████████████████████████████████████████▏                    | 761/1083 [05:55<02:35,  2.07it/s]"
     ]
    },
    {
     "name": "stdout",
     "output_type": "stream",
     "text": [
      "Scientific Programming has homepage_url and type journal\n"
     ]
    },
    {
     "name": "stderr",
     "output_type": "stream",
     "text": [
      " 70%|█████████████████████████████████████████████████▎                    | 762/1083 [05:56<02:32,  2.11it/s]"
     ]
    },
    {
     "name": "stdout",
     "output_type": "stream",
     "text": [
      "Computer Communications has homepage_url and type journal\n"
     ]
    },
    {
     "name": "stderr",
     "output_type": "stream",
     "text": [
      " 70%|█████████████████████████████████████████████████▎                    | 763/1083 [05:56<02:29,  2.14it/s]"
     ]
    },
    {
     "name": "stdout",
     "output_type": "stream",
     "text": [
      "International Journal of Antennas and Propagation has homepage_url and type journal\n"
     ]
    },
    {
     "name": "stderr",
     "output_type": "stream",
     "text": [
      " 71%|█████████████████████████████████████████████████▌                    | 766/1083 [05:58<02:17,  2.30it/s]"
     ]
    },
    {
     "name": "stdout",
     "output_type": "stream",
     "text": [
      "Integrated Ferroelectrics has homepage_url and type journal\n"
     ]
    },
    {
     "name": "stderr",
     "output_type": "stream",
     "text": [
      " 71%|█████████████████████████████████████████████████▋                    | 768/1083 [05:58<02:17,  2.30it/s]"
     ]
    },
    {
     "name": "stdout",
     "output_type": "stream",
     "text": [
      "Journal of Electronic Imaging has homepage_url and type journal\n"
     ]
    },
    {
     "name": "stderr",
     "output_type": "stream",
     "text": [
      " 71%|█████████████████████████████████████████████████▉                    | 773/1083 [06:01<02:27,  2.09it/s]"
     ]
    },
    {
     "name": "stdout",
     "output_type": "stream",
     "text": [
      "International Journal of Optics has homepage_url and type journal\n"
     ]
    },
    {
     "name": "stderr",
     "output_type": "stream",
     "text": [
      " 71%|██████████████████████████████████████████████████                    | 774/1083 [06:01<02:22,  2.17it/s]"
     ]
    },
    {
     "name": "stdout",
     "output_type": "stream",
     "text": [
      "Isprs Journal of Photogrammetry and Remote Sensing has homepage_url and type journal\n"
     ]
    },
    {
     "name": "stderr",
     "output_type": "stream",
     "text": [
      " 72%|██████████████████████████████████████████████████                    | 775/1083 [06:02<02:19,  2.21it/s]"
     ]
    },
    {
     "name": "stdout",
     "output_type": "stream",
     "text": [
      "Ecological Informatics has homepage_url and type journal\n"
     ]
    },
    {
     "name": "stderr",
     "output_type": "stream",
     "text": [
      " 72%|██████████████████████████████████████████████████▏                   | 776/1083 [06:02<02:16,  2.25it/s]"
     ]
    },
    {
     "name": "stdout",
     "output_type": "stream",
     "text": [
      "AEU - International Journal of Electronics and Communications has homepage_url and type journal\n"
     ]
    },
    {
     "name": "stderr",
     "output_type": "stream",
     "text": [
      " 72%|██████████████████████████████████████████████████▎                   | 779/1083 [06:03<02:11,  2.31it/s]"
     ]
    },
    {
     "name": "stdout",
     "output_type": "stream",
     "text": [
      "Proceedings of Meetings on Acoustics has homepage_url and type journal\n"
     ]
    },
    {
     "name": "stderr",
     "output_type": "stream",
     "text": [
      " 73%|███████████████████████████████████████████████████▏                  | 791/1083 [06:09<02:08,  2.28it/s]"
     ]
    },
    {
     "name": "stdout",
     "output_type": "stream",
     "text": [
      "Journal of Interdisciplinary Mathematics has homepage_url and type journal\n"
     ]
    },
    {
     "name": "stderr",
     "output_type": "stream",
     "text": [
      " 73%|███████████████████████████████████████████████████▏                  | 792/1083 [06:09<02:13,  2.17it/s]"
     ]
    },
    {
     "name": "stdout",
     "output_type": "stream",
     "text": [
      "Iraqi journal of science has homepage_url and type journal\n"
     ]
    },
    {
     "name": "stderr",
     "output_type": "stream",
     "text": [
      " 73%|███████████████████████████████████████████████████▎                  | 793/1083 [06:10<02:11,  2.20it/s]"
     ]
    },
    {
     "name": "stdout",
     "output_type": "stream",
     "text": [
      "Wireless Communications and Mobile Computing has homepage_url and type journal\n"
     ]
    },
    {
     "name": "stderr",
     "output_type": "stream",
     "text": [
      " 73%|███████████████████████████████████████████████████▎                  | 794/1083 [06:10<02:25,  1.99it/s]"
     ]
    },
    {
     "name": "stdout",
     "output_type": "stream",
     "text": [
      "Journal of Mathematics has homepage_url and type journal\n"
     ]
    },
    {
     "name": "stderr",
     "output_type": "stream",
     "text": [
      " 73%|███████████████████████████████████████████████████▍                  | 796/1083 [06:11<02:18,  2.07it/s]"
     ]
    },
    {
     "name": "stdout",
     "output_type": "stream",
     "text": [
      "International journal of cloud computing has homepage_url and type journal\n"
     ]
    },
    {
     "name": "stderr",
     "output_type": "stream",
     "text": [
      " 74%|███████████████████████████████████████████████████▉                  | 803/1083 [06:15<02:12,  2.11it/s]"
     ]
    },
    {
     "name": "stdout",
     "output_type": "stream",
     "text": [
      "Cybernetics and Information Technologies has homepage_url and type journal\n"
     ]
    },
    {
     "name": "stderr",
     "output_type": "stream",
     "text": [
      " 74%|████████████████████████████████████████████████████                  | 806/1083 [06:16<02:06,  2.20it/s]"
     ]
    },
    {
     "name": "stdout",
     "output_type": "stream",
     "text": [
      "IEEE journal on multiscale and multiphysics computational techniques has homepage_url and type journal\n"
     ]
    },
    {
     "name": "stderr",
     "output_type": "stream",
     "text": [
      " 75%|████████████████████████████████████████████████████▎                 | 809/1083 [06:17<02:02,  2.24it/s]"
     ]
    },
    {
     "name": "stdout",
     "output_type": "stream",
     "text": [
      "Applied Computational Electromagnetics Society Journal has homepage_url and type journal\n"
     ]
    },
    {
     "name": "stderr",
     "output_type": "stream",
     "text": [
      " 75%|████████████████████████████████████████████████████▍                 | 812/1083 [06:19<02:02,  2.22it/s]"
     ]
    },
    {
     "name": "stdout",
     "output_type": "stream",
     "text": [
      "IET Biometrics has homepage_url and type journal\n"
     ]
    },
    {
     "name": "stderr",
     "output_type": "stream",
     "text": [
      " 76%|█████████████████████████████████████████████████████                 | 820/1083 [06:23<02:17,  1.92it/s]"
     ]
    },
    {
     "name": "stdout",
     "output_type": "stream",
     "text": [
      "Advances in multimedia has homepage_url and type journal\n"
     ]
    },
    {
     "name": "stderr",
     "output_type": "stream",
     "text": [
      " 76%|█████████████████████████████████████████████████████▏                | 823/1083 [06:24<02:24,  1.80it/s]"
     ]
    },
    {
     "name": "stdout",
     "output_type": "stream",
     "text": [
      "International Journal of Information and Communication Technology has homepage_url and type journal\n"
     ]
    },
    {
     "name": "stderr",
     "output_type": "stream",
     "text": [
      " 76%|█████████████████████████████████████████████████████▍                | 827/1083 [06:26<02:02,  2.09it/s]"
     ]
    },
    {
     "name": "stdout",
     "output_type": "stream",
     "text": [
      "Security and Communication Networks has homepage_url and type journal\n"
     ]
    },
    {
     "name": "stderr",
     "output_type": "stream",
     "text": [
      " 77%|█████████████████████████████████████████████████████▋                | 831/1083 [06:28<01:54,  2.21it/s]"
     ]
    },
    {
     "name": "stdout",
     "output_type": "stream",
     "text": [
      "Artificial Intelligence and Applications has homepage_url and type journal\n"
     ]
    },
    {
     "name": "stderr",
     "output_type": "stream",
     "text": [
      " 77%|██████████████████████████████████████████████████████                | 836/1083 [06:30<01:59,  2.07it/s]"
     ]
    },
    {
     "name": "stdout",
     "output_type": "stream",
     "text": [
      "Springer optimization and its applications has homepage_url and type book series\n"
     ]
    },
    {
     "name": "stderr",
     "output_type": "stream",
     "text": [
      " 77%|██████████████████████████████████████████████████████                | 837/1083 [06:31<01:56,  2.11it/s]"
     ]
    },
    {
     "name": "stdout",
     "output_type": "stream",
     "text": [
      "IEICE Transactions on Electronics has homepage_url and type journal\n"
     ]
    },
    {
     "name": "stderr",
     "output_type": "stream",
     "text": [
      " 77%|██████████████████████████████████████████████████████▏               | 838/1083 [06:31<01:55,  2.12it/s]"
     ]
    },
    {
     "name": "stdout",
     "output_type": "stream",
     "text": [
      "Applied Artificial Intelligence has homepage_url and type journal\n"
     ]
    },
    {
     "name": "stderr",
     "output_type": "stream",
     "text": [
      " 77%|██████████████████████████████████████████████████████▏               | 839/1083 [06:32<01:55,  2.11it/s]"
     ]
    },
    {
     "name": "stdout",
     "output_type": "stream",
     "text": [
      "IEEE journal on miniaturization for air and space systems has homepage_url and type journal\n"
     ]
    },
    {
     "name": "stderr",
     "output_type": "stream",
     "text": [
      " 78%|██████████████████████████████████████████████████████▎               | 840/1083 [06:32<01:51,  2.19it/s]"
     ]
    },
    {
     "name": "stdout",
     "output_type": "stream",
     "text": [
      "Third World Quarterly has homepage_url and type journal\n"
     ]
    },
    {
     "name": "stderr",
     "output_type": "stream",
     "text": [
      " 78%|██████████████████████████████████████████████████████▎               | 841/1083 [06:33<01:50,  2.19it/s]"
     ]
    },
    {
     "name": "stdout",
     "output_type": "stream",
     "text": [
      "Bulletin of the atomic scientists has homepage_url and type journal\n"
     ]
    },
    {
     "name": "stderr",
     "output_type": "stream",
     "text": [
      " 78%|██████████████████████████████████████████████████████▍               | 842/1083 [06:33<01:48,  2.23it/s]"
     ]
    },
    {
     "name": "stdout",
     "output_type": "stream",
     "text": [
      "Contemporary Security Policy has homepage_url and type journal\n"
     ]
    },
    {
     "name": "stderr",
     "output_type": "stream",
     "text": [
      " 78%|██████████████████████████████████████████████████████▍               | 843/1083 [06:33<01:48,  2.20it/s]"
     ]
    },
    {
     "name": "stdout",
     "output_type": "stream",
     "text": [
      "Thin-walled Structures has homepage_url and type journal\n"
     ]
    },
    {
     "name": "stderr",
     "output_type": "stream",
     "text": [
      " 78%|██████████████████████████████████████████████████████▌               | 844/1083 [06:34<01:51,  2.14it/s]"
     ]
    },
    {
     "name": "stdout",
     "output_type": "stream",
     "text": [
      "Space Policy has homepage_url and type journal\n"
     ]
    },
    {
     "name": "stderr",
     "output_type": "stream",
     "text": [
      " 78%|██████████████████████████████████████████████████████▌               | 845/1083 [06:34<01:51,  2.13it/s]"
     ]
    },
    {
     "name": "stdout",
     "output_type": "stream",
     "text": [
      "Middle East Policy has homepage_url and type journal\n"
     ]
    },
    {
     "name": "stderr",
     "output_type": "stream",
     "text": [
      " 78%|██████████████████████████████████████████████████████▋               | 847/1083 [06:36<02:08,  1.84it/s]"
     ]
    },
    {
     "name": "stdout",
     "output_type": "stream",
     "text": [
      "Advances in Space Research has homepage_url and type journal\n"
     ]
    },
    {
     "name": "stderr",
     "output_type": "stream",
     "text": [
      " 78%|██████████████████████████████████████████████████████▊               | 848/1083 [06:36<02:00,  1.95it/s]"
     ]
    },
    {
     "name": "stdout",
     "output_type": "stream",
     "text": [
      "Comparative Strategy has homepage_url and type journal\n"
     ]
    },
    {
     "name": "stderr",
     "output_type": "stream",
     "text": [
      " 78%|██████████████████████████████████████████████████████▉               | 850/1083 [06:37<01:55,  2.02it/s]"
     ]
    },
    {
     "name": "stdout",
     "output_type": "stream",
     "text": [
      "Astropolitics has homepage_url and type journal\n"
     ]
    },
    {
     "name": "stderr",
     "output_type": "stream",
     "text": [
      " 79%|███████████████████████████████████████████████████████               | 851/1083 [06:38<02:12,  1.75it/s]"
     ]
    },
    {
     "name": "stdout",
     "output_type": "stream",
     "text": [
      "International Journal of Impact Engineering has homepage_url and type journal\n"
     ]
    },
    {
     "name": "stderr",
     "output_type": "stream",
     "text": [
      " 79%|███████████████████████████████████████████████████████▏              | 853/1083 [06:39<02:09,  1.78it/s]"
     ]
    },
    {
     "name": "stdout",
     "output_type": "stream",
     "text": [
      "Omega has homepage_url and type journal\n"
     ]
    },
    {
     "name": "stderr",
     "output_type": "stream",
     "text": [
      " 79%|███████████████████████████████████████████████████████▏              | 854/1083 [06:39<02:00,  1.90it/s]"
     ]
    },
    {
     "name": "stdout",
     "output_type": "stream",
     "text": [
      "Journal for peace and nuclear disarmament has homepage_url and type journal\n"
     ]
    },
    {
     "name": "stderr",
     "output_type": "stream",
     "text": [
      " 79%|███████████████████████████████████████████████████████▎              | 856/1083 [06:40<01:57,  1.94it/s]"
     ]
    },
    {
     "name": "stdout",
     "output_type": "stream",
     "text": [
      "The Physics Teacher has homepage_url and type journal\n"
     ]
    },
    {
     "name": "stderr",
     "output_type": "stream",
     "text": [
      " 79%|███████████████████████████████████████████████████████▍              | 857/1083 [06:41<02:04,  1.82it/s]"
     ]
    },
    {
     "name": "stdout",
     "output_type": "stream",
     "text": [
      "Health security has homepage_url and type journal\n"
     ]
    },
    {
     "name": "stderr",
     "output_type": "stream",
     "text": [
      " 79%|███████████████████████████████████████████████████████▍              | 858/1083 [06:41<01:57,  1.91it/s]"
     ]
    },
    {
     "name": "stdout",
     "output_type": "stream",
     "text": [
      "Water Resources Research has homepage_url and type journal\n"
     ]
    },
    {
     "name": "stderr",
     "output_type": "stream",
     "text": [
      " 79%|███████████████████████████████████████████████████████▌              | 859/1083 [06:42<01:51,  2.01it/s]"
     ]
    },
    {
     "name": "stdout",
     "output_type": "stream",
     "text": [
      "Vestnik MGIMO-universiteta has homepage_url and type journal\n"
     ]
    },
    {
     "name": "stderr",
     "output_type": "stream",
     "text": [
      " 80%|███████████████████████████████████████████████████████▋              | 861/1083 [06:43<01:51,  1.99it/s]"
     ]
    },
    {
     "name": "stdout",
     "output_type": "stream",
     "text": [
      "Security Dialogue has homepage_url and type journal\n"
     ]
    },
    {
     "name": "stderr",
     "output_type": "stream",
     "text": [
      " 80%|███████████████████████████████████████████████████████▋              | 862/1083 [06:43<01:48,  2.04it/s]"
     ]
    },
    {
     "name": "stdout",
     "output_type": "stream",
     "text": [
      "Celestial Mechanics and Dynamical Astronomy has homepage_url and type journal\n"
     ]
    },
    {
     "name": "stderr",
     "output_type": "stream",
     "text": [
      " 80%|███████████████████████████████████████████████████████▊              | 863/1083 [06:44<01:48,  2.03it/s]"
     ]
    },
    {
     "name": "stdout",
     "output_type": "stream",
     "text": [
      "Історія науки і техніки has homepage_url and type journal\n"
     ]
    },
    {
     "name": "stderr",
     "output_type": "stream",
     "text": [
      " 80%|███████████████████████████████████████████████████████▊              | 864/1083 [06:44<01:47,  2.03it/s]"
     ]
    },
    {
     "name": "stdout",
     "output_type": "stream",
     "text": [
      "Journal of Slavic Military Studies has homepage_url and type journal\n"
     ]
    },
    {
     "name": "stderr",
     "output_type": "stream",
     "text": [
      " 80%|███████████████████████████████████████████████████████▉              | 865/1083 [06:45<01:47,  2.03it/s]"
     ]
    },
    {
     "name": "stdout",
     "output_type": "stream",
     "text": [
      "Historia i Polityka has homepage_url and type journal\n"
     ]
    },
    {
     "name": "stderr",
     "output_type": "stream",
     "text": [
      " 80%|███████████████████████████████████████████████████████▉              | 866/1083 [06:45<01:53,  1.91it/s]"
     ]
    },
    {
     "name": "stdout",
     "output_type": "stream",
     "text": [
      "Politeja has homepage_url and type journal\n"
     ]
    },
    {
     "name": "stderr",
     "output_type": "stream",
     "text": [
      " 80%|████████████████████████████████████████████████████████              | 867/1083 [06:46<02:04,  1.74it/s]"
     ]
    },
    {
     "name": "stdout",
     "output_type": "stream",
     "text": [
      "International Journal has homepage_url and type journal\n"
     ]
    },
    {
     "name": "stderr",
     "output_type": "stream",
     "text": [
      " 80%|████████████████████████████████████████████████████████              | 868/1083 [06:47<01:55,  1.86it/s]"
     ]
    },
    {
     "name": "stdout",
     "output_type": "stream",
     "text": [
      "Astrodynamics has homepage_url and type journal\n"
     ]
    },
    {
     "name": "stderr",
     "output_type": "stream",
     "text": [
      " 80%|████████████████████████████████████████████████████████▏             | 869/1083 [06:47<01:53,  1.89it/s]"
     ]
    },
    {
     "name": "stdout",
     "output_type": "stream",
     "text": [
      "Journal of Peace Research has homepage_url and type journal\n"
     ]
    },
    {
     "name": "stderr",
     "output_type": "stream",
     "text": [
      " 81%|████████████████████████████████████████████████████████▍             | 873/1083 [06:49<02:00,  1.75it/s]"
     ]
    },
    {
     "name": "stdout",
     "output_type": "stream",
     "text": [
      "Journal of Aerospace Technology and Management has homepage_url and type journal\n"
     ]
    },
    {
     "name": "stderr",
     "output_type": "stream",
     "text": [
      " 81%|████████████████████████████████████████████████████████▍             | 874/1083 [06:50<01:51,  1.87it/s]"
     ]
    },
    {
     "name": "stdout",
     "output_type": "stream",
     "text": [
      "Physics Today has homepage_url and type journal\n"
     ]
    },
    {
     "name": "stderr",
     "output_type": "stream",
     "text": [
      " 81%|████████████████████████████████████████████████████████▌             | 875/1083 [06:50<01:54,  1.82it/s]"
     ]
    },
    {
     "name": "stdout",
     "output_type": "stream",
     "text": [
      "Australian journal of maritime and ocean affairs has homepage_url and type journal\n"
     ]
    },
    {
     "name": "stderr",
     "output_type": "stream",
     "text": [
      " 81%|████████████████████████████████████████████████████████▋             | 877/1083 [06:51<01:43,  1.98it/s]"
     ]
    },
    {
     "name": "stdout",
     "output_type": "stream",
     "text": [
      "Modern approaches in solid earth sciences has homepage_url and type book series\n"
     ]
    },
    {
     "name": "stderr",
     "output_type": "stream",
     "text": [
      " 81%|████████████████████████████████████████████████████████▋             | 878/1083 [06:52<01:39,  2.07it/s]"
     ]
    },
    {
     "name": "stdout",
     "output_type": "stream",
     "text": [
      "Journal of Military and Strategic Studies has homepage_url and type journal\n"
     ]
    },
    {
     "name": "stderr",
     "output_type": "stream",
     "text": [
      " 81%|████████████████████████████████████████████████████████▊             | 879/1083 [06:52<01:37,  2.09it/s]"
     ]
    },
    {
     "name": "stdout",
     "output_type": "stream",
     "text": [
      "Revista Historia Autónoma has homepage_url and type journal\n"
     ]
    },
    {
     "name": "stderr",
     "output_type": "stream",
     "text": [
      " 81%|████████████████████████████████████████████████████████▉             | 881/1083 [06:53<01:31,  2.20it/s]"
     ]
    },
    {
     "name": "stdout",
     "output_type": "stream",
     "text": [
      "Global: Jurnal Politik Internasional has homepage_url and type journal\n"
     ]
    },
    {
     "name": "stderr",
     "output_type": "stream",
     "text": [
      " 82%|█████████████████████████████████████████████████████████▏            | 884/1083 [06:54<01:30,  2.20it/s]"
     ]
    },
    {
     "name": "stdout",
     "output_type": "stream",
     "text": [
      "Scientific Bulletin has homepage_url and type journal\n"
     ]
    },
    {
     "name": "stderr",
     "output_type": "stream",
     "text": [
      " 82%|█████████████████████████████████████████████████████████▎            | 886/1083 [06:56<01:38,  1.99it/s]"
     ]
    },
    {
     "name": "stdout",
     "output_type": "stream",
     "text": [
      "IEEE Industrial Electronics Magazine has homepage_url and type journal\n"
     ]
    },
    {
     "name": "stderr",
     "output_type": "stream",
     "text": [
      " 82%|█████████████████████████████████████████████████████████▌            | 890/1083 [06:57<01:27,  2.19it/s]"
     ]
    },
    {
     "name": "stdout",
     "output_type": "stream",
     "text": [
      "International History Review has homepage_url and type journal\n"
     ]
    },
    {
     "name": "stderr",
     "output_type": "stream",
     "text": [
      " 82%|█████████████████████████████████████████████████████████▋            | 892/1083 [06:58<01:28,  2.15it/s]"
     ]
    },
    {
     "name": "stdout",
     "output_type": "stream",
     "text": [
      "Россия и Америка вXXI веке has homepage_url and type journal\n"
     ]
    },
    {
     "name": "stderr",
     "output_type": "stream",
     "text": [
      " 83%|█████████████████████████████████████████████████████████▊            | 894/1083 [06:59<01:25,  2.21it/s]"
     ]
    },
    {
     "name": "stdout",
     "output_type": "stream",
     "text": [
      "Dinamika global  jurnal ilmu hubungan internasional has homepage_url and type journal\n"
     ]
    },
    {
     "name": "stderr",
     "output_type": "stream",
     "text": [
      " 83%|█████████████████████████████████████████████████████████▊            | 895/1083 [07:00<01:24,  2.23it/s]"
     ]
    },
    {
     "name": "stdout",
     "output_type": "stream",
     "text": [
      "Meždunarodnaâ analitika has homepage_url and type journal\n"
     ]
    },
    {
     "name": "stderr",
     "output_type": "stream",
     "text": [
      " 83%|█████████████████████████████████████████████████████████▉            | 896/1083 [07:00<01:32,  2.02it/s]"
     ]
    },
    {
     "name": "stdout",
     "output_type": "stream",
     "text": [
      "International Affairs has homepage_url and type journal\n"
     ]
    },
    {
     "name": "stderr",
     "output_type": "stream",
     "text": [
      " 83%|█████████████████████████████████████████████████████████▉            | 897/1083 [07:01<01:30,  2.05it/s]"
     ]
    },
    {
     "name": "stdout",
     "output_type": "stream",
     "text": [
      "International Journal of Multicultural and Multireligious Understanding has homepage_url and type journal\n"
     ]
    },
    {
     "name": "stderr",
     "output_type": "stream",
     "text": [
      " 83%|██████████████████████████████████████████████████████████            | 898/1083 [07:01<01:28,  2.09it/s]"
     ]
    },
    {
     "name": "stdout",
     "output_type": "stream",
     "text": [
      "Journal of South Asian Studies has homepage_url and type journal\n"
     ]
    },
    {
     "name": "stderr",
     "output_type": "stream",
     "text": [
      " 83%|██████████████████████████████████████████████████████████            | 899/1083 [07:02<01:28,  2.08it/s]"
     ]
    },
    {
     "name": "stdout",
     "output_type": "stream",
     "text": [
      "Journal of Strategic Studies has homepage_url and type journal\n"
     ]
    },
    {
     "name": "stderr",
     "output_type": "stream",
     "text": [
      " 83%|██████████████████████████████████████████████████████████▏           | 900/1083 [07:02<01:24,  2.18it/s]"
     ]
    },
    {
     "name": "stdout",
     "output_type": "stream",
     "text": [
      "Ante Portas has homepage_url and type journal\n"
     ]
    },
    {
     "name": "stderr",
     "output_type": "stream",
     "text": [
      " 83%|██████████████████████████████████████████████████████████▏           | 901/1083 [07:02<01:22,  2.21it/s]"
     ]
    },
    {
     "name": "stdout",
     "output_type": "stream",
     "text": [
      "Strategic Comments has homepage_url and type journal\n"
     ]
    },
    {
     "name": "stderr",
     "output_type": "stream",
     "text": [
      " 83%|██████████████████████████████████████████████████████████▎           | 902/1083 [07:03<01:20,  2.24it/s]"
     ]
    },
    {
     "name": "stdout",
     "output_type": "stream",
     "text": [
      "Western Historical Quarterly has homepage_url and type journal\n"
     ]
    },
    {
     "name": "stderr",
     "output_type": "stream",
     "text": [
      " 83%|██████████████████████████████████████████████████████████▎           | 903/1083 [07:03<01:22,  2.18it/s]"
     ]
    },
    {
     "name": "stdout",
     "output_type": "stream",
     "text": [
      "Scientific Journal of the Military University of Land Forces has homepage_url and type journal\n"
     ]
    },
    {
     "name": "stderr",
     "output_type": "stream",
     "text": [
      " 83%|██████████████████████████████████████████████████████████▍           | 904/1083 [07:04<01:23,  2.15it/s]"
     ]
    },
    {
     "name": "stdout",
     "output_type": "stream",
     "text": [
      "The Journal of American History has homepage_url and type journal\n"
     ]
    },
    {
     "name": "stderr",
     "output_type": "stream",
     "text": [
      " 84%|██████████████████████████████████████████████████████████▌           | 906/1083 [07:05<01:25,  2.08it/s]"
     ]
    },
    {
     "name": "stdout",
     "output_type": "stream",
     "text": [
      "Journal of Contemporary Studies has homepage_url and type journal\n"
     ]
    },
    {
     "name": "stderr",
     "output_type": "stream",
     "text": [
      " 84%|██████████████████████████████████████████████████████████▋           | 908/1083 [07:06<01:23,  2.11it/s]"
     ]
    },
    {
     "name": "stdout",
     "output_type": "stream",
     "text": [
      "Интеллектуальные системы в производстве has homepage_url and type journal\n"
     ]
    },
    {
     "name": "stderr",
     "output_type": "stream",
     "text": [
      " 84%|██████████████████████████████████████████████████████████▊           | 910/1083 [07:07<01:18,  2.21it/s]"
     ]
    },
    {
     "name": "stdout",
     "output_type": "stream",
     "text": [
      "National security journal has homepage_url and type journal\n"
     ]
    },
    {
     "name": "stderr",
     "output_type": "stream",
     "text": [
      " 84%|██████████████████████████████████████████████████████████▉           | 912/1083 [07:08<01:24,  2.01it/s]"
     ]
    },
    {
     "name": "stdout",
     "output_type": "stream",
     "text": [
      "Journal of Space Safety Engineering has homepage_url and type journal\n"
     ]
    },
    {
     "name": "stderr",
     "output_type": "stream",
     "text": [
      " 84%|███████████████████████████████████████████████████████████           | 913/1083 [07:08<01:23,  2.05it/s]"
     ]
    },
    {
     "name": "stdout",
     "output_type": "stream",
     "text": [
      "Strategic Analysis has homepage_url and type journal\n"
     ]
    },
    {
     "name": "stderr",
     "output_type": "stream",
     "text": [
      " 84%|███████████████████████████████████████████████████████████           | 914/1083 [07:09<01:20,  2.10it/s]"
     ]
    },
    {
     "name": "stdout",
     "output_type": "stream",
     "text": [
      "Глобальная ядерная безопасность has homepage_url and type journal\n"
     ]
    },
    {
     "name": "stderr",
     "output_type": "stream",
     "text": [
      " 85%|███████████████████████████████████████████████████████████▏          | 916/1083 [07:10<01:16,  2.18it/s]"
     ]
    },
    {
     "name": "stdout",
     "output_type": "stream",
     "text": [
      "Journal of Education on Social Science has homepage_url and type journal\n"
     ]
    },
    {
     "name": "stderr",
     "output_type": "stream",
     "text": [
      " 85%|███████████████████████████████████████████████████████████▎          | 917/1083 [07:10<01:20,  2.06it/s]"
     ]
    },
    {
     "name": "stdout",
     "output_type": "stream",
     "text": [
      "Studia Historiae Scientiarum has homepage_url and type journal\n"
     ]
    },
    {
     "name": "stderr",
     "output_type": "stream",
     "text": [
      " 85%|███████████████████████████████████████████████████████████▎          | 918/1083 [07:11<01:17,  2.14it/s]"
     ]
    },
    {
     "name": "stdout",
     "output_type": "stream",
     "text": [
      "Herald of the Russian Academy of Sciences has homepage_url and type journal\n"
     ]
    },
    {
     "name": "stderr",
     "output_type": "stream",
     "text": [
      " 85%|███████████████████████████████████████████████████████████▍          | 920/1083 [07:12<01:18,  2.07it/s]"
     ]
    },
    {
     "name": "stdout",
     "output_type": "stream",
     "text": [
      "Pacific Focus has homepage_url and type journal\n"
     ]
    },
    {
     "name": "stderr",
     "output_type": "stream",
     "text": [
      " 85%|███████████████████████████████████████████████████████████▌          | 922/1083 [07:13<01:19,  2.02it/s]"
     ]
    },
    {
     "name": "stdout",
     "output_type": "stream",
     "text": [
      "Scandinavian Journal of Military Studies has homepage_url and type journal\n"
     ]
    },
    {
     "name": "stderr",
     "output_type": "stream",
     "text": [
      " 85%|███████████████████████████████████████████████████████████▊          | 925/1083 [07:14<01:19,  1.98it/s]"
     ]
    },
    {
     "name": "stdout",
     "output_type": "stream",
     "text": [
      "مجلة تكريت للعلوم السياسية has homepage_url and type journal\n"
     ]
    },
    {
     "name": "stderr",
     "output_type": "stream",
     "text": [
      " 86%|███████████████████████████████████████████████████████████▉          | 927/1083 [07:15<01:17,  2.02it/s]"
     ]
    },
    {
     "name": "stdout",
     "output_type": "stream",
     "text": [
      "Springer proceedings in physics has homepage_url and type book series\n"
     ]
    },
    {
     "name": "stderr",
     "output_type": "stream",
     "text": [
      " 86%|████████████████████████████████████████████████████████████          | 930/1083 [07:16<01:13,  2.10it/s]"
     ]
    },
    {
     "name": "stdout",
     "output_type": "stream",
     "text": [
      "Digest of Middle East Studies has homepage_url and type journal\n"
     ]
    },
    {
     "name": "stderr",
     "output_type": "stream",
     "text": [
      " 86%|████████████████████████████████████████████████████████████▏         | 931/1083 [07:17<01:25,  1.79it/s]"
     ]
    },
    {
     "name": "stdout",
     "output_type": "stream",
     "text": [
      "Science has homepage_url and type journal\n"
     ]
    },
    {
     "name": "stderr",
     "output_type": "stream",
     "text": [
      " 86%|████████████████████████████████████████████████████████████▏         | 932/1083 [07:18<01:21,  1.86it/s]"
     ]
    },
    {
     "name": "stdout",
     "output_type": "stream",
     "text": [
      "Journal of Applied Crystallography has homepage_url and type journal\n"
     ]
    },
    {
     "name": "stderr",
     "output_type": "stream",
     "text": [
      " 86%|████████████████████████████████████████████████████████████▎         | 933/1083 [07:18<01:16,  1.96it/s]"
     ]
    },
    {
     "name": "stdout",
     "output_type": "stream",
     "text": [
      "Journal of Synchrotron Radiation has homepage_url and type journal\n"
     ]
    },
    {
     "name": "stderr",
     "output_type": "stream",
     "text": [
      " 86%|████████████████████████████████████████████████████████████▎         | 934/1083 [07:19<01:16,  1.94it/s]"
     ]
    },
    {
     "name": "stdout",
     "output_type": "stream",
     "text": [
      "European Physical Journal Plus has homepage_url and type journal\n"
     ]
    },
    {
     "name": "stderr",
     "output_type": "stream",
     "text": [
      " 86%|████████████████████████████████████████████████████████████▍         | 935/1083 [07:19<01:16,  1.93it/s]"
     ]
    },
    {
     "name": "stdout",
     "output_type": "stream",
     "text": [
      "Applied Radiation and Isotopes has homepage_url and type journal\n"
     ]
    },
    {
     "name": "stderr",
     "output_type": "stream",
     "text": [
      " 87%|████████████████████████████████████████████████████████████▌         | 937/1083 [07:20<01:21,  1.80it/s]"
     ]
    },
    {
     "name": "stdout",
     "output_type": "stream",
     "text": [
      "Monthly Notices of the Royal Astronomical Society has homepage_url and type journal\n"
     ]
    },
    {
     "name": "stderr",
     "output_type": "stream",
     "text": [
      " 87%|████████████████████████████████████████████████████████████▋         | 938/1083 [07:21<01:17,  1.86it/s]"
     ]
    },
    {
     "name": "stdout",
     "output_type": "stream",
     "text": [
      "Physica Status Solidi B-basic Solid State Physics has homepage_url and type journal\n"
     ]
    },
    {
     "name": "stderr",
     "output_type": "stream",
     "text": [
      " 87%|████████████████████████████████████████████████████████████▋         | 939/1083 [07:21<01:13,  1.95it/s]"
     ]
    },
    {
     "name": "stdout",
     "output_type": "stream",
     "text": [
      "Zeitschrift für Physikalische Chemie has homepage_url and type journal\n"
     ]
    },
    {
     "name": "stderr",
     "output_type": "stream",
     "text": [
      " 87%|████████████████████████████████████████████████████████████▊         | 940/1083 [07:22<01:09,  2.05it/s]"
     ]
    },
    {
     "name": "stdout",
     "output_type": "stream",
     "text": [
      "Synchrotron Radiation News has homepage_url and type journal\n"
     ]
    },
    {
     "name": "stderr",
     "output_type": "stream",
     "text": [
      " 87%|████████████████████████████████████████████████████████████▊         | 941/1083 [07:22<01:14,  1.92it/s]"
     ]
    },
    {
     "name": "stdout",
     "output_type": "stream",
     "text": [
      "Rossijskij tehnologičeskij žurnal has homepage_url and type journal\n"
     ]
    },
    {
     "name": "stderr",
     "output_type": "stream",
     "text": [
      " 87%|████████████████████████████████████████████████████████████▉         | 942/1083 [07:23<01:14,  1.88it/s]"
     ]
    },
    {
     "name": "stdout",
     "output_type": "stream",
     "text": [
      "Physica Medica has homepage_url and type journal\n"
     ]
    },
    {
     "name": "stderr",
     "output_type": "stream",
     "text": [
      " 87%|█████████████████████████████████████████████████████████████         | 945/1083 [07:24<01:06,  2.08it/s]"
     ]
    },
    {
     "name": "stdout",
     "output_type": "stream",
     "text": [
      "Bulletin of The Russian Academy of Sciences: Physics has homepage_url and type journal\n"
     ]
    },
    {
     "name": "stderr",
     "output_type": "stream",
     "text": [
      " 87%|█████████████████████████████████████████████████████████████▏        | 946/1083 [07:25<01:04,  2.11it/s]"
     ]
    },
    {
     "name": "stdout",
     "output_type": "stream",
     "text": [
      "IEEE Transactions on Signal Processing has homepage_url and type journal\n"
     ]
    },
    {
     "name": "stderr",
     "output_type": "stream",
     "text": [
      " 87%|█████████████████████████████████████████████████████████████▏        | 947/1083 [07:25<01:07,  2.02it/s]"
     ]
    },
    {
     "name": "stdout",
     "output_type": "stream",
     "text": [
      "Iet Signal Processing has homepage_url and type journal\n"
     ]
    },
    {
     "name": "stderr",
     "output_type": "stream",
     "text": [
      " 88%|█████████████████████████████████████████████████████████████▎        | 948/1083 [07:26<01:07,  2.00it/s]"
     ]
    },
    {
     "name": "stdout",
     "output_type": "stream",
     "text": [
      "Radio Science has homepage_url and type journal\n"
     ]
    },
    {
     "name": "stderr",
     "output_type": "stream",
     "text": [
      " 88%|█████████████████████████████████████████████████████████████▍        | 950/1083 [07:27<01:02,  2.14it/s]"
     ]
    },
    {
     "name": "stdout",
     "output_type": "stream",
     "text": [
      "IEEE Open Journal of Antennas and Propagation has homepage_url and type journal\n"
     ]
    },
    {
     "name": "stderr",
     "output_type": "stream",
     "text": [
      " 88%|█████████████████████████████████████████████████████████████▍        | 951/1083 [07:27<01:00,  2.18it/s]"
     ]
    },
    {
     "name": "stdout",
     "output_type": "stream",
     "text": [
      "Entropy has homepage_url and type journal\n"
     ]
    },
    {
     "name": "stderr",
     "output_type": "stream",
     "text": [
      " 88%|█████████████████████████████████████████████████████████████▌        | 952/1083 [07:27<00:59,  2.19it/s]"
     ]
    },
    {
     "name": "stdout",
     "output_type": "stream",
     "text": [
      "IEEE Transactions on Information Forensics and Security has homepage_url and type journal\n"
     ]
    },
    {
     "name": "stderr",
     "output_type": "stream",
     "text": [
      " 88%|█████████████████████████████████████████████████████████████▋        | 955/1083 [07:29<00:59,  2.15it/s]"
     ]
    },
    {
     "name": "stdout",
     "output_type": "stream",
     "text": [
      "China Communications has homepage_url and type journal\n"
     ]
    },
    {
     "name": "stderr",
     "output_type": "stream",
     "text": [
      " 88%|█████████████████████████████████████████████████████████████▉        | 958/1083 [07:30<01:03,  1.97it/s]"
     ]
    },
    {
     "name": "stdout",
     "output_type": "stream",
     "text": [
      "International Journal of Electronics has homepage_url and type journal\n"
     ]
    },
    {
     "name": "stderr",
     "output_type": "stream",
     "text": [
      " 89%|██████████████████████████████████████████████████████████████▌       | 967/1083 [07:35<00:55,  2.10it/s]"
     ]
    },
    {
     "name": "stdout",
     "output_type": "stream",
     "text": [
      "IEEE sensors letters has homepage_url and type journal\n"
     ]
    },
    {
     "name": "stderr",
     "output_type": "stream",
     "text": [
      " 90%|███████████████████████████████████████████████████████████████       | 976/1083 [07:39<00:53,  2.01it/s]"
     ]
    },
    {
     "name": "stdout",
     "output_type": "stream",
     "text": [
      "Engineering reports has homepage_url and type journal\n"
     ]
    },
    {
     "name": "stderr",
     "output_type": "stream",
     "text": [
      " 91%|███████████████████████████████████████████████████████████████▋      | 986/1083 [07:44<00:46,  2.08it/s]"
     ]
    },
    {
     "name": "stdout",
     "output_type": "stream",
     "text": [
      "Journal of Lightwave Technology has homepage_url and type journal\n"
     ]
    },
    {
     "name": "stderr",
     "output_type": "stream",
     "text": [
      " 91%|███████████████████████████████████████████████████████████████▊      | 987/1083 [07:44<00:44,  2.16it/s]"
     ]
    },
    {
     "name": "stdout",
     "output_type": "stream",
     "text": [
      "High-Confidence Computing has homepage_url and type journal\n"
     ]
    },
    {
     "name": "stderr",
     "output_type": "stream",
     "text": [
      " 91%|███████████████████████████████████████████████████████████████▊      | 988/1083 [07:45<00:45,  2.07it/s]"
     ]
    },
    {
     "name": "stdout",
     "output_type": "stream",
     "text": [
      "Eurasip Journal on Wireless Communications and Networking has homepage_url and type journal\n"
     ]
    },
    {
     "name": "stderr",
     "output_type": "stream",
     "text": [
      " 91%|███████████████████████████████████████████████████████████████▉      | 989/1083 [07:46<00:48,  1.95it/s]"
     ]
    },
    {
     "name": "stdout",
     "output_type": "stream",
     "text": [
      "IEEE Communications Magazine has homepage_url and type journal\n"
     ]
    },
    {
     "name": "stderr",
     "output_type": "stream",
     "text": [
      " 91%|███████████████████████████████████████████████████████████████▉      | 990/1083 [07:46<00:46,  1.98it/s]"
     ]
    },
    {
     "name": "stdout",
     "output_type": "stream",
     "text": [
      "IEEE Communications Letters has homepage_url and type journal\n"
     ]
    },
    {
     "name": "stderr",
     "output_type": "stream",
     "text": [
      " 92%|████████████████████████████████████████████████████████████████      | 991/1083 [07:47<00:45,  2.02it/s]"
     ]
    },
    {
     "name": "stdout",
     "output_type": "stream",
     "text": [
      "IEEE Journal of Selected Topics in Quantum Electronics has homepage_url and type journal\n"
     ]
    },
    {
     "name": "stderr",
     "output_type": "stream",
     "text": [
      " 92%|████████████████████████████████████████████████████████████████      | 992/1083 [07:47<00:45,  2.02it/s]"
     ]
    },
    {
     "name": "stdout",
     "output_type": "stream",
     "text": [
      "IEEE Transactions on Cognitive Communications and Networking has homepage_url and type journal\n"
     ]
    },
    {
     "name": "stderr",
     "output_type": "stream",
     "text": [
      " 92%|████████████████████████████████████████████████████████████████▏     | 993/1083 [07:47<00:42,  2.10it/s]"
     ]
    },
    {
     "name": "stdout",
     "output_type": "stream",
     "text": [
      "IEEE Microwave Magazine has homepage_url and type journal\n"
     ]
    },
    {
     "name": "stderr",
     "output_type": "stream",
     "text": [
      " 92%|████████████████████████████████████████████████████████████████▏     | 994/1083 [07:48<00:42,  2.09it/s]"
     ]
    },
    {
     "name": "stdout",
     "output_type": "stream",
     "text": [
      "Transactions on Emerging Telecommunications Technologies has homepage_url and type journal\n"
     ]
    },
    {
     "name": "stderr",
     "output_type": "stream",
     "text": [
      " 92%|████████████████████████████████████████████████████████████████▎     | 995/1083 [07:48<00:41,  2.11it/s]"
     ]
    },
    {
     "name": "stdout",
     "output_type": "stream",
     "text": [
      "Physical Communication has homepage_url and type journal\n"
     ]
    },
    {
     "name": "stderr",
     "output_type": "stream",
     "text": [
      " 92%|████████████████████████████████████████████████████████████████▍     | 997/1083 [07:49<00:40,  2.15it/s]"
     ]
    },
    {
     "name": "stdout",
     "output_type": "stream",
     "text": [
      "Sadhana-academy Proceedings in Engineering Sciences has homepage_url and type journal\n"
     ]
    },
    {
     "name": "stderr",
     "output_type": "stream",
     "text": [
      " 92%|████████████████████████████████████████████████████████████████▌     | 998/1083 [07:50<00:40,  2.12it/s]"
     ]
    },
    {
     "name": "stdout",
     "output_type": "stream",
     "text": [
      "RUSI Journal has homepage_url and type journal\n"
     ]
    },
    {
     "name": "stderr",
     "output_type": "stream",
     "text": [
      " 92%|████████████████████████████████████████████████████████████████▌     | 999/1083 [07:50<00:44,  1.88it/s]"
     ]
    },
    {
     "name": "stdout",
     "output_type": "stream",
     "text": [
      "Iet Communications has homepage_url and type journal\n"
     ]
    },
    {
     "name": "stderr",
     "output_type": "stream",
     "text": [
      " 93%|███████████████████████████████████████████████████████████████▊     | 1002/1083 [07:52<00:44,  1.81it/s]"
     ]
    },
    {
     "name": "stdout",
     "output_type": "stream",
     "text": [
      "IT Professional has homepage_url and type journal\n"
     ]
    },
    {
     "name": "stderr",
     "output_type": "stream",
     "text": [
      " 93%|███████████████████████████████████████████████████████████████▉     | 1003/1083 [07:53<00:41,  1.94it/s]"
     ]
    },
    {
     "name": "stdout",
     "output_type": "stream",
     "text": [
      "AIMS electronics and electrical engineering has homepage_url and type journal\n"
     ]
    },
    {
     "name": "stderr",
     "output_type": "stream",
     "text": [
      " 93%|████████████████████████████████████████████████████████████████▏    | 1008/1083 [07:55<00:34,  2.16it/s]"
     ]
    },
    {
     "name": "stdout",
     "output_type": "stream",
     "text": [
      "선진국방연구 has homepage_url and type journal\n"
     ]
    },
    {
     "name": "stderr",
     "output_type": "stream",
     "text": [
      " 94%|████████████████████████████████████████████████████████████████▊    | 1017/1083 [08:00<00:35,  1.87it/s]"
     ]
    },
    {
     "name": "stdout",
     "output_type": "stream",
     "text": [
      "Sučasnì ìnformacìjnì sistemi has homepage_url and type journal\n"
     ]
    },
    {
     "name": "stderr",
     "output_type": "stream",
     "text": [
      " 94%|█████████████████████████████████████████████████████████████████    | 1021/1083 [08:02<00:34,  1.81it/s]"
     ]
    },
    {
     "name": "stdout",
     "output_type": "stream",
     "text": [
      "Hadmérnök has homepage_url and type journal\n"
     ]
    },
    {
     "name": "stderr",
     "output_type": "stream",
     "text": [
      " 94%|█████████████████████████████████████████████████████████████████    | 1022/1083 [08:03<00:33,  1.81it/s]"
     ]
    },
    {
     "name": "stdout",
     "output_type": "stream",
     "text": [
      "INCAS Buletin has homepage_url and type journal\n"
     ]
    },
    {
     "name": "stderr",
     "output_type": "stream",
     "text": [
      " 95%|█████████████████████████████████████████████████████████████████▎   | 1025/1083 [08:04<00:29,  1.95it/s]"
     ]
    },
    {
     "name": "stdout",
     "output_type": "stream",
     "text": [
      "Sistemi obrobki ìnformacìï has homepage_url and type journal\n"
     ]
    },
    {
     "name": "stderr",
     "output_type": "stream",
     "text": [
      " 95%|█████████████████████████████████████████████████████████████████▎   | 1026/1083 [08:05<00:30,  1.88it/s]"
     ]
    },
    {
     "name": "stdout",
     "output_type": "stream",
     "text": [
      "European journal of applied physic has homepage_url and type journal\n"
     ]
    },
    {
     "name": "stderr",
     "output_type": "stream",
     "text": [
      " 96%|█████████████████████████████████████████████████████████████████▉   | 1035/1083 [08:09<00:22,  2.10it/s]"
     ]
    },
    {
     "name": "stdout",
     "output_type": "stream",
     "text": [
      "International Journal of Numerical Modelling-electronic Networks Devices and Fields has homepage_url and type journal\n"
     ]
    },
    {
     "name": "stderr",
     "output_type": "stream",
     "text": [
      " 96%|██████████████████████████████████████████████████████████████████▏  | 1039/1083 [08:11<00:21,  2.09it/s]"
     ]
    },
    {
     "name": "stdout",
     "output_type": "stream",
     "text": [
      "IEEE Antennas and Propagation Magazine has homepage_url and type journal\n"
     ]
    },
    {
     "name": "stderr",
     "output_type": "stream",
     "text": [
      " 96%|██████████████████████████████████████████████████████████████████▎  | 1041/1083 [08:12<00:20,  2.01it/s]"
     ]
    },
    {
     "name": "stdout",
     "output_type": "stream",
     "text": [
      "European Science has homepage_url and type journal\n"
     ]
    },
    {
     "name": "stderr",
     "output_type": "stream",
     "text": [
      " 97%|██████████████████████████████████████████████████████████████████▋  | 1046/1083 [08:14<00:18,  1.99it/s]"
     ]
    },
    {
     "name": "stdout",
     "output_type": "stream",
     "text": [
      "Journal of Aerospace Engineering has homepage_url and type journal\n"
     ]
    },
    {
     "name": "stderr",
     "output_type": "stream",
     "text": [
      " 97%|██████████████████████████████████████████████████████████████████▊  | 1049/1083 [08:16<00:16,  2.04it/s]"
     ]
    },
    {
     "name": "stdout",
     "output_type": "stream",
     "text": [
      "Вестник Донского государственного технического университета has homepage_url and type journal\n"
     ]
    },
    {
     "name": "stderr",
     "output_type": "stream",
     "text": [
      " 97%|██████████████████████████████████████████████████████████████████▉  | 1051/1083 [08:17<00:16,  1.96it/s]"
     ]
    },
    {
     "name": "stdout",
     "output_type": "stream",
     "text": [
      "IEEE Systems Journal has homepage_url and type journal\n"
     ]
    },
    {
     "name": "stderr",
     "output_type": "stream",
     "text": [
      " 97%|███████████████████████████████████████████████████████████████████  | 1052/1083 [08:17<00:15,  1.94it/s]"
     ]
    },
    {
     "name": "stdout",
     "output_type": "stream",
     "text": [
      "Journal of the Operational Research Society has homepage_url and type journal\n"
     ]
    },
    {
     "name": "stderr",
     "output_type": "stream",
     "text": [
      " 97%|███████████████████████████████████████████████████████████████████  | 1053/1083 [08:18<00:14,  2.02it/s]"
     ]
    },
    {
     "name": "stdout",
     "output_type": "stream",
     "text": [
      "Journal of Statistical Computation and Simulation has homepage_url and type journal\n"
     ]
    },
    {
     "name": "stderr",
     "output_type": "stream",
     "text": [
      " 97%|███████████████████████████████████████████████████████████████████▏ | 1054/1083 [08:18<00:14,  1.98it/s]"
     ]
    },
    {
     "name": "stdout",
     "output_type": "stream",
     "text": [
      "Journal of military studies has homepage_url and type journal\n"
     ]
    },
    {
     "name": "stderr",
     "output_type": "stream",
     "text": [
      " 97%|███████████████████████████████████████████████████████████████████▏ | 1055/1083 [08:19<00:13,  2.04it/s]"
     ]
    },
    {
     "name": "stdout",
     "output_type": "stream",
     "text": [
      "Environment And Planning C: Politics And Space has homepage_url and type journal\n"
     ]
    },
    {
     "name": "stderr",
     "output_type": "stream",
     "text": [
      " 98%|███████████████████████████████████████████████████████████████████▍ | 1058/1083 [08:21<00:13,  1.84it/s]"
     ]
    },
    {
     "name": "stdout",
     "output_type": "stream",
     "text": [
      "Jurnal keamanan nasional has homepage_url and type journal\n"
     ]
    },
    {
     "name": "stderr",
     "output_type": "stream",
     "text": [
      " 98%|███████████████████████████████████████████████████████████████████▍ | 1059/1083 [08:21<00:12,  1.88it/s]"
     ]
    },
    {
     "name": "stdout",
     "output_type": "stream",
     "text": [
      "Springer proceedings in complexity has homepage_url and type book series\n"
     ]
    },
    {
     "name": "stderr",
     "output_type": "stream",
     "text": [
      " 98%|███████████████████████████████████████████████████████████████████▊ | 1064/1083 [08:23<00:09,  2.06it/s]"
     ]
    },
    {
     "name": "stdout",
     "output_type": "stream",
     "text": [
      "Journal on Baltic Security has homepage_url and type journal\n"
     ]
    },
    {
     "name": "stderr",
     "output_type": "stream",
     "text": [
      " 98%|███████████████████████████████████████████████████████████████████▉ | 1066/1083 [08:24<00:07,  2.18it/s]"
     ]
    },
    {
     "name": "stdout",
     "output_type": "stream",
     "text": [
      "International Journal of Simulation and Process Modelling has homepage_url and type journal\n"
     ]
    },
    {
     "name": "stderr",
     "output_type": "stream",
     "text": [
      " 99%|████████████████████████████████████████████████████████████████████ | 1069/1083 [08:26<00:06,  2.06it/s]"
     ]
    },
    {
     "name": "stdout",
     "output_type": "stream",
     "text": [
      "Alexandria Engineering Journal has homepage_url and type journal\n"
     ]
    },
    {
     "name": "stderr",
     "output_type": "stream",
     "text": [
      " 99%|████████████████████████████████████████████████████████████████████▍| 1074/1083 [08:28<00:04,  2.23it/s]"
     ]
    },
    {
     "name": "stdout",
     "output_type": "stream",
     "text": [
      "Lecture notes on data engineering and communications technologies has homepage_url and type book series\n"
     ]
    },
    {
     "name": "stderr",
     "output_type": "stream",
     "text": [
      "100%|████████████████████████████████████████████████████████████████████▋| 1079/1083 [08:30<00:01,  2.10it/s]"
     ]
    },
    {
     "name": "stdout",
     "output_type": "stream",
     "text": [
      "Bulletin of \"Carol I\" National Defense University has homepage_url and type journal\n"
     ]
    },
    {
     "name": "stderr",
     "output_type": "stream",
     "text": [
      "100%|████████████████████████████████████████████████████████████████████▊| 1081/1083 [08:31<00:00,  2.10it/s]"
     ]
    },
    {
     "name": "stdout",
     "output_type": "stream",
     "text": [
      "Sistemi ozbroênnâ ì vìjsʹkova tehnìka has homepage_url and type journal\n"
     ]
    },
    {
     "name": "stderr",
     "output_type": "stream",
     "text": [
      "100%|████████████████████████████████████████████████████████████████████▉| 1082/1083 [08:32<00:00,  2.06it/s]"
     ]
    },
    {
     "name": "stdout",
     "output_type": "stream",
     "text": [
      "Aviation has homepage_url and type journal\n"
     ]
    },
    {
     "name": "stderr",
     "output_type": "stream",
     "text": [
      "100%|█████████████████████████████████████████████████████████████████████| 1083/1083 [08:32<00:00,  2.11it/s]"
     ]
    },
    {
     "name": "stdout",
     "output_type": "stream",
     "text": [
      "Frontiers in space technologies has homepage_url and type journal\n"
     ]
    },
    {
     "name": "stderr",
     "output_type": "stream",
     "text": [
      "\n"
     ]
    }
   ],
   "source": [
    "source_page_dict = get_display_page_dict(sources_list)"
   ]
  },
  {
   "cell_type": "code",
   "execution_count": 64,
   "id": "e7f07508-09a3-47ab-b410-c0634fdc20b5",
   "metadata": {},
   "outputs": [],
   "source": [
    "import pickle\n",
    "\n",
    "with open(\"source_page_dict.pkl\", \"wb\") as f:\n",
    "    pickle.dump(source_page_dict, f)"
   ]
  },
  {
   "cell_type": "code",
   "execution_count": 65,
   "id": "56d854c2-d6e0-4c5a-a994-204cda8e290c",
   "metadata": {},
   "outputs": [],
   "source": [
    "with open(\"source_page_dict.pkl\", \"rb\") as f:\n",
    "    source_dict = pickle.load(f)"
   ]
  },
  {
   "cell_type": "code",
   "execution_count": 66,
   "id": "56d9418b-7f9a-4b3a-9430-fe8cf005e819",
   "metadata": {},
   "outputs": [],
   "source": [
    "def get_journals_cluster_sort(dc:pd.DataFrame, cl:int):\n",
    "    \"\"\"\n",
    "    restricts the dataframe dc to cluster value cl\n",
    "    and returns the results grouped by source (where\n",
    "    source_type == 'journal') sorted\n",
    "    by the some of probablity descending\n",
    "    \"\"\"\n",
    "    dg = dc[dc['paper_cluster'] == cl].copy()\n",
    "    print(cl)\n",
    "    dv = dg[dg['source_type'] == 'journal'].groupby(['source'])['paper_cluster_score'].sum().to_frame()\n",
    "    dv.sort_values('paper_cluster_score', ascending=False, inplace=True)\n",
    "    dv['journal'] = dv.index\n",
    "    dv['hompage_url'] = dv['journal'].map(source_dict)\n",
    "    kw = centroids[centroids.cluster == cl]['keywords'].iloc[0]\n",
    "    return dv, kw"
   ]
  },
  {
   "cell_type": "code",
   "execution_count": 68,
   "id": "71ab49c2-4c5c-454f-a620-e26fa1568434",
   "metadata": {},
   "outputs": [
    {
     "name": "stdout",
     "output_type": "stream",
     "text": [
      "2\n"
     ]
    },
    {
     "data": {
      "text/html": [
       "<div>\n",
       "<style scoped>\n",
       "    .dataframe tbody tr th:only-of-type {\n",
       "        vertical-align: middle;\n",
       "    }\n",
       "\n",
       "    .dataframe tbody tr th {\n",
       "        vertical-align: top;\n",
       "    }\n",
       "\n",
       "    .dataframe thead th {\n",
       "        text-align: right;\n",
       "    }\n",
       "</style>\n",
       "<table border=\"1\" class=\"dataframe\">\n",
       "  <thead>\n",
       "    <tr style=\"text-align: right;\">\n",
       "      <th></th>\n",
       "      <th>paper_cluster_score</th>\n",
       "      <th>journal</th>\n",
       "      <th>hompage_url</th>\n",
       "    </tr>\n",
       "    <tr>\n",
       "      <th>source</th>\n",
       "      <th></th>\n",
       "      <th></th>\n",
       "      <th></th>\n",
       "    </tr>\n",
       "  </thead>\n",
       "  <tbody>\n",
       "    <tr>\n",
       "      <th>Industrial Robot-an International Journal</th>\n",
       "      <td>11.0</td>\n",
       "      <td>Industrial Robot-an International Journal</td>\n",
       "      <td>None</td>\n",
       "    </tr>\n",
       "    <tr>\n",
       "      <th>Mechatronics</th>\n",
       "      <td>7.0</td>\n",
       "      <td>Mechatronics</td>\n",
       "      <td>None</td>\n",
       "    </tr>\n",
       "    <tr>\n",
       "      <th>Computers and Electronics in Agriculture</th>\n",
       "      <td>5.139129</td>\n",
       "      <td>Computers and Electronics in Agriculture</td>\n",
       "      <td>https://www.journals.elsevier.com/computers-an...</td>\n",
       "    </tr>\n",
       "    <tr>\n",
       "      <th>Electronics</th>\n",
       "      <td>2.64805</td>\n",
       "      <td>Electronics</td>\n",
       "      <td>http://www.theiet.org/eletters</td>\n",
       "    </tr>\n",
       "    <tr>\n",
       "      <th>Robotikusu, Mekatoronikusu Koenkai koen gaiyoshu</th>\n",
       "      <td>1.825191</td>\n",
       "      <td>Robotikusu, Mekatoronikusu Koenkai koen gaiyoshu</td>\n",
       "      <td>NaN</td>\n",
       "    </tr>\n",
       "  </tbody>\n",
       "</table>\n",
       "</div>"
      ],
      "text/plain": [
       "                                                 paper_cluster_score   \n",
       "source                                                                 \n",
       "Industrial Robot-an International Journal                       11.0  \\\n",
       "Mechatronics                                                     7.0   \n",
       "Computers and Electronics in Agriculture                    5.139129   \n",
       "Electronics                                                  2.64805   \n",
       "Robotikusu, Mekatoronikusu Koenkai koen gaiyoshu            1.825191   \n",
       "\n",
       "                                                                                           journal   \n",
       "source                                                                                               \n",
       "Industrial Robot-an International Journal                Industrial Robot-an International Journal  \\\n",
       "Mechatronics                                                                          Mechatronics   \n",
       "Computers and Electronics in Agriculture                  Computers and Electronics in Agriculture   \n",
       "Electronics                                                                            Electronics   \n",
       "Robotikusu, Mekatoronikusu Koenkai koen gaiyoshu  Robotikusu, Mekatoronikusu Koenkai koen gaiyoshu   \n",
       "\n",
       "                                                                                        hompage_url  \n",
       "source                                                                                               \n",
       "Industrial Robot-an International Journal                                                      None  \n",
       "Mechatronics                                                                                   None  \n",
       "Computers and Electronics in Agriculture          https://www.journals.elsevier.com/computers-an...  \n",
       "Electronics                                                          http://www.theiet.org/eletters  \n",
       "Robotikusu, Mekatoronikusu Koenkai koen gaiyoshu                                                NaN  "
      ]
     },
     "execution_count": 68,
     "metadata": {},
     "output_type": "execute_result"
    }
   ],
   "source": [
    "dv, kw = get_journals_cluster_sort(dftriple, 2)\n",
    "dv.head()"
   ]
  },
  {
   "cell_type": "code",
   "execution_count": 69,
   "id": "ce3980a0-c9d4-47dd-bae3-24db180ee60b",
   "metadata": {},
   "outputs": [
    {
     "name": "stderr",
     "output_type": "stream",
     "text": [
      "100%|█████████████████████████████████████████████████████████████████████| 2758/2758 [21:18<00:00,  2.16it/s]\n"
     ]
    }
   ],
   "source": [
    "affils_list = dftriple['display_name'].unique().tolist()\n",
    "type(affils_list), len(affils_list)\n",
    "\n",
    "affil_json = Institutions().filter(display_name = affils_list[1]).get()\n",
    "\n",
    "def get_affil_json(s:str):\n",
    "    \"\"\"\n",
    "    s is an openalex Sources display_name\n",
    "    return that Sources object\n",
    "    \"\"\"\n",
    "    affil_json = Institutions().search_filter(display_name = s).get()\n",
    "    #a = source_json[0]['type']\n",
    "    if \"geo\" in affil_json[0]:\n",
    "       # print(f\"{s} has homepage_url and type {source_json[0]['type']}\")\n",
    "        return affil_json[0][\"geo\"][\"latitude\"], affil_json[0][\"geo\"][\"longitude\"]\n",
    "    else:\n",
    "        return None, None\n",
    "    \n",
    "def get_display_geo_dict(sl:list):\n",
    "    \"\"\"\n",
    "    sl is a list of Institution display_name values\n",
    "    returns the dictionary mapping\n",
    "    display_names with (latitude, longitude) values.\"\"\"\n",
    "    mapping_dict = dict()\n",
    "    for s in tqdm(sl):\n",
    "        try:\n",
    "            mapping_dict[s] = get_affil_json(s)\n",
    "        except:\n",
    "            pass\n",
    "    return mapping_dict\n",
    "\n",
    "affil_geo_dict = get_display_geo_dict(affils_list)\n",
    "\n",
    "\n",
    "import pickle\n",
    "\n",
    "with open(\"affil_geo_dict.pkl\", \"wb\") as f:\n",
    "    pickle.dump(affil_geo_dict, f)"
   ]
  },
  {
   "cell_type": "code",
   "execution_count": 98,
   "id": "9e91e910-5f1e-43e6-88f9-00c8f35f4e4e",
   "metadata": {},
   "outputs": [],
   "source": [
    "#affil_geo_dict\n",
    "from langchain.chat_models import ChatOpenAI\n",
    "from langchain import PromptTemplate\n",
    "from langchain.chains import LLMChain\n",
    "from langchain.callbacks.streaming_stdout import StreamingStdOutCallbackHandler\n"
   ]
  },
  {
   "cell_type": "code",
   "execution_count": 99,
   "id": "510ef8e9-65d2-4bec-9190-2d9c46f01424",
   "metadata": {},
   "outputs": [],
   "source": [
    "llm = ChatOpenAI(model_name = 'gpt-4', # 'gpt-3.5-turbo', # 'text-davinci-003' , 'gpt-3.5-turbo'\n",
    "             temperature=0.6,\n",
    "             max_tokens=600)"
   ]
  },
  {
   "cell_type": "code",
   "execution_count": 101,
   "id": "d125cb27-c847-4e66-826e-f3a79b4747a0",
   "metadata": {},
   "outputs": [],
   "source": [
    "topic_template = \"\"\"\n",
    "I want you to act as a naming consultant for scientific topics based on keyphrases.\n",
    "\n",
    "Return a brief but detailed description of the scientific topic and applications related to\n",
    "the scientific field desribed by the list of keyphrases and article titles. The description should be meaningful to an\n",
    "new intelligence analyst. Highlight typical applications. Highlight any dual use technologies that may be of concern to the United States\n",
    "Government.\n",
    "\n",
    "What is a good summary of the scientific topic related to {topic_phrases} with article titles {topic_titles}?\n",
    "Provide the summary in about 80 words. \n",
    "Please end with a complete sentence.\n",
    "\"\"\"\n",
    "\n",
    "prompt_topic = PromptTemplate(\n",
    "    input_variables=[\"topic_phrases\",\"topic_titles\"],\n",
    "    template=topic_template,\n",
    ")\n",
    "\n",
    "chain_topic= LLMChain(llm=llm, prompt=prompt_topic)\n",
    "\n",
    "\n",
    "\n",
    "def get_topic_llm_description(key_phrases:list, key_titles:list):\n",
    "    \"\"\"\n",
    "    takes in the key_phrases list\n",
    "    and returns the openai returned description.\n",
    "    \"\"\"\n",
    "    topic_phrases = \", \".join(key_phrases)\n",
    "    topic_titles = \", \".join(key_titles)\n",
    "    return chain_topic.run(topic_phrases=topic_phrases)"
   ]
  },
  {
   "cell_type": "code",
   "execution_count": 103,
   "id": "228f34ec-578a-4248-b67c-16a185f0dcf2",
   "metadata": {},
   "outputs": [
    {
     "name": "stdout",
     "output_type": "stream",
     "text": [
      "0.27.7\n"
     ]
    }
   ],
   "source": [
    "import openai\n",
    "print(openai.__version__)"
   ]
  },
  {
   "cell_type": "code",
   "execution_count": null,
   "id": "4da73995-61f4-4767-8598-28fdf64d00f0",
   "metadata": {},
   "outputs": [],
   "source": []
  }
 ],
 "metadata": {
  "kernelspec": {
   "display_name": "Python 3 (ipykernel)",
   "language": "python",
   "name": "python3"
  },
  "language_info": {
   "codemirror_mode": {
    "name": "ipython",
    "version": 3
   },
   "file_extension": ".py",
   "mimetype": "text/x-python",
   "name": "python",
   "nbconvert_exporter": "python",
   "pygments_lexer": "ipython3",
   "version": "3.10.6"
  }
 },
 "nbformat": 4,
 "nbformat_minor": 5
}
